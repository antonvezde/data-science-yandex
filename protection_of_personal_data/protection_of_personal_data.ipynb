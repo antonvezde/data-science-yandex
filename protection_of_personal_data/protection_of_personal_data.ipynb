{
 "cells": [
  {
   "cell_type": "markdown",
   "id": "d6334b7a",
   "metadata": {},
   "source": [
    "Цель проекта: Вам нужно защитить данные клиентов страховой компании «Хоть потоп». Разработайте такой метод преобразования данных, чтобы по ним было сложно восстановить персональную информацию. Обоснуйте корректность его работы."
   ]
  },
  {
   "cell_type": "markdown",
   "id": "171cd75a",
   "metadata": {},
   "source": [
    "## Импортирую библиотеки"
   ]
  },
  {
   "cell_type": "code",
   "execution_count": 148,
   "id": "0d2d4e1a",
   "metadata": {},
   "outputs": [],
   "source": [
    "import numpy as np\n",
    "import pandas as pd\n",
    "import os\n",
    "\n",
    "from sklearn.linear_model import LinearRegression\n",
    "from sklearn.model_selection import train_test_split\n",
    "from sklearn.preprocessing import StandardScaler\n",
    "from sklearn.pipeline import make_pipeline\n",
    "from sklearn.metrics import r2_score, mean_squared_error"
   ]
  },
  {
   "cell_type": "markdown",
   "id": "c6d78b9a",
   "metadata": {},
   "source": [
    "## Загружаю и изучаю данные"
   ]
  },
  {
   "cell_type": "code",
   "execution_count": 149,
   "id": "583ced7a",
   "metadata": {},
   "outputs": [],
   "source": [
    "pth1 = '/datasets/insurance.csv'\n",
    "pth2 = 'insurance.csv'\n",
    "\n",
    "if os.path.exists(pth1):\n",
    "    df = pd.read_csv(pth1)\n",
    "elif os.path.exists(pth2):\n",
    "    df = pd.read_csv(pth2)\n",
    "else:\n",
    "    print('Something is wrong. Please, check file path.')"
   ]
  },
  {
   "cell_type": "code",
   "execution_count": 150,
   "id": "ba103ef1",
   "metadata": {},
   "outputs": [
    {
     "data": {
      "text/html": [
       "<div>\n",
       "<style scoped>\n",
       "    .dataframe tbody tr th:only-of-type {\n",
       "        vertical-align: middle;\n",
       "    }\n",
       "\n",
       "    .dataframe tbody tr th {\n",
       "        vertical-align: top;\n",
       "    }\n",
       "\n",
       "    .dataframe thead th {\n",
       "        text-align: right;\n",
       "    }\n",
       "</style>\n",
       "<table border=\"1\" class=\"dataframe\">\n",
       "  <thead>\n",
       "    <tr style=\"text-align: right;\">\n",
       "      <th></th>\n",
       "      <th>Пол</th>\n",
       "      <th>Возраст</th>\n",
       "      <th>Зарплата</th>\n",
       "      <th>Члены семьи</th>\n",
       "      <th>Страховые выплаты</th>\n",
       "    </tr>\n",
       "  </thead>\n",
       "  <tbody>\n",
       "    <tr>\n",
       "      <th>count</th>\n",
       "      <td>5000.000000</td>\n",
       "      <td>5000.000000</td>\n",
       "      <td>5000.000000</td>\n",
       "      <td>5000.000000</td>\n",
       "      <td>5000.000000</td>\n",
       "    </tr>\n",
       "    <tr>\n",
       "      <th>mean</th>\n",
       "      <td>0.499000</td>\n",
       "      <td>30.952800</td>\n",
       "      <td>39916.360000</td>\n",
       "      <td>1.194200</td>\n",
       "      <td>0.148000</td>\n",
       "    </tr>\n",
       "    <tr>\n",
       "      <th>std</th>\n",
       "      <td>0.500049</td>\n",
       "      <td>8.440807</td>\n",
       "      <td>9900.083569</td>\n",
       "      <td>1.091387</td>\n",
       "      <td>0.463183</td>\n",
       "    </tr>\n",
       "    <tr>\n",
       "      <th>min</th>\n",
       "      <td>0.000000</td>\n",
       "      <td>18.000000</td>\n",
       "      <td>5300.000000</td>\n",
       "      <td>0.000000</td>\n",
       "      <td>0.000000</td>\n",
       "    </tr>\n",
       "    <tr>\n",
       "      <th>25%</th>\n",
       "      <td>0.000000</td>\n",
       "      <td>24.000000</td>\n",
       "      <td>33300.000000</td>\n",
       "      <td>0.000000</td>\n",
       "      <td>0.000000</td>\n",
       "    </tr>\n",
       "    <tr>\n",
       "      <th>50%</th>\n",
       "      <td>0.000000</td>\n",
       "      <td>30.000000</td>\n",
       "      <td>40200.000000</td>\n",
       "      <td>1.000000</td>\n",
       "      <td>0.000000</td>\n",
       "    </tr>\n",
       "    <tr>\n",
       "      <th>75%</th>\n",
       "      <td>1.000000</td>\n",
       "      <td>37.000000</td>\n",
       "      <td>46600.000000</td>\n",
       "      <td>2.000000</td>\n",
       "      <td>0.000000</td>\n",
       "    </tr>\n",
       "    <tr>\n",
       "      <th>max</th>\n",
       "      <td>1.000000</td>\n",
       "      <td>65.000000</td>\n",
       "      <td>79000.000000</td>\n",
       "      <td>6.000000</td>\n",
       "      <td>5.000000</td>\n",
       "    </tr>\n",
       "  </tbody>\n",
       "</table>\n",
       "</div>"
      ],
      "text/plain": [
       "               Пол      Возраст      Зарплата  Члены семьи  Страховые выплаты\n",
       "count  5000.000000  5000.000000   5000.000000  5000.000000        5000.000000\n",
       "mean      0.499000    30.952800  39916.360000     1.194200           0.148000\n",
       "std       0.500049     8.440807   9900.083569     1.091387           0.463183\n",
       "min       0.000000    18.000000   5300.000000     0.000000           0.000000\n",
       "25%       0.000000    24.000000  33300.000000     0.000000           0.000000\n",
       "50%       0.000000    30.000000  40200.000000     1.000000           0.000000\n",
       "75%       1.000000    37.000000  46600.000000     2.000000           0.000000\n",
       "max       1.000000    65.000000  79000.000000     6.000000           5.000000"
      ]
     },
     "execution_count": 150,
     "metadata": {},
     "output_type": "execute_result"
    }
   ],
   "source": [
    "df.describe()"
   ]
  },
  {
   "cell_type": "code",
   "execution_count": 151,
   "id": "f92d2a4e",
   "metadata": {},
   "outputs": [
    {
     "data": {
      "text/plain": [
       "Пол                  0\n",
       "Возраст              0\n",
       "Зарплата             0\n",
       "Члены семьи          0\n",
       "Страховые выплаты    0\n",
       "dtype: int64"
      ]
     },
     "execution_count": 151,
     "metadata": {},
     "output_type": "execute_result"
    }
   ],
   "source": [
    "df.isna().sum()"
   ]
  },
  {
   "cell_type": "code",
   "execution_count": 152,
   "id": "5f3d986f",
   "metadata": {},
   "outputs": [
    {
     "name": "stdout",
     "output_type": "stream",
     "text": [
      "<class 'pandas.core.frame.DataFrame'>\n",
      "RangeIndex: 5000 entries, 0 to 4999\n",
      "Data columns (total 5 columns):\n",
      " #   Column             Non-Null Count  Dtype  \n",
      "---  ------             --------------  -----  \n",
      " 0   Пол                5000 non-null   int64  \n",
      " 1   Возраст            5000 non-null   float64\n",
      " 2   Зарплата           5000 non-null   float64\n",
      " 3   Члены семьи        5000 non-null   int64  \n",
      " 4   Страховые выплаты  5000 non-null   int64  \n",
      "dtypes: float64(2), int64(3)\n",
      "memory usage: 195.4 KB\n"
     ]
    }
   ],
   "source": [
    "df.info()"
   ]
  },
  {
   "cell_type": "code",
   "execution_count": 153,
   "id": "3b0324f8",
   "metadata": {},
   "outputs": [
    {
     "name": "stdout",
     "output_type": "stream",
     "text": [
      "<class 'pandas.core.frame.DataFrame'>\n",
      "RangeIndex: 5000 entries, 0 to 4999\n",
      "Data columns (total 5 columns):\n",
      " #   Column             Non-Null Count  Dtype\n",
      "---  ------             --------------  -----\n",
      " 0   Пол                5000 non-null   int64\n",
      " 1   Возраст            5000 non-null   int64\n",
      " 2   Зарплата           5000 non-null   int64\n",
      " 3   Члены семьи        5000 non-null   int64\n",
      " 4   Страховые выплаты  5000 non-null   int64\n",
      "dtypes: int64(5)\n",
      "memory usage: 195.4 KB\n"
     ]
    }
   ],
   "source": [
    "# Меняю тип данных с float64 на Int\n",
    "df = df.astype('int')\n",
    "df.info()"
   ]
  },
  {
   "cell_type": "code",
   "execution_count": 154,
   "id": "133712c7",
   "metadata": {},
   "outputs": [
    {
     "data": {
      "text/plain": [
       "153"
      ]
     },
     "execution_count": 154,
     "metadata": {},
     "output_type": "execute_result"
    }
   ],
   "source": [
    "df.duplicated().sum()"
   ]
  },
  {
   "cell_type": "code",
   "execution_count": 155,
   "id": "f2f4aa94",
   "metadata": {},
   "outputs": [],
   "source": [
    "df.reset_index(drop=True, inplace=True)"
   ]
  },
  {
   "cell_type": "code",
   "execution_count": 156,
   "id": "5a09a503",
   "metadata": {},
   "outputs": [
    {
     "data": {
      "text/plain": [
       "0"
      ]
     },
     "execution_count": 156,
     "metadata": {},
     "output_type": "execute_result"
    }
   ],
   "source": [
    "df.drop_duplicates(inplace=True)\n",
    "df.duplicated().sum()"
   ]
  },
  {
   "cell_type": "markdown",
   "id": "a47dce7d",
   "metadata": {},
   "source": [
    "Вывод.  \n",
    "Был изменен тип данных с float64 на Int. Пропусков нет. Были удалены дубликаты."
   ]
  },
  {
   "cell_type": "markdown",
   "id": "a834f3ad",
   "metadata": {},
   "source": [
    "## Ответьте на вопрос и обоснуйте решение"
   ]
  },
  {
   "cell_type": "markdown",
   "id": "51de2efd",
   "metadata": {},
   "source": [
    "Признаки умножают на обратимую матрицу. Изменится ли качество линейной регрессии? (Её можно обучить заново.)  \n",
    "a. Изменится. Приведите примеры матриц.  \n",
    "b. Не изменится. Укажите, как связаны параметры линейной регрессии в исходной задаче и в преобразованной."
   ]
  },
  {
   "cell_type": "markdown",
   "id": "971d6553",
   "metadata": {},
   "source": [
    "Дано:  \n",
    "$X$ - матрица признаков с размерностью $m \\cdot n$   \n",
    "$y$ - вектор целевого признака с размерностью $m$   \n",
    "$w$ - вектор весов длиною $n$  \n",
    "$P$ - матрица, на которую умножается матрица признаков $X$  \n",
    "$P$ - квадратная матрица с размерностью $n \\cdot n$  \n",
    "$P$ должна иметь обратную матрицу $P^{-1}$  \n",
    "\n",
    "Доказать:  \n",
    "Как связаны параметры линейной регрессии в исходной и преобразованной задачах?\n",
    "\n",
    "Доказательство.  \n",
    "\n",
    "$$\n",
    "a=Xw, \\ где \\ a - вектор \\ предсказаний \\ (по \\ условию);\\\\\n",
    "w=(X^{T}X)^{-1}X^{T}y \\ (по \\ условию);\\\\\n",
    "Новая \\ матрица  \\  X_{new} \\ после \\ умножения \\ матрицы \\ признаков  \\ X \\ на \\ матрицу \\ P:\\\\\n",
    "X_{new} = XP\\\\\n",
    "Новое \\ значение \\ весов:\\\\\n",
    "w_{new}=(X_{new}^{T}X_{new})^{-1}X_{new}^{T}y\\\\\n",
    "Подставляю \\ X_{new} = XP \\  в  \\ w_{new} \\  и  \\  получаю:\\\\\n",
    "w_{new}=((XP)^{T}XP)^{-1}(XP)^{T}y\\\\\n",
    "Раскрываю \\ (XP)^{T} \\ (по \\ правилам \\ меняется \\ порядок \\ умножения):\\\\\n",
    "w_{new}=(P^{T}X^{T}XP)^{-1}P^{T}X^{T}y\\\\\n",
    "Раскрываю \\ скобки \\ (по \\ правилам \\ меняется \\ порядок \\ умножения):\\\\\n",
    "w_{new}=P^{-1}(X^{T}X)^{-1}(P^{T})^{-1}P^{T}X^{T}y\\\\\n",
    "По \\ условию, \\ P  \\ имеет \\ обратную \\ матрицу \\ P^{-1}, \\ тогда \\ (P^{T})^{-1}P^{T}=E:\\\\\n",
    "w_{new}=P^{-1}(X^{T}X)^{-1}EX^{T}y\\\\\n",
    "Умножение \\ на \\ единичную \\ матрицу \\ E \\ равно \\ самой \\ матрице \\:\\\\\n",
    "w_{new}=P^{-1}(X^{T}X)^{-1}X^{T}y\\\\\n",
    "По \\ условию \\ , \\ w=(X^{T}X)^{-1}X^{T}y. \\ Заменим \\ и \\ получим:\\\\\n",
    "w_{new}=P^{-1}w\\\\\n",
    "По \\ условию \\ , \\ a=Xw. \\ Подставлю \\ w_{new} \\ и \\ X_{new}:\\\\\n",
    "a_{new}=X_{new}w_{new}=XPP^{-1}w\\\\\n",
    "По \\ определению \\ PP^{-1}=E:\\\\\n",
    "a_{new}=XEw\\\\\n",
    "Умножение \\ на \\ единичную \\ матрицу \\ равно \\ самой \\ матрице:\\\\\n",
    "a_{new}=Xw\\\\\n",
    "По \\ условию \\ a=Xw, \\ поэтому:\\\\\n",
    "a_{new}=a\\\\\n",
    "ч.т.д.\n",
    "$$\n"
   ]
  },
  {
   "cell_type": "markdown",
   "id": "fd552632",
   "metadata": {},
   "source": [
    "Вывод.  \n",
    "Вектор предсказаний не изменится, а изменятся веса, которые можно переобучить."
   ]
  },
  {
   "cell_type": "markdown",
   "id": "96381cc3",
   "metadata": {},
   "source": [
    "## Алгоритм преобразования данных"
   ]
  },
  {
   "cell_type": "markdown",
   "id": "4f3c07cd",
   "metadata": {},
   "source": [
    "Алгоритм:  \n",
    "1) Создаю матрицу 4 на 4  \n",
    "2) Проверяю матрицу на обратимость  \n",
    "3) Выделяю признаки и целевой признак  \n",
    "4) Масштабирую признаки  \n",
    "5) Расчет весов w  \n",
    "6) Расчет вектора предсказаний a  \n",
    "7) Умножение масштабированных признаков на матрицу P  \n",
    "8) Расчет весов w_new   \n",
    "9) Расчет вектора предсказаний a_new  \n",
    "10) Расчет разницы между a и a_new"
   ]
  },
  {
   "cell_type": "code",
   "execution_count": 157,
   "id": "4526788e",
   "metadata": {},
   "outputs": [
    {
     "data": {
      "text/plain": [
       "array([[5, 8, 9, 5],\n",
       "       [0, 0, 1, 7],\n",
       "       [6, 9, 2, 4],\n",
       "       [5, 2, 4, 2]])"
      ]
     },
     "execution_count": 157,
     "metadata": {},
     "output_type": "execute_result"
    }
   ],
   "source": [
    "# Создаю матрицу 4 на 4\n",
    "np.random.seed(1)\n",
    "P = np.random.randint(10, size=(4,4))\n",
    "P"
   ]
  },
  {
   "cell_type": "code",
   "execution_count": 158,
   "id": "ff105841",
   "metadata": {},
   "outputs": [
    {
     "data": {
      "text/plain": [
       "array([[-0.12647754, -0.01536643,  0.05437352,  0.26122931],\n",
       "       [ 0.06264775, -0.04846336,  0.09456265, -0.17612293],\n",
       "       [ 0.13652482, -0.03014184, -0.12411348,  0.01241135],\n",
       "       [-0.01950355,  0.14716312,  0.0177305 , -0.00177305]])"
      ]
     },
     "execution_count": 158,
     "metadata": {},
     "output_type": "execute_result"
    }
   ],
   "source": [
    "# Проверяю, есть ли обратная матрица\n",
    "P_inverted = np.linalg.inv(P)\n",
    "P_inverted"
   ]
  },
  {
   "cell_type": "code",
   "execution_count": 159,
   "id": "fad96719",
   "metadata": {},
   "outputs": [],
   "source": [
    "# Выделяю признаки\n",
    "X = df.drop('Страховые выплаты', axis=1)\n",
    "y = df['Страховые выплаты']"
   ]
  },
  {
   "cell_type": "code",
   "execution_count": 160,
   "id": "300b2ae4",
   "metadata": {},
   "outputs": [],
   "source": [
    "# Масштабирование данных\n",
    "scaler = StandardScaler()\n",
    "scaler.fit(X)\n",
    "X_scaled = scaler.transform(X)"
   ]
  },
  {
   "cell_type": "code",
   "execution_count": 161,
   "id": "318d1e50",
   "metadata": {},
   "outputs": [],
   "source": [
    "# Расчет весов w\n",
    "w = np.linalg.inv(X_scaled.T.dot(X_scaled)).dot(X_scaled.T).dot(y)\n",
    "# Расчет вектора предсказаний a\n",
    "a = X_scaled.dot(w)"
   ]
  },
  {
   "cell_type": "code",
   "execution_count": 162,
   "id": "66ae8e4c",
   "metadata": {},
   "outputs": [],
   "source": [
    "# Умножение\n",
    "X_scaled_p = X_scaled.dot(P)\n",
    "# Расчет весов w_new\n",
    "w_new = np.linalg.inv(X_scaled_p.T.dot(X_scaled_p)).dot(X_scaled_p.T).dot(y)\n",
    "# Расчет вектора предсказаний a_new\n",
    "a_new = X_scaled_p.dot(w_new)"
   ]
  },
  {
   "cell_type": "code",
   "execution_count": 163,
   "id": "027a49a4",
   "metadata": {},
   "outputs": [
    {
     "data": {
      "text/plain": [
       "-2.7845090057494748e-14"
      ]
     },
     "execution_count": 163,
     "metadata": {},
     "output_type": "execute_result"
    }
   ],
   "source": [
    "# Находим разницу между a и a_new\n",
    "(a - a_new).sum()"
   ]
  },
  {
   "cell_type": "markdown",
   "id": "f46436ef",
   "metadata": {},
   "source": [
    "Вывод.  \n",
    "Был описан и апробирован алгоритм преобразования данных. Было показано, что качество линейной регрессии не изменится."
   ]
  },
  {
   "cell_type": "markdown",
   "id": "0134a762",
   "metadata": {},
   "source": [
    "## Применение алгоритма"
   ]
  },
  {
   "cell_type": "markdown",
   "id": "87c9bed9",
   "metadata": {},
   "source": [
    "Применяю на X_scaled."
   ]
  },
  {
   "cell_type": "code",
   "execution_count": 164,
   "id": "184fedc7",
   "metadata": {},
   "outputs": [
    {
     "name": "stdout",
     "output_type": "stream",
     "text": [
      "MSE Score: 0.1252726382276536\n",
      "R2_Score на исходных данных:  0.4302010046633359\n"
     ]
    }
   ],
   "source": [
    "model = LinearRegression()\n",
    "model.fit(X_scaled, y)\n",
    "predictions = model.predict(X_scaled)\n",
    "mse = mean_squared_error(y, predictions)\n",
    "print('MSE Score:', mse)\n",
    "print('R2_Score на исходных данных: ', r2_score(y, predictions))"
   ]
  },
  {
   "cell_type": "markdown",
   "id": "01db60e8",
   "metadata": {},
   "source": [
    "Применяю на X_scaled_p."
   ]
  },
  {
   "cell_type": "code",
   "execution_count": 165,
   "id": "2a7459cb",
   "metadata": {},
   "outputs": [
    {
     "name": "stdout",
     "output_type": "stream",
     "text": [
      "MSE Score: 0.1252726382276536\n",
      "R2_Score на исходных данных:  0.4302010046633359\n"
     ]
    }
   ],
   "source": [
    "model = LinearRegression()\n",
    "model.fit(X_scaled_p, y)\n",
    "predictions = model.predict(X_scaled_p)\n",
    "mse = mean_squared_error(y, predictions)\n",
    "print('MSE Score:', mse)\n",
    "print('R2_Score на исходных данных: ', r2_score(y, predictions))"
   ]
  },
  {
   "cell_type": "markdown",
   "id": "0260a851",
   "metadata": {},
   "source": [
    "Вывод.  \n",
    "Данны пользователей были зашифрованы. Было доказано, что умножение признкаов на матрицу, которая имеет обратнуюй ей матрицу, не влияет на качество обучение модели линейной регрессии."
   ]
  }
 ],
 "metadata": {
  "kernelspec": {
   "display_name": "Python 3 (ipykernel)",
   "language": "python",
   "name": "python3"
  },
  "language_info": {
   "codemirror_mode": {
    "name": "ipython",
    "version": 3
   },
   "file_extension": ".py",
   "mimetype": "text/x-python",
   "name": "python",
   "nbconvert_exporter": "python",
   "pygments_lexer": "ipython3",
   "version": "3.9.9"
  },
  "toc": {
   "base_numbering": 1,
   "nav_menu": {},
   "number_sections": true,
   "sideBar": true,
   "skip_h1_title": false,
   "title_cell": "Table of Contents",
   "title_sidebar": "Contents",
   "toc_cell": false,
   "toc_position": {},
   "toc_section_display": true,
   "toc_window_display": false
  }
 },
 "nbformat": 4,
 "nbformat_minor": 5
}
