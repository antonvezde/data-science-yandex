{
 "cells": [
  {
   "cell_type": "markdown",
   "metadata": {},
   "source": [
    "## Шаг 1: Считываю файлы"
   ]
  },
  {
   "cell_type": "code",
   "execution_count": 127,
   "metadata": {},
   "outputs": [],
   "source": [
    "import pandas as pd\n",
    "import numpy as np\n",
    "import matplotlib.pyplot as plt\n",
    "from matplotlib.pyplot import cm\n",
    "import seaborn as sns\n",
    "from scipy import stats as st"
   ]
  },
  {
   "cell_type": "code",
   "execution_count": 128,
   "metadata": {},
   "outputs": [],
   "source": [
    "df = pd.read_csv('games.csv')"
   ]
  },
  {
   "cell_type": "markdown",
   "metadata": {},
   "source": [
    "## Шаг 2: Подготавливаю данные"
   ]
  },
  {
   "cell_type": "code",
   "execution_count": 129,
   "metadata": {},
   "outputs": [],
   "source": [
    "# Привожу названия столбцов к нижнему регистру\n",
    "df.columns = map(str.lower, df.columns)"
   ]
  },
  {
   "cell_type": "code",
   "execution_count": 130,
   "metadata": {},
   "outputs": [
    {
     "name": "stdout",
     "output_type": "stream",
     "text": [
      "<class 'pandas.core.frame.DataFrame'>\n",
      "RangeIndex: 16715 entries, 0 to 16714\n",
      "Data columns (total 11 columns):\n",
      " #   Column           Non-Null Count  Dtype  \n",
      "---  ------           --------------  -----  \n",
      " 0   name             16713 non-null  object \n",
      " 1   platform         16715 non-null  object \n",
      " 2   year_of_release  16446 non-null  float64\n",
      " 3   genre            16713 non-null  object \n",
      " 4   na_sales         16715 non-null  float64\n",
      " 5   eu_sales         16715 non-null  float64\n",
      " 6   jp_sales         16715 non-null  float64\n",
      " 7   other_sales      16715 non-null  float64\n",
      " 8   critic_score     8137 non-null   float64\n",
      " 9   user_score       10014 non-null  object \n",
      " 10  rating           9949 non-null   object \n",
      "dtypes: float64(6), object(5)\n",
      "memory usage: 1.4+ MB\n"
     ]
    }
   ],
   "source": [
    "# Проверю тип данных в столбцах\n",
    "df.info()"
   ]
  },
  {
   "cell_type": "code",
   "execution_count": 131,
   "metadata": {},
   "outputs": [
    {
     "data": {
      "text/plain": [
       "name                  2\n",
       "platform              0\n",
       "year_of_release     269\n",
       "genre                 2\n",
       "na_sales              0\n",
       "eu_sales              0\n",
       "jp_sales              0\n",
       "other_sales           0\n",
       "critic_score       8578\n",
       "user_score         6701\n",
       "rating             6766\n",
       "dtype: int64"
      ]
     },
     "execution_count": 131,
     "metadata": {},
     "output_type": "execute_result"
    }
   ],
   "source": [
    "# Проверю NaN\n",
    "df.isna().sum()"
   ]
  },
  {
   "cell_type": "markdown",
   "metadata": {},
   "source": [
    "Удалю строки где есть NaN в столбце 'year_of_release', т.к. значений всего 269 (1.6% от всех данных), то и на статистику они не повлияют. Можно было взять года и названий игр, но не всегда года в названиях игр совпадают с их выпуском.  \n",
    "В 'name' и 'genre' тоже удалю, т.к. значений всего два в каждом.  \n",
    "Причиной пропусков может быть человеческий фактор. Или данные не загрузились должным образом."
   ]
  },
  {
   "cell_type": "code",
   "execution_count": 132,
   "metadata": {},
   "outputs": [],
   "source": [
    "# Удаляю\n",
    "df.dropna(subset=['year_of_release', 'name', 'genre'], inplace=True)"
   ]
  },
  {
   "cell_type": "markdown",
   "metadata": {},
   "source": [
    "Заменю NaN в столбце 'critic_score'. Сначала посмотрю, для каких платформ есть NaN. В переменной cs хранится лист с названиями платформ, где рейтинги NaN.  \n",
    "Причиной пропусков может быть то, что просто не ставили оценки, либо данных слишком мало. Либо в некоторых странах не ставили оценки."
   ]
  },
  {
   "cell_type": "code",
   "execution_count": 133,
   "metadata": {},
   "outputs": [
    {
     "data": {
      "text/plain": [
       "['2600',\n",
       " '3DO',\n",
       " 'GB',\n",
       " 'GEN',\n",
       " 'GG',\n",
       " 'N64',\n",
       " 'NES',\n",
       " 'NG',\n",
       " 'PCFX',\n",
       " 'SAT',\n",
       " 'SCD',\n",
       " 'SNES',\n",
       " 'TG16',\n",
       " 'WS']"
      ]
     },
     "execution_count": 133,
     "metadata": {},
     "output_type": "execute_result"
    }
   ],
   "source": [
    "cs = df.groupby('platform')['critic_score'].count().reset_index()\n",
    "cs = cs[cs['critic_score'] == 0].reset_index(drop=True)['platform'].to_list()\n",
    "cs  # Это список с платформами, где рейтинга вообще нет, т.е. только NaN"
   ]
  },
  {
   "cell_type": "markdown",
   "metadata": {},
   "source": [
    "Теперь в основном df заменю NaN в critic_score на нули только в тех платформах, где рейтинга вообще не было. Лист с такими платформами хранится в переменной cs (см. код выше)."
   ]
  },
  {
   "cell_type": "markdown",
   "metadata": {},
   "source": [
    "Посмотрю еще на всякий случай, где еще будут NaN."
   ]
  },
  {
   "cell_type": "code",
   "execution_count": 134,
   "metadata": {},
   "outputs": [
    {
     "data": {
      "text/plain": [
       "name                  0\n",
       "platform              0\n",
       "year_of_release       0\n",
       "genre                 0\n",
       "na_sales              0\n",
       "eu_sales              0\n",
       "jp_sales              0\n",
       "other_sales           0\n",
       "critic_score       1097\n",
       "user_score         1097\n",
       "rating             1097\n",
       "dtype: int64"
      ]
     },
     "execution_count": 134,
     "metadata": {},
     "output_type": "execute_result"
    }
   ],
   "source": [
    "df.query('platform in (@cs)').isna().sum()"
   ]
  },
  {
   "cell_type": "markdown",
   "metadata": {},
   "source": [
    "Получается, что в столбцах user_score и rating та же самая проблема!"
   ]
  },
  {
   "cell_type": "code",
   "execution_count": 135,
   "metadata": {},
   "outputs": [
    {
     "data": {
      "text/plain": [
       "name               0\n",
       "platform           0\n",
       "year_of_release    0\n",
       "genre              0\n",
       "na_sales           0\n",
       "eu_sales           0\n",
       "jp_sales           0\n",
       "other_sales        0\n",
       "critic_score       0\n",
       "user_score         0\n",
       "rating             0\n",
       "dtype: int64"
      ]
     },
     "execution_count": 135,
     "metadata": {},
     "output_type": "execute_result"
    }
   ],
   "source": [
    "# Заменяю NaN на нули в citing_score и user_score\n",
    "df.loc[df['platform'].isin(cs), ['critic_score', 'user_score']] = 0\n",
    "# Заменяю NaN на '-' в rating\n",
    "df.loc[df['platform'].isin(cs), 'rating'] = '-'\n",
    "# Проверяю. Все получилось.\n",
    "df.query('platform in (@cs)').isna().sum()"
   ]
  },
  {
   "cell_type": "markdown",
   "metadata": {},
   "source": [
    "Теперь заменяю NaN в critic_score по группам из platform на median."
   ]
  },
  {
   "cell_type": "code",
   "execution_count": 136,
   "metadata": {},
   "outputs": [
    {
     "data": {
      "text/plain": [
       "0"
      ]
     },
     "execution_count": 136,
     "metadata": {},
     "output_type": "execute_result"
    }
   ],
   "source": [
    "# Заменяю\n",
    "df['critic_score'] = df.groupby('platform')['critic_score'].transform(lambda x: x.fillna(x.median()))\n",
    "# Проверяю\n",
    "df['critic_score'].isna().sum()"
   ]
  },
  {
   "cell_type": "markdown",
   "metadata": {},
   "source": [
    "Теперь столбец user_score. Первое, что сделаю, поменяю значения tbd (to be determined) на NaN, потому-что потом буду менять эти значения на медианы по группам из platform. Затем преобразую из object в float, потому-что рейтинг не целочисленный."
   ]
  },
  {
   "cell_type": "code",
   "execution_count": 137,
   "metadata": {},
   "outputs": [],
   "source": [
    "# Заменяю значения tbd в столбце user_score на NaN\n",
    "df['user_score'] = df['user_score'].replace('tbd', np.nan)"
   ]
  },
  {
   "cell_type": "code",
   "execution_count": 138,
   "metadata": {},
   "outputs": [],
   "source": [
    "# Меняю на float\n",
    "df['user_score'] = pd.to_numeric(df['user_score'], errors='coerce')"
   ]
  },
  {
   "cell_type": "code",
   "execution_count": 139,
   "metadata": {},
   "outputs": [
    {
     "data": {
      "text/plain": [
       "0"
      ]
     },
     "execution_count": 139,
     "metadata": {},
     "output_type": "execute_result"
    }
   ],
   "source": [
    "# Теперь заменю на медиану по группам platform\n",
    "df['user_score'] = df.groupby('platform')['user_score'].transform(lambda x: x.fillna(x.median()))\n",
    "# Проверяю\n",
    "df['user_score'].isna().sum()"
   ]
  },
  {
   "cell_type": "markdown",
   "metadata": {},
   "source": [
    "Теперь столбец rating. В нем заменю NaN на '-'. B начале была идея заменить на значени из genre, которые известны, но простая проверка показала, что, например у жанра 'Sport' несколько уникальных значений rating. Покажу на примере снизу.  Причиной пропусков может быть то, что рейтинг в некоторые года просто не определяли. "
   ]
  },
  {
   "cell_type": "code",
   "execution_count": 140,
   "metadata": {},
   "outputs": [
    {
     "data": {
      "text/plain": [
       "array(['E', nan, 'E10+', 'T', 'M'], dtype=object)"
      ]
     },
     "execution_count": 140,
     "metadata": {},
     "output_type": "execute_result"
    }
   ],
   "source": [
    "# Пример\n",
    "df[(df['genre'] == 'Sports') & (df['rating'] != '-')]['rating'].unique()"
   ]
  },
  {
   "cell_type": "markdown",
   "metadata": {},
   "source": [
    "Меняю NaN на '-'."
   ]
  },
  {
   "cell_type": "code",
   "execution_count": 141,
   "metadata": {},
   "outputs": [
    {
     "data": {
      "text/plain": [
       "0"
      ]
     },
     "execution_count": 141,
     "metadata": {},
     "output_type": "execute_result"
    }
   ],
   "source": [
    "# Меняю NaN на '-'\n",
    "df.loc[df['rating'].isna(), 'rating'] = '-'\n",
    "# Проверяю\n",
    "df['rating'].isna().sum()"
   ]
  },
  {
   "cell_type": "code",
   "execution_count": 142,
   "metadata": {},
   "outputs": [],
   "source": [
    "# Поменяю float на int в столбце year_of_release, потому-что год дробным не бывает\n",
    "df['year_of_release'] = df['year_of_release'].astype('int')"
   ]
  },
  {
   "cell_type": "code",
   "execution_count": 143,
   "metadata": {},
   "outputs": [],
   "source": [
    "# Возвращаю индексы\n",
    "df.reset_index(drop=True, inplace=True)"
   ]
  },
  {
   "cell_type": "code",
   "execution_count": 144,
   "metadata": {},
   "outputs": [],
   "source": [
    "# Считаю суммарные продажи во всех регионах и записываю их в отдельный столбец\n",
    "df['total_sales'] = df['na_sales'] + df['eu_sales'] + df['jp_sales'] + df['other_sales']"
   ]
  },
  {
   "cell_type": "code",
   "execution_count": 145,
   "metadata": {},
   "outputs": [
    {
     "name": "stdout",
     "output_type": "stream",
     "text": [
      "<class 'pandas.core.frame.DataFrame'>\n",
      "RangeIndex: 16444 entries, 0 to 16443\n",
      "Data columns (total 12 columns):\n",
      " #   Column           Non-Null Count  Dtype  \n",
      "---  ------           --------------  -----  \n",
      " 0   name             16444 non-null  object \n",
      " 1   platform         16444 non-null  object \n",
      " 2   year_of_release  16444 non-null  int64  \n",
      " 3   genre            16444 non-null  object \n",
      " 4   na_sales         16444 non-null  float64\n",
      " 5   eu_sales         16444 non-null  float64\n",
      " 6   jp_sales         16444 non-null  float64\n",
      " 7   other_sales      16444 non-null  float64\n",
      " 8   critic_score     16444 non-null  float64\n",
      " 9   user_score       16444 non-null  float64\n",
      " 10  rating           16444 non-null  object \n",
      " 11  total_sales      16444 non-null  float64\n",
      "dtypes: float64(7), int64(1), object(4)\n",
      "memory usage: 1.5+ MB\n"
     ]
    }
   ],
   "source": [
    "# Результат по подготовке данных\n",
    "df.info()"
   ]
  },
  {
   "cell_type": "code",
   "execution_count": 146,
   "metadata": {},
   "outputs": [
    {
     "data": {
      "text/html": [
       "<div>\n",
       "<style scoped>\n",
       "    .dataframe tbody tr th:only-of-type {\n",
       "        vertical-align: middle;\n",
       "    }\n",
       "\n",
       "    .dataframe tbody tr th {\n",
       "        vertical-align: top;\n",
       "    }\n",
       "\n",
       "    .dataframe thead th {\n",
       "        text-align: right;\n",
       "    }\n",
       "</style>\n",
       "<table border=\"1\" class=\"dataframe\">\n",
       "  <thead>\n",
       "    <tr style=\"text-align: right;\">\n",
       "      <th></th>\n",
       "      <th>year_of_release</th>\n",
       "      <th>na_sales</th>\n",
       "      <th>eu_sales</th>\n",
       "      <th>jp_sales</th>\n",
       "      <th>other_sales</th>\n",
       "      <th>critic_score</th>\n",
       "      <th>user_score</th>\n",
       "      <th>total_sales</th>\n",
       "    </tr>\n",
       "  </thead>\n",
       "  <tbody>\n",
       "    <tr>\n",
       "      <th>count</th>\n",
       "      <td>16444.000000</td>\n",
       "      <td>16444.000000</td>\n",
       "      <td>16444.000000</td>\n",
       "      <td>16444.000000</td>\n",
       "      <td>16444.000000</td>\n",
       "      <td>16444.000000</td>\n",
       "      <td>16444.000000</td>\n",
       "      <td>16444.000000</td>\n",
       "    </tr>\n",
       "    <tr>\n",
       "      <th>mean</th>\n",
       "      <td>2006.486256</td>\n",
       "      <td>0.264012</td>\n",
       "      <td>0.145930</td>\n",
       "      <td>0.078487</td>\n",
       "      <td>0.047594</td>\n",
       "      <td>64.712692</td>\n",
       "      <td>6.883161</td>\n",
       "      <td>0.536023</td>\n",
       "    </tr>\n",
       "    <tr>\n",
       "      <th>std</th>\n",
       "      <td>5.875525</td>\n",
       "      <td>0.818378</td>\n",
       "      <td>0.506716</td>\n",
       "      <td>0.311100</td>\n",
       "      <td>0.188005</td>\n",
       "      <td>19.984363</td>\n",
       "      <td>2.133131</td>\n",
       "      <td>1.558786</td>\n",
       "    </tr>\n",
       "    <tr>\n",
       "      <th>min</th>\n",
       "      <td>1980.000000</td>\n",
       "      <td>0.000000</td>\n",
       "      <td>0.000000</td>\n",
       "      <td>0.000000</td>\n",
       "      <td>0.000000</td>\n",
       "      <td>0.000000</td>\n",
       "      <td>0.000000</td>\n",
       "      <td>0.000000</td>\n",
       "    </tr>\n",
       "    <tr>\n",
       "      <th>25%</th>\n",
       "      <td>2003.000000</td>\n",
       "      <td>0.000000</td>\n",
       "      <td>0.000000</td>\n",
       "      <td>0.000000</td>\n",
       "      <td>0.000000</td>\n",
       "      <td>65.000000</td>\n",
       "      <td>7.000000</td>\n",
       "      <td>0.060000</td>\n",
       "    </tr>\n",
       "    <tr>\n",
       "      <th>50%</th>\n",
       "      <td>2007.000000</td>\n",
       "      <td>0.080000</td>\n",
       "      <td>0.020000</td>\n",
       "      <td>0.000000</td>\n",
       "      <td>0.010000</td>\n",
       "      <td>69.000000</td>\n",
       "      <td>7.400000</td>\n",
       "      <td>0.170000</td>\n",
       "    </tr>\n",
       "    <tr>\n",
       "      <th>75%</th>\n",
       "      <td>2010.000000</td>\n",
       "      <td>0.240000</td>\n",
       "      <td>0.110000</td>\n",
       "      <td>0.040000</td>\n",
       "      <td>0.030000</td>\n",
       "      <td>73.500000</td>\n",
       "      <td>8.000000</td>\n",
       "      <td>0.470000</td>\n",
       "    </tr>\n",
       "    <tr>\n",
       "      <th>max</th>\n",
       "      <td>2016.000000</td>\n",
       "      <td>41.360000</td>\n",
       "      <td>28.960000</td>\n",
       "      <td>10.220000</td>\n",
       "      <td>10.570000</td>\n",
       "      <td>98.000000</td>\n",
       "      <td>9.700000</td>\n",
       "      <td>82.540000</td>\n",
       "    </tr>\n",
       "  </tbody>\n",
       "</table>\n",
       "</div>"
      ],
      "text/plain": [
       "       year_of_release      na_sales      eu_sales      jp_sales  \\\n",
       "count     16444.000000  16444.000000  16444.000000  16444.000000   \n",
       "mean       2006.486256      0.264012      0.145930      0.078487   \n",
       "std           5.875525      0.818378      0.506716      0.311100   \n",
       "min        1980.000000      0.000000      0.000000      0.000000   \n",
       "25%        2003.000000      0.000000      0.000000      0.000000   \n",
       "50%        2007.000000      0.080000      0.020000      0.000000   \n",
       "75%        2010.000000      0.240000      0.110000      0.040000   \n",
       "max        2016.000000     41.360000     28.960000     10.220000   \n",
       "\n",
       "        other_sales  critic_score    user_score   total_sales  \n",
       "count  16444.000000  16444.000000  16444.000000  16444.000000  \n",
       "mean       0.047594     64.712692      6.883161      0.536023  \n",
       "std        0.188005     19.984363      2.133131      1.558786  \n",
       "min        0.000000      0.000000      0.000000      0.000000  \n",
       "25%        0.000000     65.000000      7.000000      0.060000  \n",
       "50%        0.010000     69.000000      7.400000      0.170000  \n",
       "75%        0.030000     73.500000      8.000000      0.470000  \n",
       "max       10.570000     98.000000      9.700000     82.540000  "
      ]
     },
     "execution_count": 146,
     "metadata": {},
     "output_type": "execute_result"
    }
   ],
   "source": [
    "# Результат по подготовке данных\n",
    "df.describe()"
   ]
  },
  {
   "cell_type": "markdown",
   "metadata": {},
   "source": [
    "### Вывод"
   ]
  },
  {
   "cell_type": "markdown",
   "metadata": {},
   "source": [
    "Заменил NaN на значения, соответствующие моим логическим рассуждениям. Поменял типы столбцов. Назвал возможные причины наличия пропусков.  \n",
    "'tbd' в столбце user_score тоже был обработан."
   ]
  },
  {
   "cell_type": "markdown",
   "metadata": {},
   "source": [
    "## Шаг 3: Провожу исследовательский анализ данных"
   ]
  },
  {
   "cell_type": "markdown",
   "metadata": {},
   "source": [
    "### Сколько игр выпускалось в разные года. Важны ли данные за все периоды?"
   ]
  },
  {
   "cell_type": "code",
   "execution_count": 147,
   "metadata": {},
   "outputs": [
    {
     "data": {
      "text/html": [
       "<div>\n",
       "<style scoped>\n",
       "    .dataframe tbody tr th:only-of-type {\n",
       "        vertical-align: middle;\n",
       "    }\n",
       "\n",
       "    .dataframe tbody tr th {\n",
       "        vertical-align: top;\n",
       "    }\n",
       "\n",
       "    .dataframe thead th {\n",
       "        text-align: right;\n",
       "    }\n",
       "</style>\n",
       "<table border=\"1\" class=\"dataframe\">\n",
       "  <thead>\n",
       "    <tr style=\"text-align: right;\">\n",
       "      <th></th>\n",
       "      <th>year_of_release</th>\n",
       "      <th>name</th>\n",
       "    </tr>\n",
       "  </thead>\n",
       "  <tbody>\n",
       "    <tr>\n",
       "      <th>0</th>\n",
       "      <td>1980</td>\n",
       "      <td>9</td>\n",
       "    </tr>\n",
       "    <tr>\n",
       "      <th>1</th>\n",
       "      <td>1981</td>\n",
       "      <td>46</td>\n",
       "    </tr>\n",
       "    <tr>\n",
       "      <th>2</th>\n",
       "      <td>1982</td>\n",
       "      <td>36</td>\n",
       "    </tr>\n",
       "    <tr>\n",
       "      <th>3</th>\n",
       "      <td>1983</td>\n",
       "      <td>17</td>\n",
       "    </tr>\n",
       "    <tr>\n",
       "      <th>4</th>\n",
       "      <td>1984</td>\n",
       "      <td>14</td>\n",
       "    </tr>\n",
       "    <tr>\n",
       "      <th>5</th>\n",
       "      <td>1985</td>\n",
       "      <td>14</td>\n",
       "    </tr>\n",
       "    <tr>\n",
       "      <th>6</th>\n",
       "      <td>1986</td>\n",
       "      <td>21</td>\n",
       "    </tr>\n",
       "    <tr>\n",
       "      <th>7</th>\n",
       "      <td>1987</td>\n",
       "      <td>16</td>\n",
       "    </tr>\n",
       "    <tr>\n",
       "      <th>8</th>\n",
       "      <td>1988</td>\n",
       "      <td>15</td>\n",
       "    </tr>\n",
       "    <tr>\n",
       "      <th>9</th>\n",
       "      <td>1989</td>\n",
       "      <td>17</td>\n",
       "    </tr>\n",
       "    <tr>\n",
       "      <th>10</th>\n",
       "      <td>1990</td>\n",
       "      <td>16</td>\n",
       "    </tr>\n",
       "    <tr>\n",
       "      <th>11</th>\n",
       "      <td>1991</td>\n",
       "      <td>41</td>\n",
       "    </tr>\n",
       "    <tr>\n",
       "      <th>12</th>\n",
       "      <td>1992</td>\n",
       "      <td>43</td>\n",
       "    </tr>\n",
       "    <tr>\n",
       "      <th>13</th>\n",
       "      <td>1993</td>\n",
       "      <td>60</td>\n",
       "    </tr>\n",
       "    <tr>\n",
       "      <th>14</th>\n",
       "      <td>1994</td>\n",
       "      <td>121</td>\n",
       "    </tr>\n",
       "    <tr>\n",
       "      <th>15</th>\n",
       "      <td>1995</td>\n",
       "      <td>219</td>\n",
       "    </tr>\n",
       "    <tr>\n",
       "      <th>16</th>\n",
       "      <td>1996</td>\n",
       "      <td>263</td>\n",
       "    </tr>\n",
       "    <tr>\n",
       "      <th>17</th>\n",
       "      <td>1997</td>\n",
       "      <td>289</td>\n",
       "    </tr>\n",
       "    <tr>\n",
       "      <th>18</th>\n",
       "      <td>1998</td>\n",
       "      <td>379</td>\n",
       "    </tr>\n",
       "    <tr>\n",
       "      <th>19</th>\n",
       "      <td>1999</td>\n",
       "      <td>338</td>\n",
       "    </tr>\n",
       "    <tr>\n",
       "      <th>20</th>\n",
       "      <td>2000</td>\n",
       "      <td>350</td>\n",
       "    </tr>\n",
       "    <tr>\n",
       "      <th>21</th>\n",
       "      <td>2001</td>\n",
       "      <td>482</td>\n",
       "    </tr>\n",
       "    <tr>\n",
       "      <th>22</th>\n",
       "      <td>2002</td>\n",
       "      <td>829</td>\n",
       "    </tr>\n",
       "    <tr>\n",
       "      <th>23</th>\n",
       "      <td>2003</td>\n",
       "      <td>775</td>\n",
       "    </tr>\n",
       "    <tr>\n",
       "      <th>24</th>\n",
       "      <td>2004</td>\n",
       "      <td>762</td>\n",
       "    </tr>\n",
       "    <tr>\n",
       "      <th>25</th>\n",
       "      <td>2005</td>\n",
       "      <td>939</td>\n",
       "    </tr>\n",
       "    <tr>\n",
       "      <th>26</th>\n",
       "      <td>2006</td>\n",
       "      <td>1006</td>\n",
       "    </tr>\n",
       "    <tr>\n",
       "      <th>27</th>\n",
       "      <td>2007</td>\n",
       "      <td>1197</td>\n",
       "    </tr>\n",
       "    <tr>\n",
       "      <th>28</th>\n",
       "      <td>2008</td>\n",
       "      <td>1427</td>\n",
       "    </tr>\n",
       "    <tr>\n",
       "      <th>29</th>\n",
       "      <td>2009</td>\n",
       "      <td>1426</td>\n",
       "    </tr>\n",
       "    <tr>\n",
       "      <th>30</th>\n",
       "      <td>2010</td>\n",
       "      <td>1255</td>\n",
       "    </tr>\n",
       "    <tr>\n",
       "      <th>31</th>\n",
       "      <td>2011</td>\n",
       "      <td>1136</td>\n",
       "    </tr>\n",
       "    <tr>\n",
       "      <th>32</th>\n",
       "      <td>2012</td>\n",
       "      <td>653</td>\n",
       "    </tr>\n",
       "    <tr>\n",
       "      <th>33</th>\n",
       "      <td>2013</td>\n",
       "      <td>544</td>\n",
       "    </tr>\n",
       "    <tr>\n",
       "      <th>34</th>\n",
       "      <td>2014</td>\n",
       "      <td>581</td>\n",
       "    </tr>\n",
       "    <tr>\n",
       "      <th>35</th>\n",
       "      <td>2015</td>\n",
       "      <td>606</td>\n",
       "    </tr>\n",
       "    <tr>\n",
       "      <th>36</th>\n",
       "      <td>2016</td>\n",
       "      <td>502</td>\n",
       "    </tr>\n",
       "  </tbody>\n",
       "</table>\n",
       "</div>"
      ],
      "text/plain": [
       "    year_of_release  name\n",
       "0              1980     9\n",
       "1              1981    46\n",
       "2              1982    36\n",
       "3              1983    17\n",
       "4              1984    14\n",
       "5              1985    14\n",
       "6              1986    21\n",
       "7              1987    16\n",
       "8              1988    15\n",
       "9              1989    17\n",
       "10             1990    16\n",
       "11             1991    41\n",
       "12             1992    43\n",
       "13             1993    60\n",
       "14             1994   121\n",
       "15             1995   219\n",
       "16             1996   263\n",
       "17             1997   289\n",
       "18             1998   379\n",
       "19             1999   338\n",
       "20             2000   350\n",
       "21             2001   482\n",
       "22             2002   829\n",
       "23             2003   775\n",
       "24             2004   762\n",
       "25             2005   939\n",
       "26             2006  1006\n",
       "27             2007  1197\n",
       "28             2008  1427\n",
       "29             2009  1426\n",
       "30             2010  1255\n",
       "31             2011  1136\n",
       "32             2012   653\n",
       "33             2013   544\n",
       "34             2014   581\n",
       "35             2015   606\n",
       "36             2016   502"
      ]
     },
     "execution_count": 147,
     "metadata": {},
     "output_type": "execute_result"
    }
   ],
   "source": [
    "# Вывожу количество выпущенных игр по всем возможным годам\n",
    "df.pivot_table(index='year_of_release', values='name', aggfunc='count').reset_index()"
   ]
  },
  {
   "cell_type": "markdown",
   "metadata": {},
   "source": [
    "Чтобы понять, какие года важны, построю график и найду тренд."
   ]
  },
  {
   "cell_type": "code",
   "execution_count": 148,
   "metadata": {},
   "outputs": [
    {
     "data": {
      "image/png": "[encoded data removed]",
      "text/plain": [
       "<Figure size 432x288 with 1 Axes>"
      ]
     },
     "metadata": {
      "needs_background": "light"
     },
     "output_type": "display_data"
    }
   ],
   "source": [
    "x = df.pivot_table(index='year_of_release', values='name', aggfunc='count').reset_index()['year_of_release']\n",
    "y = df.pivot_table(index='year_of_release', values='name', aggfunc='count').reset_index()['name']\n",
    "plt.plot(x, y, marker='o')\n",
    "plt.ylabel('Total sales')\n",
    "plt.xlabel('Years')\n",
    "plt.show()"
   ]
  },
  {
   "cell_type": "markdown",
   "metadata": {},
   "source": [
    "Для будущей оценки лучше взять года по нисходящему тренду, который начинается с 2010 года."
   ]
  },
  {
   "cell_type": "markdown",
   "metadata": {},
   "source": [
    "### Посмотрите, как менялись продажи по платформам. Выберите платформы с наибольшими суммарными продажами и постройте распределение по годам. За какой характерный срок появляются новые и исчезают старые платформы?"
   ]
  },
  {
   "cell_type": "code",
   "execution_count": 149,
   "metadata": {},
   "outputs": [
    {
     "data": {
      "text/plain": [
       "['PS2', 'X360', 'PS3', 'Wii', 'DS', 'PS', 'PS4', 'GBA', 'PSP', '3DS', 'PC']"
      ]
     },
     "execution_count": 149,
     "metadata": {},
     "output_type": "execute_result"
    }
   ],
   "source": [
    "# Выбираю платформы с наибольшими суммарными продажами\n",
    "top10 = df.pivot_table(index='platform', values='total_sales', aggfunc='sum').sort_values(by='total_sales', ascending=False).reset_index()\n",
    "# Выбираю 10 первых платформ\n",
    "top10_list = top10.loc[:10,'platform'].to_list()\n",
    "top10_list"
   ]
  },
  {
   "cell_type": "code",
   "execution_count": 150,
   "metadata": {
    "scrolled": true
   },
   "outputs": [
    {
     "data": {
      "image/png": "[encoded data removed]",
      "text/plain": [
       "<Figure size 1080x504 with 1 Axes>"
      ]
     },
     "metadata": {
      "needs_background": "light"
     },
     "output_type": "display_data"
    }
   ],
   "source": [
    "# Создаю новый df где будут храниться столбцы (год), строки (платформы), значения в ячейках (продажи по годам)\n",
    "df_year_sales = df.pivot_table(index='platform', columns='year_of_release', values='total_sales', aggfunc='sum').reset_index()\n",
    "# Беру только топ-10\n",
    "df_year_sales_top_10 = df_year_sales.query('platform in (@top10_list)').fillna(value=0).reset_index(drop=True)\n",
    "# Строю графики\n",
    "fig, ax = plt.subplots(figsize=(15,7))\n",
    "n=len(df_year_sales_top_10)\n",
    "color = iter(cm.rainbow(np.linspace(0, 1, n)))\n",
    "for i in range(len(df_year_sales_top_10)): \n",
    "    ax.plot(df_year_sales_top_10.columns.to_list()[1:], \n",
    "            df_year_sales_top_10.iloc[i, 1:], c=next(color),\n",
    "            marker='o',\n",
    "            alpha=0.7,\n",
    "            label=df_year_sales_top_10['platform'][i])\n",
    "\n",
    "ax.legend(frameon=False)\n",
    "ax.set_xlabel('Year')\n",
    "ax.set_ylabel('Total sales')\n",
    "plt.show()"
   ]
  },
  {
   "cell_type": "markdown",
   "metadata": {},
   "source": [
    "Ответ на вопрос: характерный срок появления новых платформ примерно 5-10 лет. Некоторые платформы, например PS2, PSP, PS3, X360 пользуются популярностью 10 лет и более. Пик популярностью платформ меняется с периодичностью 8-10 лет. Менее популярноые платформы, например GBA и 3DS, пользуются популярностью в среднем 5-7 лет. Когда выходит новая коноль, продажи старой сразу падают."
   ]
  },
  {
   "cell_type": "markdown",
   "metadata": {},
   "source": [
    "### Возьмите данные за соответствующий актуальный период. Актуальный период определите самостоятельно в результате исследования предыдущих вопросов. Основной фактор — эти данные помогут построить прогноз на 2017 год."
   ]
  },
  {
   "cell_type": "markdown",
   "metadata": {},
   "source": [
    "Возьму данные, начиная с 2010 года. Беру данные c 2010 года, потому-что тренд продаж пошел на спад именно с 2010 года."
   ]
  },
  {
   "cell_type": "code",
   "execution_count": 151,
   "metadata": {},
   "outputs": [],
   "source": [
    "# Фильтрую таблицу\n",
    "df_new = df[df['year_of_release']>=2010]\n",
    "df_new.reset_index(drop=True, inplace=True)"
   ]
  },
  {
   "cell_type": "markdown",
   "metadata": {},
   "source": [
    "### Не учитывайте в работе данные за предыдущие годы."
   ]
  },
  {
   "cell_type": "code",
   "execution_count": 152,
   "metadata": {},
   "outputs": [
    {
     "data": {
      "text/html": [
       "<div>\n",
       "<style scoped>\n",
       "    .dataframe tbody tr th:only-of-type {\n",
       "        vertical-align: middle;\n",
       "    }\n",
       "\n",
       "    .dataframe tbody tr th {\n",
       "        vertical-align: top;\n",
       "    }\n",
       "\n",
       "    .dataframe thead th {\n",
       "        text-align: right;\n",
       "    }\n",
       "</style>\n",
       "<table border=\"1\" class=\"dataframe\">\n",
       "  <thead>\n",
       "    <tr style=\"text-align: right;\">\n",
       "      <th></th>\n",
       "      <th>name</th>\n",
       "      <th>platform</th>\n",
       "      <th>year_of_release</th>\n",
       "      <th>genre</th>\n",
       "      <th>na_sales</th>\n",
       "      <th>eu_sales</th>\n",
       "      <th>jp_sales</th>\n",
       "      <th>other_sales</th>\n",
       "      <th>critic_score</th>\n",
       "      <th>user_score</th>\n",
       "      <th>rating</th>\n",
       "      <th>total_sales</th>\n",
       "    </tr>\n",
       "  </thead>\n",
       "  <tbody>\n",
       "    <tr>\n",
       "      <th>0</th>\n",
       "      <td>Kinect Adventures!</td>\n",
       "      <td>X360</td>\n",
       "      <td>2010</td>\n",
       "      <td>Misc</td>\n",
       "      <td>15.00</td>\n",
       "      <td>4.89</td>\n",
       "      <td>0.24</td>\n",
       "      <td>1.69</td>\n",
       "      <td>61.0</td>\n",
       "      <td>6.3</td>\n",
       "      <td>E</td>\n",
       "      <td>21.82</td>\n",
       "    </tr>\n",
       "    <tr>\n",
       "      <th>1</th>\n",
       "      <td>Grand Theft Auto V</td>\n",
       "      <td>PS3</td>\n",
       "      <td>2013</td>\n",
       "      <td>Action</td>\n",
       "      <td>7.02</td>\n",
       "      <td>9.09</td>\n",
       "      <td>0.98</td>\n",
       "      <td>3.96</td>\n",
       "      <td>97.0</td>\n",
       "      <td>8.2</td>\n",
       "      <td>M</td>\n",
       "      <td>21.05</td>\n",
       "    </tr>\n",
       "    <tr>\n",
       "      <th>2</th>\n",
       "      <td>Grand Theft Auto V</td>\n",
       "      <td>X360</td>\n",
       "      <td>2013</td>\n",
       "      <td>Action</td>\n",
       "      <td>9.66</td>\n",
       "      <td>5.14</td>\n",
       "      <td>0.06</td>\n",
       "      <td>1.41</td>\n",
       "      <td>97.0</td>\n",
       "      <td>8.1</td>\n",
       "      <td>M</td>\n",
       "      <td>16.27</td>\n",
       "    </tr>\n",
       "    <tr>\n",
       "      <th>3</th>\n",
       "      <td>Pokemon Black/Pokemon White</td>\n",
       "      <td>DS</td>\n",
       "      <td>2010</td>\n",
       "      <td>Role-Playing</td>\n",
       "      <td>5.51</td>\n",
       "      <td>3.17</td>\n",
       "      <td>5.65</td>\n",
       "      <td>0.80</td>\n",
       "      <td>66.0</td>\n",
       "      <td>7.4</td>\n",
       "      <td>-</td>\n",
       "      <td>15.13</td>\n",
       "    </tr>\n",
       "    <tr>\n",
       "      <th>4</th>\n",
       "      <td>Call of Duty: Modern Warfare 3</td>\n",
       "      <td>X360</td>\n",
       "      <td>2011</td>\n",
       "      <td>Shooter</td>\n",
       "      <td>9.04</td>\n",
       "      <td>4.24</td>\n",
       "      <td>0.13</td>\n",
       "      <td>1.32</td>\n",
       "      <td>88.0</td>\n",
       "      <td>3.4</td>\n",
       "      <td>M</td>\n",
       "      <td>14.73</td>\n",
       "    </tr>\n",
       "    <tr>\n",
       "      <th>...</th>\n",
       "      <td>...</td>\n",
       "      <td>...</td>\n",
       "      <td>...</td>\n",
       "      <td>...</td>\n",
       "      <td>...</td>\n",
       "      <td>...</td>\n",
       "      <td>...</td>\n",
       "      <td>...</td>\n",
       "      <td>...</td>\n",
       "      <td>...</td>\n",
       "      <td>...</td>\n",
       "      <td>...</td>\n",
       "    </tr>\n",
       "    <tr>\n",
       "      <th>5272</th>\n",
       "      <td>Strawberry Nauts</td>\n",
       "      <td>PSV</td>\n",
       "      <td>2016</td>\n",
       "      <td>Adventure</td>\n",
       "      <td>0.00</td>\n",
       "      <td>0.00</td>\n",
       "      <td>0.01</td>\n",
       "      <td>0.00</td>\n",
       "      <td>71.0</td>\n",
       "      <td>7.6</td>\n",
       "      <td>-</td>\n",
       "      <td>0.01</td>\n",
       "    </tr>\n",
       "    <tr>\n",
       "      <th>5273</th>\n",
       "      <td>Aiyoku no Eustia</td>\n",
       "      <td>PSV</td>\n",
       "      <td>2014</td>\n",
       "      <td>Misc</td>\n",
       "      <td>0.00</td>\n",
       "      <td>0.00</td>\n",
       "      <td>0.01</td>\n",
       "      <td>0.00</td>\n",
       "      <td>71.0</td>\n",
       "      <td>7.6</td>\n",
       "      <td>-</td>\n",
       "      <td>0.01</td>\n",
       "    </tr>\n",
       "    <tr>\n",
       "      <th>5274</th>\n",
       "      <td>Samurai Warriors: Sanada Maru</td>\n",
       "      <td>PS3</td>\n",
       "      <td>2016</td>\n",
       "      <td>Action</td>\n",
       "      <td>0.00</td>\n",
       "      <td>0.00</td>\n",
       "      <td>0.01</td>\n",
       "      <td>0.00</td>\n",
       "      <td>73.0</td>\n",
       "      <td>7.1</td>\n",
       "      <td>-</td>\n",
       "      <td>0.01</td>\n",
       "    </tr>\n",
       "    <tr>\n",
       "      <th>5275</th>\n",
       "      <td>Haitaka no Psychedelica</td>\n",
       "      <td>PSV</td>\n",
       "      <td>2016</td>\n",
       "      <td>Adventure</td>\n",
       "      <td>0.00</td>\n",
       "      <td>0.00</td>\n",
       "      <td>0.01</td>\n",
       "      <td>0.00</td>\n",
       "      <td>71.0</td>\n",
       "      <td>7.6</td>\n",
       "      <td>-</td>\n",
       "      <td>0.01</td>\n",
       "    </tr>\n",
       "    <tr>\n",
       "      <th>5276</th>\n",
       "      <td>Winning Post 8 2016</td>\n",
       "      <td>PSV</td>\n",
       "      <td>2016</td>\n",
       "      <td>Simulation</td>\n",
       "      <td>0.00</td>\n",
       "      <td>0.00</td>\n",
       "      <td>0.01</td>\n",
       "      <td>0.00</td>\n",
       "      <td>71.0</td>\n",
       "      <td>7.6</td>\n",
       "      <td>-</td>\n",
       "      <td>0.01</td>\n",
       "    </tr>\n",
       "  </tbody>\n",
       "</table>\n",
       "<p>5277 rows × 12 columns</p>\n",
       "</div>"
      ],
      "text/plain": [
       "                                name platform  year_of_release         genre  \\\n",
       "0                 Kinect Adventures!     X360             2010          Misc   \n",
       "1                 Grand Theft Auto V      PS3             2013        Action   \n",
       "2                 Grand Theft Auto V     X360             2013        Action   \n",
       "3        Pokemon Black/Pokemon White       DS             2010  Role-Playing   \n",
       "4     Call of Duty: Modern Warfare 3     X360             2011       Shooter   \n",
       "...                              ...      ...              ...           ...   \n",
       "5272                Strawberry Nauts      PSV             2016     Adventure   \n",
       "5273                Aiyoku no Eustia      PSV             2014          Misc   \n",
       "5274   Samurai Warriors: Sanada Maru      PS3             2016        Action   \n",
       "5275         Haitaka no Psychedelica      PSV             2016     Adventure   \n",
       "5276             Winning Post 8 2016      PSV             2016    Simulation   \n",
       "\n",
       "      na_sales  eu_sales  jp_sales  other_sales  critic_score  user_score  \\\n",
       "0        15.00      4.89      0.24         1.69          61.0         6.3   \n",
       "1         7.02      9.09      0.98         3.96          97.0         8.2   \n",
       "2         9.66      5.14      0.06         1.41          97.0         8.1   \n",
       "3         5.51      3.17      5.65         0.80          66.0         7.4   \n",
       "4         9.04      4.24      0.13         1.32          88.0         3.4   \n",
       "...        ...       ...       ...          ...           ...         ...   \n",
       "5272      0.00      0.00      0.01         0.00          71.0         7.6   \n",
       "5273      0.00      0.00      0.01         0.00          71.0         7.6   \n",
       "5274      0.00      0.00      0.01         0.00          73.0         7.1   \n",
       "5275      0.00      0.00      0.01         0.00          71.0         7.6   \n",
       "5276      0.00      0.00      0.01         0.00          71.0         7.6   \n",
       "\n",
       "     rating  total_sales  \n",
       "0         E        21.82  \n",
       "1         M        21.05  \n",
       "2         M        16.27  \n",
       "3         -        15.13  \n",
       "4         M        14.73  \n",
       "...     ...          ...  \n",
       "5272      -         0.01  \n",
       "5273      -         0.01  \n",
       "5274      -         0.01  \n",
       "5275      -         0.01  \n",
       "5276      -         0.01  \n",
       "\n",
       "[5277 rows x 12 columns]"
      ]
     },
     "execution_count": 152,
     "metadata": {},
     "output_type": "execute_result"
    }
   ],
   "source": [
    "# Теперь это новая таблица\n",
    "df_new"
   ]
  },
  {
   "cell_type": "markdown",
   "metadata": {},
   "source": [
    "### Какие платформы лидируют по продажам, растут или падают? Выберите несколько потенциально прибыльных платформ."
   ]
  },
  {
   "cell_type": "markdown",
   "metadata": {},
   "source": [
    "Чтобы ответить на вопрос 'Какие платформы лидируют по продажам, растут или падают?', нужно обратиться к графику выше. Повторю лист с топ-10 платформ по продажам: 'PS2', 'X360', 'PS3', 'Wii', 'DS', 'PS', 'PS4', 'GBA', 'PSP', '3DS', 'PC'."
   ]
  },
  {
   "cell_type": "markdown",
   "metadata": {},
   "source": [
    "Теперь отвечаю на вопрос по поводу потенциально прибыльных платформ."
   ]
  },
  {
   "cell_type": "code",
   "execution_count": 153,
   "metadata": {},
   "outputs": [
    {
     "data": {
      "text/html": [
       "<div>\n",
       "<style scoped>\n",
       "    .dataframe tbody tr th:only-of-type {\n",
       "        vertical-align: middle;\n",
       "    }\n",
       "\n",
       "    .dataframe tbody tr th {\n",
       "        vertical-align: top;\n",
       "    }\n",
       "\n",
       "    .dataframe thead th {\n",
       "        text-align: right;\n",
       "    }\n",
       "</style>\n",
       "<table border=\"1\" class=\"dataframe\">\n",
       "  <thead>\n",
       "    <tr style=\"text-align: right;\">\n",
       "      <th></th>\n",
       "      <th>platform</th>\n",
       "      <th>total_sales</th>\n",
       "    </tr>\n",
       "  </thead>\n",
       "  <tbody>\n",
       "    <tr>\n",
       "      <th>0</th>\n",
       "      <td>PS3</td>\n",
       "      <td>587.74</td>\n",
       "    </tr>\n",
       "    <tr>\n",
       "      <th>1</th>\n",
       "      <td>X360</td>\n",
       "      <td>550.41</td>\n",
       "    </tr>\n",
       "    <tr>\n",
       "      <th>2</th>\n",
       "      <td>PS4</td>\n",
       "      <td>314.14</td>\n",
       "    </tr>\n",
       "    <tr>\n",
       "      <th>3</th>\n",
       "      <td>3DS</td>\n",
       "      <td>257.81</td>\n",
       "    </tr>\n",
       "    <tr>\n",
       "      <th>4</th>\n",
       "      <td>Wii</td>\n",
       "      <td>222.97</td>\n",
       "    </tr>\n",
       "    <tr>\n",
       "      <th>5</th>\n",
       "      <td>XOne</td>\n",
       "      <td>159.32</td>\n",
       "    </tr>\n",
       "    <tr>\n",
       "      <th>6</th>\n",
       "      <td>DS</td>\n",
       "      <td>123.75</td>\n",
       "    </tr>\n",
       "    <tr>\n",
       "      <th>7</th>\n",
       "      <td>PC</td>\n",
       "      <td>121.96</td>\n",
       "    </tr>\n",
       "    <tr>\n",
       "      <th>8</th>\n",
       "      <td>WiiU</td>\n",
       "      <td>82.19</td>\n",
       "    </tr>\n",
       "    <tr>\n",
       "      <th>9</th>\n",
       "      <td>PSP</td>\n",
       "      <td>64.05</td>\n",
       "    </tr>\n",
       "    <tr>\n",
       "      <th>10</th>\n",
       "      <td>PSV</td>\n",
       "      <td>53.81</td>\n",
       "    </tr>\n",
       "    <tr>\n",
       "      <th>11</th>\n",
       "      <td>PS2</td>\n",
       "      <td>6.09</td>\n",
       "    </tr>\n",
       "  </tbody>\n",
       "</table>\n",
       "</div>"
      ],
      "text/plain": [
       "   platform  total_sales\n",
       "0       PS3       587.74\n",
       "1      X360       550.41\n",
       "2       PS4       314.14\n",
       "3       3DS       257.81\n",
       "4       Wii       222.97\n",
       "5      XOne       159.32\n",
       "6        DS       123.75\n",
       "7        PC       121.96\n",
       "8      WiiU        82.19\n",
       "9       PSP        64.05\n",
       "10      PSV        53.81\n",
       "11      PS2         6.09"
      ]
     },
     "execution_count": 153,
     "metadata": {},
     "output_type": "execute_result"
    }
   ],
   "source": [
    "# Создам сводную таблицу, чтобы ответить на вопрос\n",
    "df_top_income = df_new.pivot_table(index='platform', values='total_sales', aggfunc='sum').sort_values(by='total_sales', ascending=False).reset_index()\n",
    "df_top_income"
   ]
  },
  {
   "cell_type": "code",
   "execution_count": 154,
   "metadata": {},
   "outputs": [
    {
     "data": {
      "text/plain": [
       "['PS3', 'X360', 'PS4', '3DS', 'Wii', 'XOne', 'DS', 'PC']"
      ]
     },
     "execution_count": 154,
     "metadata": {},
     "output_type": "execute_result"
    }
   ],
   "source": [
    "list_top_income = df_top_income['platform'][:8].to_list()\n",
    "# Лист где хранится топ-10 прибыльных платформ\n",
    "list_top_income"
   ]
  },
  {
   "cell_type": "markdown",
   "metadata": {},
   "source": [
    "Выберу первые 8 платформ, поскольку на мой взгляд они самые прибыльные."
   ]
  },
  {
   "cell_type": "markdown",
   "metadata": {},
   "source": [
    "### Постройте график «ящик с усами» по глобальным продажам игр в разбивке по платформам. Опишите результат."
   ]
  },
  {
   "cell_type": "markdown",
   "metadata": {},
   "source": [
    "Строю boxplot. Поскольку разбросы большие, то возьму логарифм по оси y."
   ]
  },
  {
   "cell_type": "code",
   "execution_count": 155,
   "metadata": {},
   "outputs": [
    {
     "data": {
      "image/png": "[encoded data removed]",
      "text/plain": [
       "<Figure size 1080x504 with 1 Axes>"
      ]
     },
     "metadata": {
      "needs_background": "light"
     },
     "output_type": "display_data"
    }
   ],
   "source": [
    "# Строю\n",
    "fig, ax = plt.subplots(figsize=(15,7))\n",
    "ax = sns.boxplot(x='platform', \n",
    "                 y='total_sales', \n",
    "                 order=list_top_income, \n",
    "                 data=df_new.query('platform in @list_top_income'))\n",
    "ax.set_yscale('log')\n",
    "plt.show()"
   ]
  },
  {
   "cell_type": "markdown",
   "metadata": {},
   "source": [
    "Описываю результат. Можно сказать, что продажи платформ начинались с нуля (что очевидно), у каждой платформы есть выбросы (что тоже очевидно). Больше тут нечего сказать."
   ]
  },
  {
   "cell_type": "markdown",
   "metadata": {},
   "source": [
    "### Посмотрите, как влияют на продажи внутри одной популярной платформы отзывы пользователей и критиков. Постройте диаграмму рассеяния и посчитайте корреляцию между отзывами и продажами. Сформулируйте выводы."
   ]
  },
  {
   "cell_type": "markdown",
   "metadata": {},
   "source": [
    "Для ответа на этот вопрос выберу платформу PS3."
   ]
  },
  {
   "cell_type": "markdown",
   "metadata": {},
   "source": [
    "Строю диаграмму рассеяния между отзывами и продажами."
   ]
  },
  {
   "cell_type": "code",
   "execution_count": 156,
   "metadata": {},
   "outputs": [
    {
     "data": {
      "image/png": "[encoded data removed]",
      "text/plain": [
       "<Figure size 540x540 with 12 Axes>"
      ]
     },
     "metadata": {
      "needs_background": "light"
     },
     "output_type": "display_data"
    }
   ],
   "source": [
    "# Построю диаграмму рассеяния для user_score и critic_score по платформе PS3\n",
    "df_PS3 = df_new.query('platform == \"PS3\"')\n",
    "sns.pairplot(df_PS3[['user_score', 'critic_score','total_sales']])\n",
    "plt.show()"
   ]
  },
  {
   "cell_type": "markdown",
   "metadata": {},
   "source": [
    "Корреляция не наблюдается ни по одной из пар. Проверю еще коэф. Пирсона."
   ]
  },
  {
   "cell_type": "code",
   "execution_count": 157,
   "metadata": {},
   "outputs": [
    {
     "name": "stdout",
     "output_type": "stream",
     "text": [
      "0.014692050059624663\n",
      "0.33430209283581563\n"
     ]
    }
   ],
   "source": [
    "print(df_PS3['user_score'].corr(df_PS3['total_sales']))\n",
    "print(df_PS3['critic_score'].corr(df_PS3['total_sales']))"
   ]
  },
  {
   "cell_type": "markdown",
   "metadata": {},
   "source": [
    "Действительно, корреляции сильной нет."
   ]
  },
  {
   "cell_type": "markdown",
   "metadata": {},
   "source": [
    "Вывод: отзывы не влияют на продажи."
   ]
  },
  {
   "cell_type": "markdown",
   "metadata": {},
   "source": [
    "### Соотнесите выводы с продажами игр на других платформах."
   ]
  },
  {
   "cell_type": "markdown",
   "metadata": {},
   "source": [
    "Повторю тоже самое для X360."
   ]
  },
  {
   "cell_type": "code",
   "execution_count": 158,
   "metadata": {},
   "outputs": [
    {
     "data": {
      "image/png": "[encoded data removed]",
      "text/plain": [
       "<Figure size 540x540 with 12 Axes>"
      ]
     },
     "metadata": {
      "needs_background": "light"
     },
     "output_type": "display_data"
    }
   ],
   "source": [
    "# Построю диаграмму рассеяния для user_score и critic_score по платформе X360\n",
    "df_X360 = df_new.query('platform == \"X360\"')\n",
    "sns.pairplot(df_PS3[['user_score', 'critic_score','total_sales']])\n",
    "plt.show()"
   ]
  },
  {
   "cell_type": "markdown",
   "metadata": {},
   "source": [
    "Коэффициент Пирсона."
   ]
  },
  {
   "cell_type": "code",
   "execution_count": 159,
   "metadata": {},
   "outputs": [
    {
     "name": "stdout",
     "output_type": "stream",
     "text": [
      "0.027273647545925272\n",
      "0.3004872342568925\n"
     ]
    }
   ],
   "source": [
    "print(df_X360['user_score'].corr(df_X360['total_sales']))\n",
    "print(df_X360['critic_score'].corr(df_X360['total_sales']))"
   ]
  },
  {
   "cell_type": "markdown",
   "metadata": {},
   "source": [
    "Вывод: отзывы не влияют на продажи."
   ]
  },
  {
   "cell_type": "markdown",
   "metadata": {},
   "source": [
    "### Посмотрите на общее распределение игр по жанрам. Что можно сказать о самых прибыльных жанрах? Выделяются ли жанры с высокими и низкими продажами?"
   ]
  },
  {
   "cell_type": "code",
   "execution_count": 160,
   "metadata": {},
   "outputs": [
    {
     "data": {
      "text/html": [
       "<div>\n",
       "<style scoped>\n",
       "    .dataframe tbody tr th:only-of-type {\n",
       "        vertical-align: middle;\n",
       "    }\n",
       "\n",
       "    .dataframe tbody tr th {\n",
       "        vertical-align: top;\n",
       "    }\n",
       "\n",
       "    .dataframe thead th {\n",
       "        text-align: right;\n",
       "    }\n",
       "</style>\n",
       "<table border=\"1\" class=\"dataframe\">\n",
       "  <thead>\n",
       "    <tr style=\"text-align: right;\">\n",
       "      <th>genre</th>\n",
       "      <th>Action</th>\n",
       "      <th>Adventure</th>\n",
       "      <th>Fighting</th>\n",
       "      <th>Misc</th>\n",
       "      <th>Platform</th>\n",
       "      <th>Puzzle</th>\n",
       "      <th>Racing</th>\n",
       "      <th>Role-Playing</th>\n",
       "      <th>Shooter</th>\n",
       "      <th>Simulation</th>\n",
       "      <th>Sports</th>\n",
       "      <th>Strategy</th>\n",
       "    </tr>\n",
       "    <tr>\n",
       "      <th>platform</th>\n",
       "      <th></th>\n",
       "      <th></th>\n",
       "      <th></th>\n",
       "      <th></th>\n",
       "      <th></th>\n",
       "      <th></th>\n",
       "      <th></th>\n",
       "      <th></th>\n",
       "      <th></th>\n",
       "      <th></th>\n",
       "      <th></th>\n",
       "      <th></th>\n",
       "    </tr>\n",
       "  </thead>\n",
       "  <tbody>\n",
       "    <tr>\n",
       "      <th>PS2</th>\n",
       "      <td>1.41</td>\n",
       "      <td>0.36</td>\n",
       "      <td>0.49</td>\n",
       "      <td>0.06</td>\n",
       "      <td>0.33</td>\n",
       "      <td>NaN</td>\n",
       "      <td>NaN</td>\n",
       "      <td>0.02</td>\n",
       "      <td>0.06</td>\n",
       "      <td>NaN</td>\n",
       "      <td>3.36</td>\n",
       "      <td>NaN</td>\n",
       "    </tr>\n",
       "    <tr>\n",
       "      <th>PSP</th>\n",
       "      <td>15.30</td>\n",
       "      <td>6.09</td>\n",
       "      <td>3.81</td>\n",
       "      <td>4.08</td>\n",
       "      <td>0.49</td>\n",
       "      <td>0.08</td>\n",
       "      <td>0.87</td>\n",
       "      <td>20.07</td>\n",
       "      <td>1.00</td>\n",
       "      <td>0.94</td>\n",
       "      <td>8.19</td>\n",
       "      <td>3.13</td>\n",
       "    </tr>\n",
       "    <tr>\n",
       "      <th>PSV</th>\n",
       "      <td>17.02</td>\n",
       "      <td>3.84</td>\n",
       "      <td>2.62</td>\n",
       "      <td>4.43</td>\n",
       "      <td>2.56</td>\n",
       "      <td>0.18</td>\n",
       "      <td>2.51</td>\n",
       "      <td>12.15</td>\n",
       "      <td>3.88</td>\n",
       "      <td>0.08</td>\n",
       "      <td>4.19</td>\n",
       "      <td>0.35</td>\n",
       "    </tr>\n",
       "    <tr>\n",
       "      <th>WiiU</th>\n",
       "      <td>19.07</td>\n",
       "      <td>0.17</td>\n",
       "      <td>6.27</td>\n",
       "      <td>12.46</td>\n",
       "      <td>21.53</td>\n",
       "      <td>1.32</td>\n",
       "      <td>7.87</td>\n",
       "      <td>2.89</td>\n",
       "      <td>6.01</td>\n",
       "      <td>0.20</td>\n",
       "      <td>3.16</td>\n",
       "      <td>1.24</td>\n",
       "    </tr>\n",
       "    <tr>\n",
       "      <th>PC</th>\n",
       "      <td>21.64</td>\n",
       "      <td>2.02</td>\n",
       "      <td>0.13</td>\n",
       "      <td>0.91</td>\n",
       "      <td>0.32</td>\n",
       "      <td>0.65</td>\n",
       "      <td>2.70</td>\n",
       "      <td>28.50</td>\n",
       "      <td>24.96</td>\n",
       "      <td>15.59</td>\n",
       "      <td>7.16</td>\n",
       "      <td>17.38</td>\n",
       "    </tr>\n",
       "    <tr>\n",
       "      <th>DS</th>\n",
       "      <td>22.75</td>\n",
       "      <td>7.65</td>\n",
       "      <td>0.97</td>\n",
       "      <td>18.12</td>\n",
       "      <td>6.41</td>\n",
       "      <td>10.16</td>\n",
       "      <td>3.38</td>\n",
       "      <td>35.97</td>\n",
       "      <td>1.30</td>\n",
       "      <td>9.13</td>\n",
       "      <td>3.49</td>\n",
       "      <td>4.42</td>\n",
       "    </tr>\n",
       "    <tr>\n",
       "      <th>XOne</th>\n",
       "      <td>37.31</td>\n",
       "      <td>2.68</td>\n",
       "      <td>2.45</td>\n",
       "      <td>7.43</td>\n",
       "      <td>0.93</td>\n",
       "      <td>NaN</td>\n",
       "      <td>9.79</td>\n",
       "      <td>10.55</td>\n",
       "      <td>60.33</td>\n",
       "      <td>0.69</td>\n",
       "      <td>26.74</td>\n",
       "      <td>0.42</td>\n",
       "    </tr>\n",
       "    <tr>\n",
       "      <th>Wii</th>\n",
       "      <td>42.79</td>\n",
       "      <td>3.34</td>\n",
       "      <td>1.78</td>\n",
       "      <td>87.01</td>\n",
       "      <td>29.22</td>\n",
       "      <td>2.58</td>\n",
       "      <td>5.15</td>\n",
       "      <td>4.17</td>\n",
       "      <td>4.36</td>\n",
       "      <td>3.52</td>\n",
       "      <td>37.40</td>\n",
       "      <td>1.65</td>\n",
       "    </tr>\n",
       "    <tr>\n",
       "      <th>3DS</th>\n",
       "      <td>57.84</td>\n",
       "      <td>4.83</td>\n",
       "      <td>10.56</td>\n",
       "      <td>10.99</td>\n",
       "      <td>32.53</td>\n",
       "      <td>5.57</td>\n",
       "      <td>14.87</td>\n",
       "      <td>84.20</td>\n",
       "      <td>1.22</td>\n",
       "      <td>26.96</td>\n",
       "      <td>6.15</td>\n",
       "      <td>2.09</td>\n",
       "    </tr>\n",
       "    <tr>\n",
       "      <th>PS4</th>\n",
       "      <td>96.10</td>\n",
       "      <td>6.34</td>\n",
       "      <td>8.65</td>\n",
       "      <td>8.19</td>\n",
       "      <td>7.69</td>\n",
       "      <td>0.02</td>\n",
       "      <td>12.14</td>\n",
       "      <td>28.99</td>\n",
       "      <td>88.56</td>\n",
       "      <td>1.23</td>\n",
       "      <td>55.61</td>\n",
       "      <td>0.62</td>\n",
       "    </tr>\n",
       "    <tr>\n",
       "      <th>X360</th>\n",
       "      <td>143.26</td>\n",
       "      <td>7.62</td>\n",
       "      <td>17.11</td>\n",
       "      <td>60.42</td>\n",
       "      <td>4.73</td>\n",
       "      <td>NaN</td>\n",
       "      <td>26.11</td>\n",
       "      <td>37.78</td>\n",
       "      <td>159.70</td>\n",
       "      <td>7.41</td>\n",
       "      <td>84.26</td>\n",
       "      <td>2.01</td>\n",
       "    </tr>\n",
       "    <tr>\n",
       "      <th>PS3</th>\n",
       "      <td>198.60</td>\n",
       "      <td>16.06</td>\n",
       "      <td>26.75</td>\n",
       "      <td>20.46</td>\n",
       "      <td>12.98</td>\n",
       "      <td>0.04</td>\n",
       "      <td>37.29</td>\n",
       "      <td>49.99</td>\n",
       "      <td>128.36</td>\n",
       "      <td>6.00</td>\n",
       "      <td>88.68</td>\n",
       "      <td>2.53</td>\n",
       "    </tr>\n",
       "  </tbody>\n",
       "</table>\n",
       "</div>"
      ],
      "text/plain": [
       "genre     Action  Adventure  Fighting   Misc  Platform  Puzzle  Racing  \\\n",
       "platform                                                                 \n",
       "PS2         1.41       0.36      0.49   0.06      0.33     NaN     NaN   \n",
       "PSP        15.30       6.09      3.81   4.08      0.49    0.08    0.87   \n",
       "PSV        17.02       3.84      2.62   4.43      2.56    0.18    2.51   \n",
       "WiiU       19.07       0.17      6.27  12.46     21.53    1.32    7.87   \n",
       "PC         21.64       2.02      0.13   0.91      0.32    0.65    2.70   \n",
       "DS         22.75       7.65      0.97  18.12      6.41   10.16    3.38   \n",
       "XOne       37.31       2.68      2.45   7.43      0.93     NaN    9.79   \n",
       "Wii        42.79       3.34      1.78  87.01     29.22    2.58    5.15   \n",
       "3DS        57.84       4.83     10.56  10.99     32.53    5.57   14.87   \n",
       "PS4        96.10       6.34      8.65   8.19      7.69    0.02   12.14   \n",
       "X360      143.26       7.62     17.11  60.42      4.73     NaN   26.11   \n",
       "PS3       198.60      16.06     26.75  20.46     12.98    0.04   37.29   \n",
       "\n",
       "genre     Role-Playing  Shooter  Simulation  Sports  Strategy  \n",
       "platform                                                       \n",
       "PS2               0.02     0.06         NaN    3.36       NaN  \n",
       "PSP              20.07     1.00        0.94    8.19      3.13  \n",
       "PSV              12.15     3.88        0.08    4.19      0.35  \n",
       "WiiU              2.89     6.01        0.20    3.16      1.24  \n",
       "PC               28.50    24.96       15.59    7.16     17.38  \n",
       "DS               35.97     1.30        9.13    3.49      4.42  \n",
       "XOne             10.55    60.33        0.69   26.74      0.42  \n",
       "Wii               4.17     4.36        3.52   37.40      1.65  \n",
       "3DS              84.20     1.22       26.96    6.15      2.09  \n",
       "PS4              28.99    88.56        1.23   55.61      0.62  \n",
       "X360             37.78   159.70        7.41   84.26      2.01  \n",
       "PS3              49.99   128.36        6.00   88.68      2.53  "
      ]
     },
     "execution_count": 160,
     "metadata": {},
     "output_type": "execute_result"
    }
   ],
   "source": [
    "# Сводная таблица по прибыли и в зависимости от платформы и жанра\n",
    "df_new.pivot_table(index='platform', columns='genre', values='total_sales', aggfunc='sum').sort_values(by='Action')"
   ]
  },
  {
   "cell_type": "markdown",
   "metadata": {},
   "source": [
    "То, что выделяется сразу.  \n",
    "Жанры с самыми высокими показателями по продажам (прибыльные): Action, Shooter, Sports.  \n",
    "Жанры с самыми низкими показателями по продажам (не прибыльные): Puzzle, Simulation, Strategy.  \n",
    "Очевидно, что приставки покупают не для того, чтобы собирать пазлы на телевизоре."
   ]
  },
  {
   "cell_type": "markdown",
   "metadata": {},
   "source": [
    "## Шаг 4: Составляю портрет каждого пользователя"
   ]
  },
  {
   "cell_type": "markdown",
   "metadata": {},
   "source": [
    "### Самые популярные платформы (топ-5). Опишите различия в долях продаж"
   ]
  },
  {
   "cell_type": "code",
   "execution_count": 161,
   "metadata": {},
   "outputs": [],
   "source": [
    "# Поскольку надо сделать одно и то же действие для разных sales (три раза), то создам функцию (жизненный опыт научил)\n",
    "def popular_platforms(dataframe, column_name): \n",
    "    # Нахожу топ-5 популярных платформ\n",
    "    func_df = dataframe.pivot_table(index='platform', \n",
    "                                    values=column_name, \n",
    "                                    aggfunc='sum').sort_values(by=column_name, ascending=False).reset_index().iloc[0:5]\n",
    "    # Нахожу долю от продаж\n",
    "    func_df[column_name] = func_df[column_name]/func_df[column_name].sum()\n",
    "    return func_df"
   ]
  },
  {
   "cell_type": "markdown",
   "metadata": {},
   "source": [
    "#### Для na_sales"
   ]
  },
  {
   "cell_type": "code",
   "execution_count": 162,
   "metadata": {},
   "outputs": [
    {
     "data": {
      "text/html": [
       "<div>\n",
       "<style scoped>\n",
       "    .dataframe tbody tr th:only-of-type {\n",
       "        vertical-align: middle;\n",
       "    }\n",
       "\n",
       "    .dataframe tbody tr th {\n",
       "        vertical-align: top;\n",
       "    }\n",
       "\n",
       "    .dataframe thead th {\n",
       "        text-align: right;\n",
       "    }\n",
       "</style>\n",
       "<table border=\"1\" class=\"dataframe\">\n",
       "  <thead>\n",
       "    <tr style=\"text-align: right;\">\n",
       "      <th></th>\n",
       "      <th>platform</th>\n",
       "      <th>na_sales</th>\n",
       "    </tr>\n",
       "  </thead>\n",
       "  <tbody>\n",
       "    <tr>\n",
       "      <th>0</th>\n",
       "      <td>X360</td>\n",
       "      <td>0.376970</td>\n",
       "    </tr>\n",
       "    <tr>\n",
       "      <th>1</th>\n",
       "      <td>PS3</td>\n",
       "      <td>0.258604</td>\n",
       "    </tr>\n",
       "    <tr>\n",
       "      <th>2</th>\n",
       "      <td>Wii</td>\n",
       "      <td>0.136719</td>\n",
       "    </tr>\n",
       "    <tr>\n",
       "      <th>3</th>\n",
       "      <td>PS4</td>\n",
       "      <td>0.122664</td>\n",
       "    </tr>\n",
       "    <tr>\n",
       "      <th>4</th>\n",
       "      <td>XOne</td>\n",
       "      <td>0.105043</td>\n",
       "    </tr>\n",
       "  </tbody>\n",
       "</table>\n",
       "</div>"
      ],
      "text/plain": [
       "  platform  na_sales\n",
       "0     X360  0.376970\n",
       "1      PS3  0.258604\n",
       "2      Wii  0.136719\n",
       "3      PS4  0.122664\n",
       "4     XOne  0.105043"
      ]
     },
     "execution_count": 162,
     "metadata": {},
     "output_type": "execute_result"
    }
   ],
   "source": [
    "df_na_sales_top5 = popular_platforms(df_new, 'na_sales')\n",
    "df_na_sales_top5"
   ]
  },
  {
   "cell_type": "markdown",
   "metadata": {},
   "source": [
    "#### Для eu_sales"
   ]
  },
  {
   "cell_type": "code",
   "execution_count": 163,
   "metadata": {},
   "outputs": [
    {
     "data": {
      "text/html": [
       "<div>\n",
       "<style scoped>\n",
       "    .dataframe tbody tr th:only-of-type {\n",
       "        vertical-align: middle;\n",
       "    }\n",
       "\n",
       "    .dataframe tbody tr th {\n",
       "        vertical-align: top;\n",
       "    }\n",
       "\n",
       "    .dataframe thead th {\n",
       "        text-align: right;\n",
       "    }\n",
       "</style>\n",
       "<table border=\"1\" class=\"dataframe\">\n",
       "  <thead>\n",
       "    <tr style=\"text-align: right;\">\n",
       "      <th></th>\n",
       "      <th>platform</th>\n",
       "      <th>eu_sales</th>\n",
       "    </tr>\n",
       "  </thead>\n",
       "  <tbody>\n",
       "    <tr>\n",
       "      <th>0</th>\n",
       "      <td>PS3</td>\n",
       "      <td>0.327191</td>\n",
       "    </tr>\n",
       "    <tr>\n",
       "      <th>1</th>\n",
       "      <td>X360</td>\n",
       "      <td>0.250310</td>\n",
       "    </tr>\n",
       "    <tr>\n",
       "      <th>2</th>\n",
       "      <td>PS4</td>\n",
       "      <td>0.216121</td>\n",
       "    </tr>\n",
       "    <tr>\n",
       "      <th>3</th>\n",
       "      <td>PC</td>\n",
       "      <td>0.105418</td>\n",
       "    </tr>\n",
       "    <tr>\n",
       "      <th>4</th>\n",
       "      <td>Wii</td>\n",
       "      <td>0.100960</td>\n",
       "    </tr>\n",
       "  </tbody>\n",
       "</table>\n",
       "</div>"
      ],
      "text/plain": [
       "  platform  eu_sales\n",
       "0      PS3  0.327191\n",
       "1     X360  0.250310\n",
       "2      PS4  0.216121\n",
       "3       PC  0.105418\n",
       "4      Wii  0.100960"
      ]
     },
     "execution_count": 163,
     "metadata": {},
     "output_type": "execute_result"
    }
   ],
   "source": [
    "df_eu_sales_top5 = popular_platforms(df_new, 'eu_sales')\n",
    "df_eu_sales_top5"
   ]
  },
  {
   "cell_type": "markdown",
   "metadata": {},
   "source": [
    "#### Для jp_sales"
   ]
  },
  {
   "cell_type": "code",
   "execution_count": 164,
   "metadata": {},
   "outputs": [
    {
     "data": {
      "text/html": [
       "<div>\n",
       "<style scoped>\n",
       "    .dataframe tbody tr th:only-of-type {\n",
       "        vertical-align: middle;\n",
       "    }\n",
       "\n",
       "    .dataframe tbody tr th {\n",
       "        vertical-align: top;\n",
       "    }\n",
       "\n",
       "    .dataframe thead th {\n",
       "        text-align: right;\n",
       "    }\n",
       "</style>\n",
       "<table border=\"1\" class=\"dataframe\">\n",
       "  <thead>\n",
       "    <tr style=\"text-align: right;\">\n",
       "      <th></th>\n",
       "      <th>platform</th>\n",
       "      <th>jp_sales</th>\n",
       "    </tr>\n",
       "  </thead>\n",
       "  <tbody>\n",
       "    <tr>\n",
       "      <th>0</th>\n",
       "      <td>3DS</td>\n",
       "      <td>0.399571</td>\n",
       "    </tr>\n",
       "    <tr>\n",
       "      <th>1</th>\n",
       "      <td>PS3</td>\n",
       "      <td>0.235327</td>\n",
       "    </tr>\n",
       "    <tr>\n",
       "      <th>2</th>\n",
       "      <td>PSP</td>\n",
       "      <td>0.167580</td>\n",
       "    </tr>\n",
       "    <tr>\n",
       "      <th>3</th>\n",
       "      <td>DS</td>\n",
       "      <td>0.110793</td>\n",
       "    </tr>\n",
       "    <tr>\n",
       "      <th>4</th>\n",
       "      <td>PSV</td>\n",
       "      <td>0.086729</td>\n",
       "    </tr>\n",
       "  </tbody>\n",
       "</table>\n",
       "</div>"
      ],
      "text/plain": [
       "  platform  jp_sales\n",
       "0      3DS  0.399571\n",
       "1      PS3  0.235327\n",
       "2      PSP  0.167580\n",
       "3       DS  0.110793\n",
       "4      PSV  0.086729"
      ]
     },
     "execution_count": 164,
     "metadata": {},
     "output_type": "execute_result"
    }
   ],
   "source": [
    "df_jp_sales_top5 = popular_platforms(df_new, 'jp_sales')\n",
    "df_jp_sales_top5"
   ]
  },
  {
   "cell_type": "markdown",
   "metadata": {},
   "source": [
    "Для понимания долей объединю все таблицы."
   ]
  },
  {
   "cell_type": "code",
   "execution_count": 165,
   "metadata": {},
   "outputs": [
    {
     "data": {
      "text/html": [
       "<div>\n",
       "<style scoped>\n",
       "    .dataframe tbody tr th:only-of-type {\n",
       "        vertical-align: middle;\n",
       "    }\n",
       "\n",
       "    .dataframe tbody tr th {\n",
       "        vertical-align: top;\n",
       "    }\n",
       "\n",
       "    .dataframe thead th {\n",
       "        text-align: right;\n",
       "    }\n",
       "</style>\n",
       "<table border=\"1\" class=\"dataframe\">\n",
       "  <thead>\n",
       "    <tr style=\"text-align: right;\">\n",
       "      <th></th>\n",
       "      <th>platform</th>\n",
       "      <th>na_sales</th>\n",
       "      <th>eu_sales</th>\n",
       "      <th>jp_sales</th>\n",
       "    </tr>\n",
       "  </thead>\n",
       "  <tbody>\n",
       "    <tr>\n",
       "      <th>0</th>\n",
       "      <td>X360</td>\n",
       "      <td>0.376970</td>\n",
       "      <td>0.250310</td>\n",
       "      <td>NaN</td>\n",
       "    </tr>\n",
       "    <tr>\n",
       "      <th>1</th>\n",
       "      <td>PS3</td>\n",
       "      <td>0.258604</td>\n",
       "      <td>0.327191</td>\n",
       "      <td>0.235327</td>\n",
       "    </tr>\n",
       "    <tr>\n",
       "      <th>2</th>\n",
       "      <td>Wii</td>\n",
       "      <td>0.136719</td>\n",
       "      <td>0.100960</td>\n",
       "      <td>NaN</td>\n",
       "    </tr>\n",
       "    <tr>\n",
       "      <th>3</th>\n",
       "      <td>PS4</td>\n",
       "      <td>0.122664</td>\n",
       "      <td>0.216121</td>\n",
       "      <td>NaN</td>\n",
       "    </tr>\n",
       "    <tr>\n",
       "      <th>4</th>\n",
       "      <td>XOne</td>\n",
       "      <td>0.105043</td>\n",
       "      <td>NaN</td>\n",
       "      <td>NaN</td>\n",
       "    </tr>\n",
       "    <tr>\n",
       "      <th>5</th>\n",
       "      <td>PC</td>\n",
       "      <td>NaN</td>\n",
       "      <td>0.105418</td>\n",
       "      <td>NaN</td>\n",
       "    </tr>\n",
       "    <tr>\n",
       "      <th>6</th>\n",
       "      <td>3DS</td>\n",
       "      <td>NaN</td>\n",
       "      <td>NaN</td>\n",
       "      <td>0.399571</td>\n",
       "    </tr>\n",
       "    <tr>\n",
       "      <th>7</th>\n",
       "      <td>PSP</td>\n",
       "      <td>NaN</td>\n",
       "      <td>NaN</td>\n",
       "      <td>0.167580</td>\n",
       "    </tr>\n",
       "    <tr>\n",
       "      <th>8</th>\n",
       "      <td>DS</td>\n",
       "      <td>NaN</td>\n",
       "      <td>NaN</td>\n",
       "      <td>0.110793</td>\n",
       "    </tr>\n",
       "    <tr>\n",
       "      <th>9</th>\n",
       "      <td>PSV</td>\n",
       "      <td>NaN</td>\n",
       "      <td>NaN</td>\n",
       "      <td>0.086729</td>\n",
       "    </tr>\n",
       "  </tbody>\n",
       "</table>\n",
       "</div>"
      ],
      "text/plain": [
       "  platform  na_sales  eu_sales  jp_sales\n",
       "0     X360  0.376970  0.250310       NaN\n",
       "1      PS3  0.258604  0.327191  0.235327\n",
       "2      Wii  0.136719  0.100960       NaN\n",
       "3      PS4  0.122664  0.216121       NaN\n",
       "4     XOne  0.105043       NaN       NaN\n",
       "5       PC       NaN  0.105418       NaN\n",
       "6      3DS       NaN       NaN  0.399571\n",
       "7      PSP       NaN       NaN  0.167580\n",
       "8       DS       NaN       NaN  0.110793\n",
       "9      PSV       NaN       NaN  0.086729"
      ]
     },
     "execution_count": 165,
     "metadata": {},
     "output_type": "execute_result"
    }
   ],
   "source": [
    "df_na_sales_top5.merge(df_eu_sales_top5,\n",
    "                       how='outer',\n",
    "                       on='platform').merge(df_jp_sales_top5,\n",
    "                                            how='outer',\n",
    "                                            on='platform')"
   ]
  },
  {
   "cell_type": "markdown",
   "metadata": {},
   "source": [
    "Вывод.  \n",
    "Доли продаж можно посмотреть в таблице, но, что более интересно это то, что в Японии не были представлены такие платформы как PS4, X360 Wii, XOne. А в Европе наоборот, не были представлены такие платформы как 3DS, PSP, DS, PSV. Видимо популярность в разных регионах была разной."
   ]
  },
  {
   "cell_type": "markdown",
   "metadata": {},
   "source": [
    "### Самые популярные жанры (топ-5). Поясните разницу."
   ]
  },
  {
   "cell_type": "markdown",
   "metadata": {},
   "source": [
    "Создам функцию."
   ]
  },
  {
   "cell_type": "code",
   "execution_count": 166,
   "metadata": {},
   "outputs": [],
   "source": [
    "def genre_top5(dataframe, column_name):\n",
    "    func_df = dataframe.pivot_table(index='genre',  \n",
    "                                    values=column_name, aggfunc='sum').sort_values(by=column_name, \n",
    "                                                                                   ascending=False).reset_index().iloc[0:5]\n",
    "    return func_df"
   ]
  },
  {
   "cell_type": "markdown",
   "metadata": {},
   "source": [
    "#### Для na_sales"
   ]
  },
  {
   "cell_type": "code",
   "execution_count": 167,
   "metadata": {},
   "outputs": [
    {
     "data": {
      "text/html": [
       "<div>\n",
       "<style scoped>\n",
       "    .dataframe tbody tr th:only-of-type {\n",
       "        vertical-align: middle;\n",
       "    }\n",
       "\n",
       "    .dataframe tbody tr th {\n",
       "        vertical-align: top;\n",
       "    }\n",
       "\n",
       "    .dataframe thead th {\n",
       "        text-align: right;\n",
       "    }\n",
       "</style>\n",
       "<table border=\"1\" class=\"dataframe\">\n",
       "  <thead>\n",
       "    <tr style=\"text-align: right;\">\n",
       "      <th></th>\n",
       "      <th>genre</th>\n",
       "      <th>na_sales</th>\n",
       "    </tr>\n",
       "  </thead>\n",
       "  <tbody>\n",
       "    <tr>\n",
       "      <th>0</th>\n",
       "      <td>Action</td>\n",
       "      <td>290.64</td>\n",
       "    </tr>\n",
       "    <tr>\n",
       "      <th>1</th>\n",
       "      <td>Shooter</td>\n",
       "      <td>237.47</td>\n",
       "    </tr>\n",
       "    <tr>\n",
       "      <th>2</th>\n",
       "      <td>Sports</td>\n",
       "      <td>156.81</td>\n",
       "    </tr>\n",
       "    <tr>\n",
       "      <th>3</th>\n",
       "      <td>Misc</td>\n",
       "      <td>123.80</td>\n",
       "    </tr>\n",
       "    <tr>\n",
       "      <th>4</th>\n",
       "      <td>Role-Playing</td>\n",
       "      <td>112.05</td>\n",
       "    </tr>\n",
       "  </tbody>\n",
       "</table>\n",
       "</div>"
      ],
      "text/plain": [
       "          genre  na_sales\n",
       "0        Action    290.64\n",
       "1       Shooter    237.47\n",
       "2        Sports    156.81\n",
       "3          Misc    123.80\n",
       "4  Role-Playing    112.05"
      ]
     },
     "execution_count": 167,
     "metadata": {},
     "output_type": "execute_result"
    }
   ],
   "source": [
    "df_na_genres_top5 = genre_top5(df_new, 'na_sales')\n",
    "df_na_genres_top5"
   ]
  },
  {
   "cell_type": "markdown",
   "metadata": {},
   "source": [
    "#### Для eu_sales"
   ]
  },
  {
   "cell_type": "code",
   "execution_count": 168,
   "metadata": {},
   "outputs": [
    {
     "data": {
      "text/html": [
       "<div>\n",
       "<style scoped>\n",
       "    .dataframe tbody tr th:only-of-type {\n",
       "        vertical-align: middle;\n",
       "    }\n",
       "\n",
       "    .dataframe tbody tr th {\n",
       "        vertical-align: top;\n",
       "    }\n",
       "\n",
       "    .dataframe thead th {\n",
       "        text-align: right;\n",
       "    }\n",
       "</style>\n",
       "<table border=\"1\" class=\"dataframe\">\n",
       "  <thead>\n",
       "    <tr style=\"text-align: right;\">\n",
       "      <th></th>\n",
       "      <th>genre</th>\n",
       "      <th>eu_sales</th>\n",
       "    </tr>\n",
       "  </thead>\n",
       "  <tbody>\n",
       "    <tr>\n",
       "      <th>0</th>\n",
       "      <td>Action</td>\n",
       "      <td>233.63</td>\n",
       "    </tr>\n",
       "    <tr>\n",
       "      <th>1</th>\n",
       "      <td>Shooter</td>\n",
       "      <td>171.45</td>\n",
       "    </tr>\n",
       "    <tr>\n",
       "      <th>2</th>\n",
       "      <td>Sports</td>\n",
       "      <td>116.84</td>\n",
       "    </tr>\n",
       "    <tr>\n",
       "      <th>3</th>\n",
       "      <td>Role-Playing</td>\n",
       "      <td>75.48</td>\n",
       "    </tr>\n",
       "    <tr>\n",
       "      <th>4</th>\n",
       "      <td>Misc</td>\n",
       "      <td>66.09</td>\n",
       "    </tr>\n",
       "  </tbody>\n",
       "</table>\n",
       "</div>"
      ],
      "text/plain": [
       "          genre  eu_sales\n",
       "0        Action    233.63\n",
       "1       Shooter    171.45\n",
       "2        Sports    116.84\n",
       "3  Role-Playing     75.48\n",
       "4          Misc     66.09"
      ]
     },
     "execution_count": 168,
     "metadata": {},
     "output_type": "execute_result"
    }
   ],
   "source": [
    "df_eu_genres_top5 = genre_top5(df_new, 'eu_sales')\n",
    "df_eu_genres_top5"
   ]
  },
  {
   "cell_type": "markdown",
   "metadata": {},
   "source": [
    "#### Для jp_sales"
   ]
  },
  {
   "cell_type": "code",
   "execution_count": 169,
   "metadata": {},
   "outputs": [
    {
     "data": {
      "text/html": [
       "<div>\n",
       "<style scoped>\n",
       "    .dataframe tbody tr th:only-of-type {\n",
       "        vertical-align: middle;\n",
       "    }\n",
       "\n",
       "    .dataframe tbody tr th {\n",
       "        vertical-align: top;\n",
       "    }\n",
       "\n",
       "    .dataframe thead th {\n",
       "        text-align: right;\n",
       "    }\n",
       "</style>\n",
       "<table border=\"1\" class=\"dataframe\">\n",
       "  <thead>\n",
       "    <tr style=\"text-align: right;\">\n",
       "      <th></th>\n",
       "      <th>genre</th>\n",
       "      <th>jp_sales</th>\n",
       "    </tr>\n",
       "  </thead>\n",
       "  <tbody>\n",
       "    <tr>\n",
       "      <th>0</th>\n",
       "      <td>Role-Playing</td>\n",
       "      <td>103.54</td>\n",
       "    </tr>\n",
       "    <tr>\n",
       "      <th>1</th>\n",
       "      <td>Action</td>\n",
       "      <td>72.20</td>\n",
       "    </tr>\n",
       "    <tr>\n",
       "      <th>2</th>\n",
       "      <td>Misc</td>\n",
       "      <td>24.29</td>\n",
       "    </tr>\n",
       "    <tr>\n",
       "      <th>3</th>\n",
       "      <td>Platform</td>\n",
       "      <td>15.81</td>\n",
       "    </tr>\n",
       "    <tr>\n",
       "      <th>4</th>\n",
       "      <td>Adventure</td>\n",
       "      <td>15.67</td>\n",
       "    </tr>\n",
       "  </tbody>\n",
       "</table>\n",
       "</div>"
      ],
      "text/plain": [
       "          genre  jp_sales\n",
       "0  Role-Playing    103.54\n",
       "1        Action     72.20\n",
       "2          Misc     24.29\n",
       "3      Platform     15.81\n",
       "4     Adventure     15.67"
      ]
     },
     "execution_count": 169,
     "metadata": {},
     "output_type": "execute_result"
    }
   ],
   "source": [
    "df_jp_genres_top5 = genre_top5(df_new, 'jp_sales')\n",
    "df_jp_genres_top5"
   ]
  },
  {
   "cell_type": "markdown",
   "metadata": {},
   "source": [
    "Объединю таблицы."
   ]
  },
  {
   "cell_type": "code",
   "execution_count": 170,
   "metadata": {},
   "outputs": [
    {
     "data": {
      "text/html": [
       "<div>\n",
       "<style scoped>\n",
       "    .dataframe tbody tr th:only-of-type {\n",
       "        vertical-align: middle;\n",
       "    }\n",
       "\n",
       "    .dataframe tbody tr th {\n",
       "        vertical-align: top;\n",
       "    }\n",
       "\n",
       "    .dataframe thead th {\n",
       "        text-align: right;\n",
       "    }\n",
       "</style>\n",
       "<table border=\"1\" class=\"dataframe\">\n",
       "  <thead>\n",
       "    <tr style=\"text-align: right;\">\n",
       "      <th></th>\n",
       "      <th>genre</th>\n",
       "      <th>na_sales</th>\n",
       "      <th>eu_sales</th>\n",
       "      <th>jp_sales</th>\n",
       "    </tr>\n",
       "  </thead>\n",
       "  <tbody>\n",
       "    <tr>\n",
       "      <th>0</th>\n",
       "      <td>Action</td>\n",
       "      <td>290.64</td>\n",
       "      <td>233.63</td>\n",
       "      <td>72.20</td>\n",
       "    </tr>\n",
       "    <tr>\n",
       "      <th>1</th>\n",
       "      <td>Shooter</td>\n",
       "      <td>237.47</td>\n",
       "      <td>171.45</td>\n",
       "      <td>NaN</td>\n",
       "    </tr>\n",
       "    <tr>\n",
       "      <th>2</th>\n",
       "      <td>Sports</td>\n",
       "      <td>156.81</td>\n",
       "      <td>116.84</td>\n",
       "      <td>NaN</td>\n",
       "    </tr>\n",
       "    <tr>\n",
       "      <th>3</th>\n",
       "      <td>Misc</td>\n",
       "      <td>123.80</td>\n",
       "      <td>66.09</td>\n",
       "      <td>24.29</td>\n",
       "    </tr>\n",
       "    <tr>\n",
       "      <th>4</th>\n",
       "      <td>Role-Playing</td>\n",
       "      <td>112.05</td>\n",
       "      <td>75.48</td>\n",
       "      <td>103.54</td>\n",
       "    </tr>\n",
       "    <tr>\n",
       "      <th>5</th>\n",
       "      <td>Platform</td>\n",
       "      <td>NaN</td>\n",
       "      <td>NaN</td>\n",
       "      <td>15.81</td>\n",
       "    </tr>\n",
       "    <tr>\n",
       "      <th>6</th>\n",
       "      <td>Adventure</td>\n",
       "      <td>NaN</td>\n",
       "      <td>NaN</td>\n",
       "      <td>15.67</td>\n",
       "    </tr>\n",
       "  </tbody>\n",
       "</table>\n",
       "</div>"
      ],
      "text/plain": [
       "          genre  na_sales  eu_sales  jp_sales\n",
       "0        Action    290.64    233.63     72.20\n",
       "1       Shooter    237.47    171.45       NaN\n",
       "2        Sports    156.81    116.84       NaN\n",
       "3          Misc    123.80     66.09     24.29\n",
       "4  Role-Playing    112.05     75.48    103.54\n",
       "5      Platform       NaN       NaN     15.81\n",
       "6     Adventure       NaN       NaN     15.67"
      ]
     },
     "execution_count": 170,
     "metadata": {},
     "output_type": "execute_result"
    }
   ],
   "source": [
    "df_na_genres_top5.merge(df_eu_genres_top5,\n",
    "                        how='outer',\n",
    "                        on='genre').merge(df_jp_genres_top5,\n",
    "                                             how='outer',\n",
    "                                             on='genre')"
   ]
  },
  {
   "cell_type": "markdown",
   "metadata": {},
   "source": [
    "Вывод.  \n",
    "Жанр action доминировал в na_sales и eu_sales. В jp_sales доминировал role-playing (видимо японцы любят экзотику). Японцы в шутеры и спорт вообще не играют, а action у них идет на втором месте."
   ]
  },
  {
   "cell_type": "markdown",
   "metadata": {},
   "source": [
    "### Влияет ли рейтинг ESRB на продажи в отдельном регионе?"
   ]
  },
  {
   "cell_type": "markdown",
   "metadata": {},
   "source": [
    "Создам функцию."
   ]
  },
  {
   "cell_type": "code",
   "execution_count": 171,
   "metadata": {},
   "outputs": [],
   "source": [
    "def rating(dataframe, column_name):\n",
    "    func_df = dataframe.pivot_table(index='rating',  \n",
    "                                    values=column_name, aggfunc='sum').sort_values(by=column_name, \n",
    "                                                                                   ascending=False).reset_index()\n",
    "    return func_df"
   ]
  },
  {
   "cell_type": "markdown",
   "metadata": {},
   "source": [
    "#### Для na_sales"
   ]
  },
  {
   "cell_type": "code",
   "execution_count": 172,
   "metadata": {},
   "outputs": [
    {
     "data": {
      "text/html": [
       "<div>\n",
       "<style scoped>\n",
       "    .dataframe tbody tr th:only-of-type {\n",
       "        vertical-align: middle;\n",
       "    }\n",
       "\n",
       "    .dataframe tbody tr th {\n",
       "        vertical-align: top;\n",
       "    }\n",
       "\n",
       "    .dataframe thead th {\n",
       "        text-align: right;\n",
       "    }\n",
       "</style>\n",
       "<table border=\"1\" class=\"dataframe\">\n",
       "  <thead>\n",
       "    <tr style=\"text-align: right;\">\n",
       "      <th></th>\n",
       "      <th>rating</th>\n",
       "      <th>na_sales</th>\n",
       "    </tr>\n",
       "  </thead>\n",
       "  <tbody>\n",
       "    <tr>\n",
       "      <th>0</th>\n",
       "      <td>M</td>\n",
       "      <td>382.22</td>\n",
       "    </tr>\n",
       "    <tr>\n",
       "      <th>1</th>\n",
       "      <td>E</td>\n",
       "      <td>271.15</td>\n",
       "    </tr>\n",
       "    <tr>\n",
       "      <th>2</th>\n",
       "      <td>T</td>\n",
       "      <td>160.81</td>\n",
       "    </tr>\n",
       "    <tr>\n",
       "      <th>3</th>\n",
       "      <td>E10+</td>\n",
       "      <td>159.38</td>\n",
       "    </tr>\n",
       "    <tr>\n",
       "      <th>4</th>\n",
       "      <td>-</td>\n",
       "      <td>155.72</td>\n",
       "    </tr>\n",
       "    <tr>\n",
       "      <th>5</th>\n",
       "      <td>EC</td>\n",
       "      <td>1.13</td>\n",
       "    </tr>\n",
       "    <tr>\n",
       "      <th>6</th>\n",
       "      <td>RP</td>\n",
       "      <td>0.00</td>\n",
       "    </tr>\n",
       "  </tbody>\n",
       "</table>\n",
       "</div>"
      ],
      "text/plain": [
       "  rating  na_sales\n",
       "0      M    382.22\n",
       "1      E    271.15\n",
       "2      T    160.81\n",
       "3   E10+    159.38\n",
       "4      -    155.72\n",
       "5     EC      1.13\n",
       "6     RP      0.00"
      ]
     },
     "execution_count": 172,
     "metadata": {},
     "output_type": "execute_result"
    }
   ],
   "source": [
    "df_na_rating = rating(df_new, 'na_sales')\n",
    "df_na_rating"
   ]
  },
  {
   "cell_type": "markdown",
   "metadata": {},
   "source": [
    "#### Для eu_sales"
   ]
  },
  {
   "cell_type": "code",
   "execution_count": 173,
   "metadata": {},
   "outputs": [
    {
     "data": {
      "text/html": [
       "<div>\n",
       "<style scoped>\n",
       "    .dataframe tbody tr th:only-of-type {\n",
       "        vertical-align: middle;\n",
       "    }\n",
       "\n",
       "    .dataframe tbody tr th {\n",
       "        vertical-align: top;\n",
       "    }\n",
       "\n",
       "    .dataframe thead th {\n",
       "        text-align: right;\n",
       "    }\n",
       "</style>\n",
       "<table border=\"1\" class=\"dataframe\">\n",
       "  <thead>\n",
       "    <tr style=\"text-align: right;\">\n",
       "      <th></th>\n",
       "      <th>rating</th>\n",
       "      <th>eu_sales</th>\n",
       "    </tr>\n",
       "  </thead>\n",
       "  <tbody>\n",
       "    <tr>\n",
       "      <th>0</th>\n",
       "      <td>M</td>\n",
       "      <td>292.04</td>\n",
       "    </tr>\n",
       "    <tr>\n",
       "      <th>1</th>\n",
       "      <td>E</td>\n",
       "      <td>197.34</td>\n",
       "    </tr>\n",
       "    <tr>\n",
       "      <th>2</th>\n",
       "      <td>-</td>\n",
       "      <td>139.44</td>\n",
       "    </tr>\n",
       "    <tr>\n",
       "      <th>3</th>\n",
       "      <td>T</td>\n",
       "      <td>113.08</td>\n",
       "    </tr>\n",
       "    <tr>\n",
       "      <th>4</th>\n",
       "      <td>E10+</td>\n",
       "      <td>99.28</td>\n",
       "    </tr>\n",
       "    <tr>\n",
       "      <th>5</th>\n",
       "      <td>RP</td>\n",
       "      <td>0.03</td>\n",
       "    </tr>\n",
       "    <tr>\n",
       "      <th>6</th>\n",
       "      <td>EC</td>\n",
       "      <td>0.00</td>\n",
       "    </tr>\n",
       "  </tbody>\n",
       "</table>\n",
       "</div>"
      ],
      "text/plain": [
       "  rating  eu_sales\n",
       "0      M    292.04\n",
       "1      E    197.34\n",
       "2      -    139.44\n",
       "3      T    113.08\n",
       "4   E10+     99.28\n",
       "5     RP      0.03\n",
       "6     EC      0.00"
      ]
     },
     "execution_count": 173,
     "metadata": {},
     "output_type": "execute_result"
    }
   ],
   "source": [
    "df_eu_rating = rating(df_new, 'eu_sales')\n",
    "df_eu_rating"
   ]
  },
  {
   "cell_type": "markdown",
   "metadata": {},
   "source": [
    "#### Для jp_sales"
   ]
  },
  {
   "cell_type": "code",
   "execution_count": 174,
   "metadata": {},
   "outputs": [
    {
     "data": {
      "text/html": [
       "<div>\n",
       "<style scoped>\n",
       "    .dataframe tbody tr th:only-of-type {\n",
       "        vertical-align: middle;\n",
       "    }\n",
       "\n",
       "    .dataframe tbody tr th {\n",
       "        vertical-align: top;\n",
       "    }\n",
       "\n",
       "    .dataframe thead th {\n",
       "        text-align: right;\n",
       "    }\n",
       "</style>\n",
       "<table border=\"1\" class=\"dataframe\">\n",
       "  <thead>\n",
       "    <tr style=\"text-align: right;\">\n",
       "      <th></th>\n",
       "      <th>rating</th>\n",
       "      <th>jp_sales</th>\n",
       "    </tr>\n",
       "  </thead>\n",
       "  <tbody>\n",
       "    <tr>\n",
       "      <th>0</th>\n",
       "      <td>-</td>\n",
       "      <td>171.49</td>\n",
       "    </tr>\n",
       "    <tr>\n",
       "      <th>1</th>\n",
       "      <td>E</td>\n",
       "      <td>47.87</td>\n",
       "    </tr>\n",
       "    <tr>\n",
       "      <th>2</th>\n",
       "      <td>T</td>\n",
       "      <td>42.11</td>\n",
       "    </tr>\n",
       "    <tr>\n",
       "      <th>3</th>\n",
       "      <td>M</td>\n",
       "      <td>30.45</td>\n",
       "    </tr>\n",
       "    <tr>\n",
       "      <th>4</th>\n",
       "      <td>E10+</td>\n",
       "      <td>13.22</td>\n",
       "    </tr>\n",
       "    <tr>\n",
       "      <th>5</th>\n",
       "      <td>EC</td>\n",
       "      <td>0.00</td>\n",
       "    </tr>\n",
       "    <tr>\n",
       "      <th>6</th>\n",
       "      <td>RP</td>\n",
       "      <td>0.00</td>\n",
       "    </tr>\n",
       "  </tbody>\n",
       "</table>\n",
       "</div>"
      ],
      "text/plain": [
       "  rating  jp_sales\n",
       "0      -    171.49\n",
       "1      E     47.87\n",
       "2      T     42.11\n",
       "3      M     30.45\n",
       "4   E10+     13.22\n",
       "5     EC      0.00\n",
       "6     RP      0.00"
      ]
     },
     "execution_count": 174,
     "metadata": {},
     "output_type": "execute_result"
    }
   ],
   "source": [
    "df_jp_rating = rating(df_new, 'jp_sales')\n",
    "df_jp_rating"
   ]
  },
  {
   "cell_type": "markdown",
   "metadata": {},
   "source": [
    "Объединяю таблицы."
   ]
  },
  {
   "cell_type": "code",
   "execution_count": 175,
   "metadata": {},
   "outputs": [
    {
     "data": {
      "text/html": [
       "<div>\n",
       "<style scoped>\n",
       "    .dataframe tbody tr th:only-of-type {\n",
       "        vertical-align: middle;\n",
       "    }\n",
       "\n",
       "    .dataframe tbody tr th {\n",
       "        vertical-align: top;\n",
       "    }\n",
       "\n",
       "    .dataframe thead th {\n",
       "        text-align: right;\n",
       "    }\n",
       "</style>\n",
       "<table border=\"1\" class=\"dataframe\">\n",
       "  <thead>\n",
       "    <tr style=\"text-align: right;\">\n",
       "      <th></th>\n",
       "      <th>rating</th>\n",
       "      <th>na_sales</th>\n",
       "      <th>eu_sales</th>\n",
       "      <th>jp_sales</th>\n",
       "    </tr>\n",
       "  </thead>\n",
       "  <tbody>\n",
       "    <tr>\n",
       "      <th>0</th>\n",
       "      <td>M</td>\n",
       "      <td>382.22</td>\n",
       "      <td>292.04</td>\n",
       "      <td>30.45</td>\n",
       "    </tr>\n",
       "    <tr>\n",
       "      <th>1</th>\n",
       "      <td>E</td>\n",
       "      <td>271.15</td>\n",
       "      <td>197.34</td>\n",
       "      <td>47.87</td>\n",
       "    </tr>\n",
       "    <tr>\n",
       "      <th>2</th>\n",
       "      <td>T</td>\n",
       "      <td>160.81</td>\n",
       "      <td>113.08</td>\n",
       "      <td>42.11</td>\n",
       "    </tr>\n",
       "    <tr>\n",
       "      <th>3</th>\n",
       "      <td>E10+</td>\n",
       "      <td>159.38</td>\n",
       "      <td>99.28</td>\n",
       "      <td>13.22</td>\n",
       "    </tr>\n",
       "    <tr>\n",
       "      <th>4</th>\n",
       "      <td>-</td>\n",
       "      <td>155.72</td>\n",
       "      <td>139.44</td>\n",
       "      <td>171.49</td>\n",
       "    </tr>\n",
       "    <tr>\n",
       "      <th>5</th>\n",
       "      <td>EC</td>\n",
       "      <td>1.13</td>\n",
       "      <td>0.00</td>\n",
       "      <td>0.00</td>\n",
       "    </tr>\n",
       "    <tr>\n",
       "      <th>6</th>\n",
       "      <td>RP</td>\n",
       "      <td>0.00</td>\n",
       "      <td>0.03</td>\n",
       "      <td>0.00</td>\n",
       "    </tr>\n",
       "  </tbody>\n",
       "</table>\n",
       "</div>"
      ],
      "text/plain": [
       "  rating  na_sales  eu_sales  jp_sales\n",
       "0      M    382.22    292.04     30.45\n",
       "1      E    271.15    197.34     47.87\n",
       "2      T    160.81    113.08     42.11\n",
       "3   E10+    159.38     99.28     13.22\n",
       "4      -    155.72    139.44    171.49\n",
       "5     EC      1.13      0.00      0.00\n",
       "6     RP      0.00      0.03      0.00"
      ]
     },
     "execution_count": 175,
     "metadata": {},
     "output_type": "execute_result"
    }
   ],
   "source": [
    "df_na_rating.merge(df_eu_rating,\n",
    "                   how='outer',\n",
    "                   on='rating').merge(df_jp_rating,\n",
    "                                     how='outer',\n",
    "                                     on='rating')"
   ]
  },
  {
   "cell_type": "markdown",
   "metadata": {},
   "source": [
    "Вывод.  \n",
    "Тут ситуация двоякая. Не факт, что именно рейтинг влияет на продажи. Рейтинг то завязан на жанре. Но, если исходить из таблицы выше, то можно сказать, что игры с рейтингом M самые популярные (за исключением Японии). Есть еще рейтинги без оценок, но их не будем учитывать."
   ]
  },
  {
   "cell_type": "markdown",
   "metadata": {},
   "source": [
    "## Шаг 5: Проверяю гипотезы"
   ]
  },
  {
   "cell_type": "markdown",
   "metadata": {},
   "source": [
    "### Средние пользовательские рейтинги платформ Xbox One и PC одинаковые"
   ]
  },
  {
   "cell_type": "markdown",
   "metadata": {},
   "source": [
    "Нулевая гипотеза: средние пользовательские рейтинги платформы xbox one и pc одинаковые.  \n",
    "Альтернативная гипотеза: средние пользовательские рейтинги платформа xbox one и pc разные."
   ]
  },
  {
   "cell_type": "code",
   "execution_count": 176,
   "metadata": {},
   "outputs": [],
   "source": [
    "# Тут хранятся рейтинги по xbox\n",
    "user_score_xbox = df_new[df_new['platform'] == 'XOne']['user_score'].reset_index(drop=True).to_list()\n",
    "# Тут хранятся рейтинги по PC\n",
    "user_score_pc = df_new[df_new['platform'] == 'PC']['user_score'].reset_index(drop=True).to_list()"
   ]
  },
  {
   "cell_type": "markdown",
   "metadata": {},
   "source": [
    "Проверю гипотезу для того, чтобы оценить статистическую значимость разницы в средних между выборками (в данном случае это и есть критерий)."
   ]
  },
  {
   "cell_type": "code",
   "execution_count": 177,
   "metadata": {},
   "outputs": [
    {
     "name": "stdout",
     "output_type": "stream",
     "text": [
      "p-значение: 0.1677383282347323\n",
      "Не получилось отвергнуть нулевую гипотезу\n"
     ]
    }
   ],
   "source": [
    "# Задаю критический уровень статистической значимости\n",
    "# если p-value окажется меньше него - отвергнем гипотезу\n",
    "\n",
    "alpha = .05\n",
    "\n",
    "results = st.ttest_ind(user_score_xbox, user_score_pc, equal_var=False)\n",
    "\n",
    "print('p-значение:', results.pvalue)\n",
    "\n",
    "if results.pvalue<alpha:\n",
    "    print(\"Отвергаем нулевую гипотезу\")\n",
    "else:\n",
    "    print(\"Не получилось отвергнуть нулевую гипотезу\")"
   ]
  },
  {
   "cell_type": "markdown",
   "metadata": {},
   "source": [
    "Вывод.  \n",
    "Оснований полагать, что пользовательский рейтинг у xbox статистически значимо выше чем у pc - нет."
   ]
  },
  {
   "cell_type": "markdown",
   "metadata": {},
   "source": [
    "### Средние пользовательские рейтинги жанров Action и Sports разные"
   ]
  },
  {
   "cell_type": "markdown",
   "metadata": {},
   "source": [
    "Нулевая гипотеза: средние пользовательские рейтинги жанров action и sports одинаковые.  \n",
    "Альтернативная гипотеза: средние пользовательские рейтинги жанров action и sports разные.  "
   ]
  },
  {
   "cell_type": "code",
   "execution_count": 178,
   "metadata": {},
   "outputs": [],
   "source": [
    "# Тут хранятся рейтинги по action\n",
    "user_score_action = df_new[df_new['genre'] == 'Action']['user_score'].reset_index(drop=True).to_list()\n",
    "# Тут хранятся рейтинги по sports\n",
    "user_score_sports = df_new[df_new['genre'] == 'Sports']['user_score'].reset_index(drop=True).to_list()"
   ]
  },
  {
   "cell_type": "markdown",
   "metadata": {},
   "source": [
    "Проверю гипотезу для того, чтобы оценить статистическую значимость разницы в средних между выборками (в данном случае это и есть критерий)."
   ]
  },
  {
   "cell_type": "code",
   "execution_count": 179,
   "metadata": {},
   "outputs": [
    {
     "name": "stdout",
     "output_type": "stream",
     "text": [
      "p-значение: 4.927942252012442e-14\n",
      "Отвергаем нулевую гипотезу\n"
     ]
    }
   ],
   "source": [
    "# Задаю критический уровень статистической значимости\n",
    "# если p-value окажется меньше него - отвергнем гипотезу\n",
    "\n",
    "alpha = .05\n",
    "\n",
    "results = st.ttest_ind(user_score_action, user_score_sports, equal_var=False)\n",
    "\n",
    "print('p-значение:', results.pvalue)\n",
    "\n",
    "if results.pvalue<alpha:\n",
    "    print(\"Отвергаем нулевую гипотезу\")\n",
    "else:\n",
    "    print(\"Не получилось отвергнуть нулевую гипотезу\")"
   ]
  },
  {
   "cell_type": "markdown",
   "metadata": {},
   "source": [
    "Вывод.  \n",
    "Альтернативная гипотеза подтверждена - средние пользовательские рейтинги жанров action и sports разные."
   ]
  },
  {
   "cell_type": "markdown",
   "metadata": {},
   "source": [
    "## Общий вывод"
   ]
  },
  {
   "cell_type": "markdown",
   "metadata": {},
   "source": [
    "Данные были подготовлены к анализу.  \n",
    "Были выполнены все задания: найдены популярные платформа по разным регионам, популярные жанры по регионами, и т.д.  \n",
    "Были проверены нулевые и альтернативные гипотезы.  \n",
    "По каждому пункту был написан вывод."
   ]
  }
 ],
 "metadata": {
  "ExecuteTimeLog": [
   {
    "duration": 607,
    "start_time": "2022-01-25T14:36:45.191Z"
   },
   {
    "duration": 234,
    "start_time": "2022-01-25T14:36:45.800Z"
   },
   {
    "duration": 38,
    "start_time": "2022-01-25T14:36:54.703Z"
   },
   {
    "duration": 25,
    "start_time": "2022-01-25T14:36:58.763Z"
   },
   {
    "duration": 32,
    "start_time": "2022-01-25T14:37:45.560Z"
   },
   {
    "duration": 16,
    "start_time": "2022-01-25T14:38:13.243Z"
   },
   {
    "duration": 30,
    "start_time": "2022-01-25T14:38:52.281Z"
   },
   {
    "duration": 11,
    "start_time": "2022-01-25T14:39:05.844Z"
   },
   {
    "duration": 9,
    "start_time": "2022-01-25T14:39:28.331Z"
   },
   {
    "duration": 9,
    "start_time": "2022-01-25T14:39:40.400Z"
   },
   {
    "duration": 10,
    "start_time": "2022-01-25T14:40:48.219Z"
   },
   {
    "duration": 15,
    "start_time": "2022-01-25T14:41:41.260Z"
   },
   {
    "duration": 10,
    "start_time": "2022-01-25T14:41:45.643Z"
   },
   {
    "duration": 883,
    "start_time": "2022-01-25T19:48:55.905Z"
   },
   {
    "duration": -40,
    "start_time": "2022-01-25T19:48:56.831Z"
   },
   {
    "duration": 76,
    "start_time": "2022-01-25T19:49:13.094Z"
   },
   {
    "duration": 35,
    "start_time": "2022-01-25T19:49:13.961Z"
   },
   {
    "duration": 33,
    "start_time": "2022-01-25T19:49:15.487Z"
   },
   {
    "duration": 11,
    "start_time": "2022-01-25T19:49:26.586Z"
   },
   {
    "duration": 268,
    "start_time": "2022-01-25T19:51:01.005Z"
   },
   {
    "duration": 4,
    "start_time": "2022-01-25T19:52:20.757Z"
   },
   {
    "duration": 20,
    "start_time": "2022-01-25T19:52:25.087Z"
   },
   {
    "duration": 19,
    "start_time": "2022-01-25T20:00:20.751Z"
   },
   {
    "duration": 31,
    "start_time": "2022-01-25T20:04:26.219Z"
   },
   {
    "duration": 12,
    "start_time": "2022-01-25T20:04:31.069Z"
   },
   {
    "duration": 18,
    "start_time": "2022-01-25T20:08:49.636Z"
   },
   {
    "duration": 15,
    "start_time": "2022-01-25T20:14:18.359Z"
   },
   {
    "duration": 10,
    "start_time": "2022-01-25T20:14:28.624Z"
   },
   {
    "duration": 10,
    "start_time": "2022-01-25T20:15:00.093Z"
   },
   {
    "duration": 3,
    "start_time": "2022-01-25T20:15:09.630Z"
   },
   {
    "duration": 52,
    "start_time": "2022-01-25T20:15:09.635Z"
   },
   {
    "duration": 3,
    "start_time": "2022-01-25T20:15:09.689Z"
   },
   {
    "duration": 3,
    "start_time": "2022-01-25T20:15:13.492Z"
   },
   {
    "duration": 15,
    "start_time": "2022-01-25T20:15:14.174Z"
   },
   {
    "duration": 29,
    "start_time": "2022-01-25T20:15:43.687Z"
   },
   {
    "duration": 277,
    "start_time": "2022-01-25T20:16:59.176Z"
   },
   {
    "duration": 270,
    "start_time": "2022-01-25T20:17:03.626Z"
   },
   {
    "duration": 5,
    "start_time": "2022-01-25T20:17:20.956Z"
   },
   {
    "duration": 5,
    "start_time": "2022-01-25T20:17:28.001Z"
   },
   {
    "duration": 5,
    "start_time": "2022-01-25T20:17:40.009Z"
   },
   {
    "duration": 20,
    "start_time": "2022-01-25T20:18:17.891Z"
   },
   {
    "duration": 5,
    "start_time": "2022-01-25T20:22:06.701Z"
   },
   {
    "duration": 5,
    "start_time": "2022-01-25T20:22:11.578Z"
   },
   {
    "duration": 9,
    "start_time": "2022-01-25T20:22:26.942Z"
   },
   {
    "duration": 7,
    "start_time": "2022-01-25T20:27:00.779Z"
   },
   {
    "duration": 9,
    "start_time": "2022-01-25T20:27:01.547Z"
   },
   {
    "duration": 8,
    "start_time": "2022-01-25T20:29:49.524Z"
   },
   {
    "duration": 9,
    "start_time": "2022-01-25T20:31:30.978Z"
   },
   {
    "duration": 9,
    "start_time": "2022-01-25T20:31:31.622Z"
   },
   {
    "duration": 9,
    "start_time": "2022-01-25T20:31:52.299Z"
   },
   {
    "duration": 15,
    "start_time": "2022-01-25T20:32:13.861Z"
   },
   {
    "duration": 19,
    "start_time": "2022-01-25T20:32:54.346Z"
   },
   {
    "duration": 6,
    "start_time": "2022-01-25T20:34:17.404Z"
   },
   {
    "duration": 125,
    "start_time": "2022-01-25T20:34:24.730Z"
   },
   {
    "duration": 265,
    "start_time": "2022-01-25T20:34:33.262Z"
   },
   {
    "duration": 6,
    "start_time": "2022-01-25T20:34:51.280Z"
   },
   {
    "duration": 6,
    "start_time": "2022-01-25T20:35:03.422Z"
   },
   {
    "duration": 4,
    "start_time": "2022-01-25T20:35:11.306Z"
   },
   {
    "duration": 18,
    "start_time": "2022-01-25T20:35:35.275Z"
   },
   {
    "duration": 185,
    "start_time": "2022-01-25T20:35:54.873Z"
   },
   {
    "duration": 223,
    "start_time": "2022-01-25T20:36:10.491Z"
   },
   {
    "duration": 236,
    "start_time": "2022-01-25T20:36:15.192Z"
   },
   {
    "duration": 304,
    "start_time": "2022-01-25T20:36:20.282Z"
   },
   {
    "duration": 5,
    "start_time": "2022-01-25T20:36:41.973Z"
   },
   {
    "duration": 5,
    "start_time": "2022-01-25T20:36:56.451Z"
   },
   {
    "duration": 20,
    "start_time": "2022-01-25T20:37:14.827Z"
   },
   {
    "duration": 257,
    "start_time": "2022-01-25T20:37:39.437Z"
   },
   {
    "duration": 6,
    "start_time": "2022-01-25T20:37:59.389Z"
   },
   {
    "duration": 5,
    "start_time": "2022-01-25T20:38:23.964Z"
   },
   {
    "duration": 4,
    "start_time": "2022-01-25T20:42:18.351Z"
   },
   {
    "duration": 8,
    "start_time": "2022-01-25T20:42:33.278Z"
   },
   {
    "duration": 6,
    "start_time": "2022-01-25T20:43:18.865Z"
   },
   {
    "duration": 262,
    "start_time": "2022-01-25T20:44:28.128Z"
   },
   {
    "duration": 264,
    "start_time": "2022-01-25T20:44:33.156Z"
   },
   {
    "duration": 6,
    "start_time": "2022-01-25T20:44:43.370Z"
   },
   {
    "duration": 6,
    "start_time": "2022-01-25T20:44:57.641Z"
   },
   {
    "duration": 7,
    "start_time": "2022-01-25T20:45:36.064Z"
   },
   {
    "duration": 6,
    "start_time": "2022-01-25T20:45:59.664Z"
   },
   {
    "duration": 10,
    "start_time": "2022-01-25T20:47:25.750Z"
   },
   {
    "duration": 22,
    "start_time": "2022-01-25T20:50:35.572Z"
   },
   {
    "duration": 9,
    "start_time": "2022-01-25T20:50:49.607Z"
   },
   {
    "duration": 1078,
    "start_time": "2022-01-25T20:51:47.958Z"
   },
   {
    "duration": 1073,
    "start_time": "2022-01-25T20:51:59.065Z"
   },
   {
    "duration": 1028,
    "start_time": "2022-01-25T20:52:16.569Z"
   },
   {
    "duration": 1035,
    "start_time": "2022-01-25T20:52:44.599Z"
   },
   {
    "duration": 21,
    "start_time": "2022-01-25T20:53:04.195Z"
   },
   {
    "duration": 256,
    "start_time": "2022-01-25T20:53:10.936Z"
   },
   {
    "duration": 22,
    "start_time": "2022-01-25T20:53:17.009Z"
   },
   {
    "duration": 85,
    "start_time": "2022-01-25T20:53:43.584Z"
   },
   {
    "duration": 20,
    "start_time": "2022-01-25T20:53:51.649Z"
   },
   {
    "duration": 9,
    "start_time": "2022-01-25T20:54:16.992Z"
   },
   {
    "duration": 6546,
    "start_time": "2022-01-25T20:54:41.449Z"
   },
   {
    "duration": 13,
    "start_time": "2022-01-25T20:54:58.647Z"
   },
   {
    "duration": 19,
    "start_time": "2022-01-25T20:56:02.646Z"
   },
   {
    "duration": 23,
    "start_time": "2022-01-25T20:56:20.794Z"
   },
   {
    "duration": 256,
    "start_time": "2022-01-25T20:59:23.984Z"
   },
   {
    "duration": 284,
    "start_time": "2022-01-25T20:59:30.332Z"
   },
   {
    "duration": 36,
    "start_time": "2022-01-25T21:01:15.547Z"
   },
   {
    "duration": 6,
    "start_time": "2022-01-25T21:01:51.996Z"
   },
   {
    "duration": 26,
    "start_time": "2022-01-25T21:02:03.151Z"
   },
   {
    "duration": 29,
    "start_time": "2022-01-25T21:02:09.066Z"
   },
   {
    "duration": 6,
    "start_time": "2022-01-25T21:02:18.466Z"
   },
   {
    "duration": 25,
    "start_time": "2022-01-25T21:02:46.950Z"
   },
   {
    "duration": 12,
    "start_time": "2022-01-25T21:04:46.308Z"
   },
   {
    "duration": 19,
    "start_time": "2022-01-25T21:05:03.779Z"
   },
   {
    "duration": 10,
    "start_time": "2022-01-25T21:05:19.127Z"
   },
   {
    "duration": 18,
    "start_time": "2022-01-25T21:05:19.847Z"
   },
   {
    "duration": 3,
    "start_time": "2022-01-25T21:05:38.631Z"
   },
   {
    "duration": 37,
    "start_time": "2022-01-25T21:05:38.639Z"
   },
   {
    "duration": 3,
    "start_time": "2022-01-25T21:05:38.678Z"
   },
   {
    "duration": 11,
    "start_time": "2022-01-25T21:05:38.684Z"
   },
   {
    "duration": 9,
    "start_time": "2022-01-25T21:05:38.697Z"
   },
   {
    "duration": 10,
    "start_time": "2022-01-25T21:05:38.708Z"
   },
   {
    "duration": 6,
    "start_time": "2022-01-25T21:05:38.720Z"
   },
   {
    "duration": 261,
    "start_time": "2022-01-25T21:05:38.727Z"
   },
   {
    "duration": 25,
    "start_time": "2022-01-25T21:05:42.253Z"
   },
   {
    "duration": 10,
    "start_time": "2022-01-25T21:05:43.934Z"
   },
   {
    "duration": 18,
    "start_time": "2022-01-25T21:05:46.711Z"
   },
   {
    "duration": 7,
    "start_time": "2022-01-25T21:06:04.517Z"
   },
   {
    "duration": 10,
    "start_time": "2022-01-25T21:06:13.495Z"
   },
   {
    "duration": 259,
    "start_time": "2022-01-25T21:16:23.821Z"
   },
   {
    "duration": 25,
    "start_time": "2022-01-25T21:16:31.662Z"
   },
   {
    "duration": 9,
    "start_time": "2022-01-25T21:16:32.132Z"
   },
   {
    "duration": 19,
    "start_time": "2022-01-25T21:16:35.081Z"
   },
   {
    "duration": 11,
    "start_time": "2022-01-25T21:17:09.163Z"
   },
   {
    "duration": 8,
    "start_time": "2022-01-25T21:18:09.322Z"
   },
   {
    "duration": 7,
    "start_time": "2022-01-25T21:18:17.962Z"
   },
   {
    "duration": 7,
    "start_time": "2022-01-25T21:18:37.169Z"
   },
   {
    "duration": 10,
    "start_time": "2022-01-25T21:20:42.110Z"
   },
   {
    "duration": 270,
    "start_time": "2022-01-25T21:20:49.781Z"
   },
   {
    "duration": 11,
    "start_time": "2022-01-25T21:20:54.719Z"
   },
   {
    "duration": 263,
    "start_time": "2022-01-25T21:23:12.667Z"
   },
   {
    "duration": 247,
    "start_time": "2022-01-25T21:23:28.864Z"
   },
   {
    "duration": 5,
    "start_time": "2022-01-25T21:23:40.805Z"
   },
   {
    "duration": 7,
    "start_time": "2022-01-25T21:23:46.349Z"
   },
   {
    "duration": 297,
    "start_time": "2022-01-25T21:23:54.489Z"
   },
   {
    "duration": 691,
    "start_time": "2022-01-25T21:24:23.617Z"
   },
   {
    "duration": 6,
    "start_time": "2022-01-25T21:24:53.000Z"
   },
   {
    "duration": 10,
    "start_time": "2022-01-25T21:24:57.872Z"
   },
   {
    "duration": 8,
    "start_time": "2022-01-25T21:25:09.688Z"
   },
   {
    "duration": 7,
    "start_time": "2022-01-25T21:25:25.418Z"
   },
   {
    "duration": 290,
    "start_time": "2022-01-25T21:25:28.653Z"
   },
   {
    "duration": 5,
    "start_time": "2022-01-25T21:26:43.137Z"
   },
   {
    "duration": 6,
    "start_time": "2022-01-25T21:27:42.781Z"
   },
   {
    "duration": 11,
    "start_time": "2022-01-25T21:27:50.698Z"
   },
   {
    "duration": 11,
    "start_time": "2022-01-25T21:28:38.980Z"
   },
   {
    "duration": 11,
    "start_time": "2022-01-25T21:28:55.941Z"
   },
   {
    "duration": 9,
    "start_time": "2022-01-25T21:29:17.579Z"
   },
   {
    "duration": 9,
    "start_time": "2022-01-25T21:29:26.170Z"
   },
   {
    "duration": 3,
    "start_time": "2022-01-25T21:33:16.761Z"
   },
   {
    "duration": 36,
    "start_time": "2022-01-25T21:33:16.770Z"
   },
   {
    "duration": 2,
    "start_time": "2022-01-25T21:33:16.808Z"
   },
   {
    "duration": 13,
    "start_time": "2022-01-25T21:33:16.812Z"
   },
   {
    "duration": 9,
    "start_time": "2022-01-25T21:33:16.827Z"
   },
   {
    "duration": 10,
    "start_time": "2022-01-25T21:33:16.838Z"
   },
   {
    "duration": 10,
    "start_time": "2022-01-25T21:33:16.849Z"
   },
   {
    "duration": 268,
    "start_time": "2022-01-25T21:33:23.616Z"
   },
   {
    "duration": 11,
    "start_time": "2022-01-25T21:33:29.144Z"
   },
   {
    "duration": 9,
    "start_time": "2022-01-25T21:33:31.546Z"
   },
   {
    "duration": 10,
    "start_time": "2022-01-25T21:33:40.237Z"
   },
   {
    "duration": 9,
    "start_time": "2022-01-25T21:33:46.366Z"
   },
   {
    "duration": 8,
    "start_time": "2022-01-25T21:34:08.035Z"
   },
   {
    "duration": 12,
    "start_time": "2022-01-25T21:36:19.853Z"
   },
   {
    "duration": 12,
    "start_time": "2022-01-25T21:36:30.137Z"
   },
   {
    "duration": 11,
    "start_time": "2022-01-25T21:37:29.032Z"
   },
   {
    "duration": 20,
    "start_time": "2022-01-25T21:37:36.622Z"
   },
   {
    "duration": 10,
    "start_time": "2022-01-25T21:40:05.864Z"
   },
   {
    "duration": 87,
    "start_time": "2022-01-25T21:42:02.122Z"
   },
   {
    "duration": 8,
    "start_time": "2022-01-25T21:47:50.386Z"
   },
   {
    "duration": 8,
    "start_time": "2022-01-25T21:48:36.640Z"
   },
   {
    "duration": 7,
    "start_time": "2022-01-25T21:48:43.222Z"
   },
   {
    "duration": 9,
    "start_time": "2022-01-25T21:48:44.306Z"
   },
   {
    "duration": 10,
    "start_time": "2022-01-25T21:49:06.357Z"
   },
   {
    "duration": 8,
    "start_time": "2022-01-25T21:49:11.824Z"
   },
   {
    "duration": 21,
    "start_time": "2022-01-25T21:49:39.624Z"
   },
   {
    "duration": 21,
    "start_time": "2022-01-25T21:49:56.751Z"
   },
   {
    "duration": 9,
    "start_time": "2022-01-25T21:49:59.834Z"
   },
   {
    "duration": 8,
    "start_time": "2022-01-25T21:50:04.251Z"
   },
   {
    "duration": 22,
    "start_time": "2022-01-25T21:50:24.058Z"
   },
   {
    "duration": 9,
    "start_time": "2022-01-25T21:50:36.699Z"
   },
   {
    "duration": 2,
    "start_time": "2022-01-25T21:50:46.739Z"
   },
   {
    "duration": 39,
    "start_time": "2022-01-25T21:50:46.743Z"
   },
   {
    "duration": 3,
    "start_time": "2022-01-25T21:50:46.784Z"
   },
   {
    "duration": 13,
    "start_time": "2022-01-25T21:50:46.789Z"
   },
   {
    "duration": 9,
    "start_time": "2022-01-25T21:50:46.804Z"
   },
   {
    "duration": 12,
    "start_time": "2022-01-25T21:50:46.814Z"
   },
   {
    "duration": 8,
    "start_time": "2022-01-25T21:50:46.828Z"
   },
   {
    "duration": 9,
    "start_time": "2022-01-25T21:50:46.838Z"
   },
   {
    "duration": 21,
    "start_time": "2022-01-25T21:50:49.587Z"
   },
   {
    "duration": 9,
    "start_time": "2022-01-25T21:50:51.294Z"
   },
   {
    "duration": 8,
    "start_time": "2022-01-25T21:50:52.892Z"
   },
   {
    "duration": 19,
    "start_time": "2022-01-25T21:52:16.581Z"
   },
   {
    "duration": 8,
    "start_time": "2022-01-25T21:52:30.390Z"
   },
   {
    "duration": 6410,
    "start_time": "2022-01-25T21:52:45.270Z"
   },
   {
    "duration": 8,
    "start_time": "2022-01-25T21:56:52.390Z"
   },
   {
    "duration": 15,
    "start_time": "2022-01-25T21:57:07.389Z"
   },
   {
    "duration": 10,
    "start_time": "2022-01-25T21:57:27.756Z"
   },
   {
    "duration": 10,
    "start_time": "2022-01-25T21:57:28.809Z"
   },
   {
    "duration": 2,
    "start_time": "2022-01-25T21:57:49.896Z"
   },
   {
    "duration": 37,
    "start_time": "2022-01-25T21:57:49.901Z"
   },
   {
    "duration": 3,
    "start_time": "2022-01-25T21:57:49.939Z"
   },
   {
    "duration": 10,
    "start_time": "2022-01-25T21:57:49.944Z"
   },
   {
    "duration": 9,
    "start_time": "2022-01-25T21:57:49.956Z"
   },
   {
    "duration": 9,
    "start_time": "2022-01-25T21:57:49.967Z"
   },
   {
    "duration": 27,
    "start_time": "2022-01-25T21:57:49.978Z"
   },
   {
    "duration": 10,
    "start_time": "2022-01-25T21:57:50.007Z"
   },
   {
    "duration": 9,
    "start_time": "2022-01-25T21:57:52.536Z"
   },
   {
    "duration": 12,
    "start_time": "2022-01-25T21:57:53.087Z"
   },
   {
    "duration": 9,
    "start_time": "2022-01-25T21:57:54.629Z"
   },
   {
    "duration": 3,
    "start_time": "2022-01-25T21:58:17.410Z"
   },
   {
    "duration": 38,
    "start_time": "2022-01-25T21:58:17.415Z"
   },
   {
    "duration": 4,
    "start_time": "2022-01-25T21:58:17.455Z"
   },
   {
    "duration": 12,
    "start_time": "2022-01-25T21:58:17.461Z"
   },
   {
    "duration": 10,
    "start_time": "2022-01-25T21:58:17.475Z"
   },
   {
    "duration": 18,
    "start_time": "2022-01-25T21:58:17.487Z"
   },
   {
    "duration": 10,
    "start_time": "2022-01-25T21:58:19.627Z"
   },
   {
    "duration": 10,
    "start_time": "2022-01-25T21:58:21.416Z"
   },
   {
    "duration": 8,
    "start_time": "2022-01-25T21:58:54.719Z"
   },
   {
    "duration": 8,
    "start_time": "2022-01-25T21:59:02.401Z"
   },
   {
    "duration": 8,
    "start_time": "2022-01-25T21:59:31.169Z"
   },
   {
    "duration": 278,
    "start_time": "2022-01-25T21:59:37.259Z"
   },
   {
    "duration": 6,
    "start_time": "2022-01-25T21:59:45.735Z"
   },
   {
    "duration": 8,
    "start_time": "2022-01-25T21:59:54.723Z"
   },
   {
    "duration": 5,
    "start_time": "2022-01-25T21:59:55.855Z"
   },
   {
    "duration": 14,
    "start_time": "2022-01-25T22:00:15.340Z"
   },
   {
    "duration": 6,
    "start_time": "2022-01-25T22:00:16.766Z"
   },
   {
    "duration": 11,
    "start_time": "2022-01-25T22:00:38.108Z"
   },
   {
    "duration": 2,
    "start_time": "2022-01-25T22:00:43.062Z"
   },
   {
    "duration": 51,
    "start_time": "2022-01-25T22:00:43.069Z"
   },
   {
    "duration": 2,
    "start_time": "2022-01-25T22:00:43.122Z"
   },
   {
    "duration": 17,
    "start_time": "2022-01-25T22:00:43.127Z"
   },
   {
    "duration": 14,
    "start_time": "2022-01-25T22:00:43.146Z"
   },
   {
    "duration": 15,
    "start_time": "2022-01-25T22:00:43.161Z"
   },
   {
    "duration": 24,
    "start_time": "2022-01-25T22:00:43.177Z"
   },
   {
    "duration": 22,
    "start_time": "2022-01-25T22:00:43.202Z"
   },
   {
    "duration": 11,
    "start_time": "2022-01-25T22:00:45.079Z"
   },
   {
    "duration": 13,
    "start_time": "2022-01-25T22:01:10.704Z"
   },
   {
    "duration": 96,
    "start_time": "2022-01-25T22:02:00.410Z"
   },
   {
    "duration": 6,
    "start_time": "2022-01-25T22:02:54.070Z"
   },
   {
    "duration": 21,
    "start_time": "2022-01-25T22:03:05.995Z"
   },
   {
    "duration": 259,
    "start_time": "2022-01-25T22:04:28.159Z"
   },
   {
    "duration": 5,
    "start_time": "2022-01-25T22:04:39.344Z"
   },
   {
    "duration": 6,
    "start_time": "2022-01-25T22:04:51.221Z"
   },
   {
    "duration": 9,
    "start_time": "2022-01-25T22:05:02.804Z"
   },
   {
    "duration": 7,
    "start_time": "2022-01-25T22:05:21.324Z"
   },
   {
    "duration": 23,
    "start_time": "2022-01-25T22:05:27.122Z"
   },
   {
    "duration": 3,
    "start_time": "2022-01-25T22:05:48.414Z"
   },
   {
    "duration": 38,
    "start_time": "2022-01-25T22:05:48.421Z"
   },
   {
    "duration": 3,
    "start_time": "2022-01-25T22:05:48.460Z"
   },
   {
    "duration": 13,
    "start_time": "2022-01-25T22:05:48.465Z"
   },
   {
    "duration": 8,
    "start_time": "2022-01-25T22:05:48.480Z"
   },
   {
    "duration": 9,
    "start_time": "2022-01-25T22:05:48.489Z"
   },
   {
    "duration": 9,
    "start_time": "2022-01-25T22:05:48.499Z"
   },
   {
    "duration": 10,
    "start_time": "2022-01-25T22:05:54.711Z"
   },
   {
    "duration": 30,
    "start_time": "2022-01-25T22:06:36.835Z"
   },
   {
    "duration": 2,
    "start_time": "2022-01-25T22:07:00.145Z"
   },
   {
    "duration": 10,
    "start_time": "2022-01-25T22:07:06.077Z"
   },
   {
    "duration": 7,
    "start_time": "2022-01-25T22:08:07.688Z"
   },
   {
    "duration": 23,
    "start_time": "2022-01-25T22:09:04.874Z"
   },
   {
    "duration": 26,
    "start_time": "2022-01-25T22:09:32.205Z"
   },
   {
    "duration": 21,
    "start_time": "2022-01-25T22:09:54.367Z"
   },
   {
    "duration": 23,
    "start_time": "2022-01-25T22:10:04.609Z"
   },
   {
    "duration": 22,
    "start_time": "2022-01-25T22:10:09.744Z"
   },
   {
    "duration": 9,
    "start_time": "2022-01-25T22:10:17.075Z"
   },
   {
    "duration": 20,
    "start_time": "2022-01-25T22:10:52.760Z"
   },
   {
    "duration": 9,
    "start_time": "2022-01-25T22:11:03.808Z"
   },
   {
    "duration": 17,
    "start_time": "2022-01-25T22:11:09.843Z"
   },
   {
    "duration": 23,
    "start_time": "2022-01-25T22:11:16.010Z"
   },
   {
    "duration": 7,
    "start_time": "2022-01-25T22:12:44.196Z"
   },
   {
    "duration": 6,
    "start_time": "2022-01-25T22:12:50.754Z"
   },
   {
    "duration": 21,
    "start_time": "2022-01-25T22:13:10.572Z"
   },
   {
    "duration": 22,
    "start_time": "2022-01-25T22:13:39.378Z"
   },
   {
    "duration": 11,
    "start_time": "2022-01-25T22:13:55.162Z"
   },
   {
    "duration": 84,
    "start_time": "2022-01-25T22:14:33.230Z"
   },
   {
    "duration": 2,
    "start_time": "2022-01-25T22:15:26.993Z"
   },
   {
    "duration": 45,
    "start_time": "2022-01-25T22:15:26.999Z"
   },
   {
    "duration": 3,
    "start_time": "2022-01-25T22:15:27.046Z"
   },
   {
    "duration": 15,
    "start_time": "2022-01-25T22:15:27.051Z"
   },
   {
    "duration": 19,
    "start_time": "2022-01-25T22:15:27.068Z"
   },
   {
    "duration": 8,
    "start_time": "2022-01-25T22:15:27.089Z"
   },
   {
    "duration": 9,
    "start_time": "2022-01-25T22:15:27.098Z"
   },
   {
    "duration": 8,
    "start_time": "2022-01-25T22:15:27.109Z"
   },
   {
    "duration": 5,
    "start_time": "2022-01-25T22:15:29.214Z"
   },
   {
    "duration": 8,
    "start_time": "2022-01-25T22:15:33.159Z"
   },
   {
    "duration": 252,
    "start_time": "2022-01-25T22:16:17.303Z"
   },
   {
    "duration": 7,
    "start_time": "2022-01-25T22:16:33.845Z"
   },
   {
    "duration": 9,
    "start_time": "2022-01-25T22:16:36.740Z"
   },
   {
    "duration": 9,
    "start_time": "2022-01-25T22:17:39.696Z"
   },
   {
    "duration": 9,
    "start_time": "2022-01-25T22:18:20.490Z"
   },
   {
    "duration": 2,
    "start_time": "2022-01-25T22:18:28.734Z"
   },
   {
    "duration": 42,
    "start_time": "2022-01-25T22:18:28.740Z"
   },
   {
    "duration": 2,
    "start_time": "2022-01-25T22:18:28.784Z"
   },
   {
    "duration": 13,
    "start_time": "2022-01-25T22:18:28.788Z"
   },
   {
    "duration": 8,
    "start_time": "2022-01-25T22:18:28.803Z"
   },
   {
    "duration": 15,
    "start_time": "2022-01-25T22:18:28.812Z"
   },
   {
    "duration": 8,
    "start_time": "2022-01-25T22:18:28.829Z"
   },
   {
    "duration": 9,
    "start_time": "2022-01-25T22:18:28.838Z"
   },
   {
    "duration": 14,
    "start_time": "2022-01-25T22:18:28.848Z"
   },
   {
    "duration": 6,
    "start_time": "2022-01-25T22:18:30.714Z"
   },
   {
    "duration": 9,
    "start_time": "2022-01-25T22:18:31.644Z"
   },
   {
    "duration": 10,
    "start_time": "2022-01-25T22:18:35.719Z"
   },
   {
    "duration": 257,
    "start_time": "2022-01-25T22:18:45.311Z"
   },
   {
    "duration": 27,
    "start_time": "2022-01-25T22:20:17.310Z"
   },
   {
    "duration": 10,
    "start_time": "2022-01-25T22:20:26.828Z"
   },
   {
    "duration": 5,
    "start_time": "2022-01-25T22:21:56.096Z"
   },
   {
    "duration": 9,
    "start_time": "2022-01-25T22:25:05.496Z"
   },
   {
    "duration": 319,
    "start_time": "2022-01-25T22:25:26.672Z"
   },
   {
    "duration": 251,
    "start_time": "2022-01-25T22:25:30.080Z"
   },
   {
    "duration": 3,
    "start_time": "2022-01-25T22:25:34.137Z"
   },
   {
    "duration": 37,
    "start_time": "2022-01-25T22:25:34.145Z"
   },
   {
    "duration": 3,
    "start_time": "2022-01-25T22:25:34.184Z"
   },
   {
    "duration": 13,
    "start_time": "2022-01-25T22:25:34.189Z"
   },
   {
    "duration": 8,
    "start_time": "2022-01-25T22:25:34.204Z"
   },
   {
    "duration": 10,
    "start_time": "2022-01-25T22:25:34.213Z"
   },
   {
    "duration": 8,
    "start_time": "2022-01-25T22:25:34.224Z"
   },
   {
    "duration": 9,
    "start_time": "2022-01-25T22:25:34.234Z"
   },
   {
    "duration": 8,
    "start_time": "2022-01-25T22:25:34.244Z"
   },
   {
    "duration": 9,
    "start_time": "2022-01-25T22:25:34.254Z"
   },
   {
    "duration": 55,
    "start_time": "2022-01-25T22:25:34.264Z"
   },
   {
    "duration": 5,
    "start_time": "2022-01-25T22:25:34.320Z"
   },
   {
    "duration": 4,
    "start_time": "2022-01-25T22:25:36.543Z"
   },
   {
    "duration": 256,
    "start_time": "2022-01-25T22:25:37.113Z"
   },
   {
    "duration": 5,
    "start_time": "2022-01-25T22:25:54.247Z"
   },
   {
    "duration": 251,
    "start_time": "2022-01-25T22:25:54.790Z"
   },
   {
    "duration": 29,
    "start_time": "2022-01-25T22:27:26.995Z"
   },
   {
    "duration": 264,
    "start_time": "2022-01-25T22:27:28.043Z"
   },
   {
    "duration": 30,
    "start_time": "2022-01-25T22:28:07.365Z"
   },
   {
    "duration": 10,
    "start_time": "2022-01-25T22:28:16.652Z"
   },
   {
    "duration": 19,
    "start_time": "2022-01-25T22:28:22.264Z"
   },
   {
    "duration": 651,
    "start_time": "2022-01-25T22:34:11.755Z"
   },
   {
    "duration": 40,
    "start_time": "2022-01-25T22:34:12.408Z"
   },
   {
    "duration": 2,
    "start_time": "2022-01-25T22:34:12.451Z"
   },
   {
    "duration": 23,
    "start_time": "2022-01-25T22:34:12.455Z"
   },
   {
    "duration": 13,
    "start_time": "2022-01-25T22:34:12.480Z"
   },
   {
    "duration": 10,
    "start_time": "2022-01-25T22:34:12.498Z"
   },
   {
    "duration": 9,
    "start_time": "2022-01-25T22:34:12.510Z"
   },
   {
    "duration": 12,
    "start_time": "2022-01-25T22:34:12.521Z"
   },
   {
    "duration": 3,
    "start_time": "2022-01-25T22:34:12.536Z"
   },
   {
    "duration": 14,
    "start_time": "2022-01-25T22:34:12.542Z"
   },
   {
    "duration": 58,
    "start_time": "2022-01-25T22:34:12.558Z"
   },
   {
    "duration": 29,
    "start_time": "2022-01-25T22:34:20.288Z"
   },
   {
    "duration": 245,
    "start_time": "2022-01-25T22:34:22.881Z"
   },
   {
    "duration": 33,
    "start_time": "2022-01-25T22:34:26.681Z"
   },
   {
    "duration": 12,
    "start_time": "2022-01-25T22:36:04.303Z"
   },
   {
    "duration": 11,
    "start_time": "2022-01-25T22:36:06.513Z"
   },
   {
    "duration": 9,
    "start_time": "2022-01-25T22:36:12.986Z"
   },
   {
    "duration": 596,
    "start_time": "2022-01-25T22:36:14.759Z"
   },
   {
    "duration": 794,
    "start_time": "2022-01-25T22:36:18.369Z"
   },
   {
    "duration": 11,
    "start_time": "2022-01-25T22:36:54.242Z"
   },
   {
    "duration": 2,
    "start_time": "2022-01-25T22:36:58.977Z"
   },
   {
    "duration": 37,
    "start_time": "2022-01-25T22:36:58.985Z"
   },
   {
    "duration": 2,
    "start_time": "2022-01-25T22:36:59.024Z"
   },
   {
    "duration": 11,
    "start_time": "2022-01-25T22:36:59.029Z"
   },
   {
    "duration": 9,
    "start_time": "2022-01-25T22:36:59.042Z"
   },
   {
    "duration": 9,
    "start_time": "2022-01-25T22:36:59.053Z"
   },
   {
    "duration": 37,
    "start_time": "2022-01-25T22:36:59.063Z"
   },
   {
    "duration": 9,
    "start_time": "2022-01-25T22:36:59.101Z"
   },
   {
    "duration": 10,
    "start_time": "2022-01-25T22:37:00.583Z"
   },
   {
    "duration": 9,
    "start_time": "2022-01-25T22:37:01.460Z"
   },
   {
    "duration": 26,
    "start_time": "2022-01-25T22:37:04.868Z"
   },
   {
    "duration": 263,
    "start_time": "2022-01-25T22:37:06.115Z"
   },
   {
    "duration": 30,
    "start_time": "2022-01-25T22:37:11.563Z"
   },
   {
    "duration": 10,
    "start_time": "2022-01-25T22:37:25.911Z"
   },
   {
    "duration": 9,
    "start_time": "2022-01-25T22:38:53.222Z"
   },
   {
    "duration": 10,
    "start_time": "2022-01-25T22:41:13.754Z"
   },
   {
    "duration": 13,
    "start_time": "2022-01-25T22:41:32.787Z"
   },
   {
    "duration": 14,
    "start_time": "2022-01-25T22:41:50.863Z"
   },
   {
    "duration": 9,
    "start_time": "2022-01-25T22:42:36.800Z"
   },
   {
    "duration": 11,
    "start_time": "2022-01-25T22:43:01.537Z"
   },
   {
    "duration": 3,
    "start_time": "2022-01-25T22:43:17.358Z"
   },
   {
    "duration": 238,
    "start_time": "2022-01-25T22:44:02.741Z"
   },
   {
    "duration": 249,
    "start_time": "2022-01-25T22:44:09.952Z"
   },
   {
    "duration": 27,
    "start_time": "2022-01-25T22:44:30.806Z"
   },
   {
    "duration": 258,
    "start_time": "2022-01-25T22:44:42.886Z"
   },
   {
    "duration": 29,
    "start_time": "2022-01-25T22:45:51.030Z"
   },
   {
    "duration": 10,
    "start_time": "2022-01-25T22:48:12.563Z"
   },
   {
    "duration": 6,
    "start_time": "2022-01-25T22:48:29.284Z"
   },
   {
    "duration": 22,
    "start_time": "2022-01-25T22:49:56.560Z"
   },
   {
    "duration": 5,
    "start_time": "2022-01-25T22:50:44.467Z"
   },
   {
    "duration": 1040,
    "start_time": "2022-01-25T22:53:24.147Z"
   },
   {
    "duration": 36,
    "start_time": "2022-01-25T22:53:56.486Z"
   },
   {
    "duration": 9,
    "start_time": "2022-01-25T22:54:04.474Z"
   },
   {
    "duration": 21,
    "start_time": "2022-01-25T22:55:52.318Z"
   },
   {
    "duration": 276,
    "start_time": "2022-01-25T22:56:15.941Z"
   },
   {
    "duration": 6679,
    "start_time": "2022-01-25T22:56:27.950Z"
   },
   {
    "duration": 6504,
    "start_time": "2022-01-25T22:56:36.822Z"
   },
   {
    "duration": 23,
    "start_time": "2022-01-25T22:56:44.340Z"
   },
   {
    "duration": 4,
    "start_time": "2022-01-25T22:57:18.737Z"
   },
   {
    "duration": 9,
    "start_time": "2022-01-25T22:57:35.642Z"
   },
   {
    "duration": 9,
    "start_time": "2022-01-25T22:57:41.271Z"
   },
   {
    "duration": 10,
    "start_time": "2022-01-25T22:57:51.058Z"
   },
   {
    "duration": 10,
    "start_time": "2022-01-25T22:58:56.715Z"
   },
   {
    "duration": 9,
    "start_time": "2022-01-25T23:00:32.255Z"
   },
   {
    "duration": 2,
    "start_time": "2022-01-25T23:00:53.923Z"
   },
   {
    "duration": 6,
    "start_time": "2022-01-25T23:02:49.638Z"
   },
   {
    "duration": 266,
    "start_time": "2022-01-25T23:02:53.001Z"
   },
   {
    "duration": 23,
    "start_time": "2022-01-25T23:02:59.721Z"
   },
   {
    "duration": 6,
    "start_time": "2022-01-25T23:03:02.110Z"
   },
   {
    "duration": 13,
    "start_time": "2022-01-25T23:03:37.456Z"
   },
   {
    "duration": 6,
    "start_time": "2022-01-25T23:03:38.644Z"
   },
   {
    "duration": 7,
    "start_time": "2022-01-25T23:05:00.315Z"
   },
   {
    "duration": 5,
    "start_time": "2022-01-25T23:05:01.443Z"
   },
   {
    "duration": 9,
    "start_time": "2022-01-25T23:05:21.534Z"
   },
   {
    "duration": 13,
    "start_time": "2022-01-25T23:05:30.508Z"
   },
   {
    "duration": 3,
    "start_time": "2022-01-25T23:05:40.568Z"
   },
   {
    "duration": 38,
    "start_time": "2022-01-25T23:05:40.573Z"
   },
   {
    "duration": 3,
    "start_time": "2022-01-25T23:05:40.613Z"
   },
   {
    "duration": 15,
    "start_time": "2022-01-25T23:05:40.618Z"
   },
   {
    "duration": 9,
    "start_time": "2022-01-25T23:05:40.635Z"
   },
   {
    "duration": 9,
    "start_time": "2022-01-25T23:05:40.646Z"
   },
   {
    "duration": 10,
    "start_time": "2022-01-25T23:05:40.657Z"
   },
   {
    "duration": 33,
    "start_time": "2022-01-25T23:05:40.670Z"
   },
   {
    "duration": 10,
    "start_time": "2022-01-25T23:05:40.706Z"
   },
   {
    "duration": 10,
    "start_time": "2022-01-25T23:05:40.718Z"
   },
   {
    "duration": 26,
    "start_time": "2022-01-25T23:05:40.730Z"
   },
   {
    "duration": 42,
    "start_time": "2022-01-25T23:05:40.758Z"
   },
   {
    "duration": 27,
    "start_time": "2022-01-25T23:05:40.802Z"
   },
   {
    "duration": 8,
    "start_time": "2022-01-25T23:05:40.832Z"
   },
   {
    "duration": 10,
    "start_time": "2022-01-25T23:05:40.842Z"
   },
   {
    "duration": 9,
    "start_time": "2022-01-25T23:05:41.792Z"
   },
   {
    "duration": 33,
    "start_time": "2022-01-25T23:05:42.441Z"
   },
   {
    "duration": 10,
    "start_time": "2022-01-25T23:05:48.624Z"
   },
   {
    "duration": 9,
    "start_time": "2022-01-25T23:06:04.007Z"
   },
   {
    "duration": 16,
    "start_time": "2022-01-25T23:06:27.157Z"
   },
   {
    "duration": 15,
    "start_time": "2022-01-25T23:06:32.423Z"
   },
   {
    "duration": 9,
    "start_time": "2022-01-25T23:13:34.043Z"
   },
   {
    "duration": 9,
    "start_time": "2022-01-25T23:13:36.893Z"
   },
   {
    "duration": 9,
    "start_time": "2022-01-25T23:13:37.474Z"
   },
   {
    "duration": 19,
    "start_time": "2022-01-25T23:14:44.323Z"
   },
   {
    "duration": 4,
    "start_time": "2022-01-25T23:20:07.226Z"
   },
   {
    "duration": 10,
    "start_time": "2022-01-25T23:20:08.710Z"
   },
   {
    "duration": 4,
    "start_time": "2022-01-25T23:20:24.882Z"
   },
   {
    "duration": 10,
    "start_time": "2022-01-25T23:20:25.689Z"
   },
   {
    "duration": 18,
    "start_time": "2022-01-25T23:20:39.787Z"
   },
   {
    "duration": 3,
    "start_time": "2022-01-25T23:21:00.210Z"
   },
   {
    "duration": 9,
    "start_time": "2022-01-25T23:21:01.026Z"
   },
   {
    "duration": 9,
    "start_time": "2022-01-25T23:24:16.609Z"
   },
   {
    "duration": 836,
    "start_time": "2022-01-26T18:23:46.188Z"
   },
   {
    "duration": 56,
    "start_time": "2022-01-26T18:23:47.026Z"
   },
   {
    "duration": 4,
    "start_time": "2022-01-26T18:23:47.085Z"
   },
   {
    "duration": 16,
    "start_time": "2022-01-26T18:23:47.092Z"
   },
   {
    "duration": 13,
    "start_time": "2022-01-26T18:23:47.111Z"
   },
   {
    "duration": 22,
    "start_time": "2022-01-26T18:23:47.154Z"
   },
   {
    "duration": 17,
    "start_time": "2022-01-26T18:23:47.179Z"
   },
   {
    "duration": 22,
    "start_time": "2022-01-26T18:23:47.200Z"
   },
   {
    "duration": 31,
    "start_time": "2022-01-26T18:23:47.254Z"
   },
   {
    "duration": 60,
    "start_time": "2022-01-26T18:23:47.288Z"
   },
   {
    "duration": 31,
    "start_time": "2022-01-26T18:23:49.002Z"
   },
   {
    "duration": 11,
    "start_time": "2022-01-26T18:25:07.844Z"
   },
   {
    "duration": 6,
    "start_time": "2022-01-26T18:25:50.642Z"
   },
   {
    "duration": 14,
    "start_time": "2022-01-26T18:25:57.152Z"
   },
   {
    "duration": 12,
    "start_time": "2022-01-26T18:26:08.969Z"
   },
   {
    "duration": 7,
    "start_time": "2022-01-26T18:26:20.840Z"
   },
   {
    "duration": 6,
    "start_time": "2022-01-26T18:26:46.176Z"
   },
   {
    "duration": 3,
    "start_time": "2022-01-26T18:26:52.061Z"
   },
   {
    "duration": 51,
    "start_time": "2022-01-26T18:26:52.070Z"
   },
   {
    "duration": 4,
    "start_time": "2022-01-26T18:26:52.124Z"
   },
   {
    "duration": 18,
    "start_time": "2022-01-26T18:26:52.131Z"
   },
   {
    "duration": 11,
    "start_time": "2022-01-26T18:26:52.152Z"
   },
   {
    "duration": 15,
    "start_time": "2022-01-26T18:26:52.166Z"
   },
   {
    "duration": 13,
    "start_time": "2022-01-26T18:26:52.183Z"
   },
   {
    "duration": 12,
    "start_time": "2022-01-26T18:26:52.199Z"
   },
   {
    "duration": 23,
    "start_time": "2022-01-26T18:26:52.251Z"
   },
   {
    "duration": 42,
    "start_time": "2022-01-26T18:26:52.277Z"
   },
   {
    "duration": 7,
    "start_time": "2022-01-26T18:26:55.604Z"
   },
   {
    "duration": 6,
    "start_time": "2022-01-26T18:26:57.503Z"
   },
   {
    "duration": 10,
    "start_time": "2022-01-26T18:27:02.171Z"
   },
   {
    "duration": 5,
    "start_time": "2022-01-26T18:27:04.736Z"
   },
   {
    "duration": 7,
    "start_time": "2022-01-26T18:27:05.640Z"
   },
   {
    "duration": 3,
    "start_time": "2022-01-26T18:27:20.563Z"
   },
   {
    "duration": 46,
    "start_time": "2022-01-26T18:27:20.575Z"
   },
   {
    "duration": 3,
    "start_time": "2022-01-26T18:27:20.624Z"
   },
   {
    "duration": 17,
    "start_time": "2022-01-26T18:27:20.630Z"
   },
   {
    "duration": 12,
    "start_time": "2022-01-26T18:27:20.650Z"
   },
   {
    "duration": 15,
    "start_time": "2022-01-26T18:27:20.664Z"
   },
   {
    "duration": 11,
    "start_time": "2022-01-26T18:27:20.682Z"
   },
   {
    "duration": 10,
    "start_time": "2022-01-26T18:27:20.695Z"
   },
   {
    "duration": 58,
    "start_time": "2022-01-26T18:27:20.708Z"
   },
   {
    "duration": 40,
    "start_time": "2022-01-26T18:27:20.769Z"
   },
   {
    "duration": 7,
    "start_time": "2022-01-26T18:27:20.812Z"
   },
   {
    "duration": 6,
    "start_time": "2022-01-26T18:27:20.849Z"
   },
   {
    "duration": 6,
    "start_time": "2022-01-26T18:27:22.509Z"
   },
   {
    "duration": 7,
    "start_time": "2022-01-26T18:27:23.102Z"
   },
   {
    "duration": 7,
    "start_time": "2022-01-26T18:27:33.599Z"
   },
   {
    "duration": 6,
    "start_time": "2022-01-26T18:27:37.910Z"
   },
   {
    "duration": 7,
    "start_time": "2022-01-26T18:27:38.839Z"
   },
   {
    "duration": 4,
    "start_time": "2022-01-26T18:28:11.781Z"
   },
   {
    "duration": 52,
    "start_time": "2022-01-26T18:28:11.789Z"
   },
   {
    "duration": 4,
    "start_time": "2022-01-26T18:28:11.843Z"
   },
   {
    "duration": 16,
    "start_time": "2022-01-26T18:28:11.850Z"
   },
   {
    "duration": 12,
    "start_time": "2022-01-26T18:28:11.869Z"
   },
   {
    "duration": 12,
    "start_time": "2022-01-26T18:28:11.884Z"
   },
   {
    "duration": 12,
    "start_time": "2022-01-26T18:28:11.898Z"
   },
   {
    "duration": 12,
    "start_time": "2022-01-26T18:28:11.949Z"
   },
   {
    "duration": 22,
    "start_time": "2022-01-26T18:28:11.963Z"
   },
   {
    "duration": 62,
    "start_time": "2022-01-26T18:28:11.999Z"
   },
   {
    "duration": 8,
    "start_time": "2022-01-26T18:28:12.064Z"
   },
   {
    "duration": 7,
    "start_time": "2022-01-26T18:28:14.003Z"
   },
   {
    "duration": 382,
    "start_time": "2022-01-26T18:28:15.072Z"
   },
   {
    "duration": 8,
    "start_time": "2022-01-26T18:28:15.841Z"
   },
   {
    "duration": 4,
    "start_time": "2022-01-26T18:28:50.372Z"
   },
   {
    "duration": 75,
    "start_time": "2022-01-26T18:28:50.379Z"
   },
   {
    "duration": 4,
    "start_time": "2022-01-26T18:28:50.458Z"
   },
   {
    "duration": 25,
    "start_time": "2022-01-26T18:28:50.465Z"
   },
   {
    "duration": 28,
    "start_time": "2022-01-26T18:28:50.493Z"
   },
   {
    "duration": 25,
    "start_time": "2022-01-26T18:28:50.523Z"
   },
   {
    "duration": 14,
    "start_time": "2022-01-26T18:28:50.550Z"
   },
   {
    "duration": 22,
    "start_time": "2022-01-26T18:28:50.566Z"
   },
   {
    "duration": 44,
    "start_time": "2022-01-26T18:28:50.592Z"
   },
   {
    "duration": 45,
    "start_time": "2022-01-26T18:28:50.638Z"
   },
   {
    "duration": 7,
    "start_time": "2022-01-26T18:28:50.685Z"
   },
   {
    "duration": 7,
    "start_time": "2022-01-26T18:28:51.925Z"
   },
   {
    "duration": 292,
    "start_time": "2022-01-26T18:28:52.537Z"
   },
   {
    "duration": 7,
    "start_time": "2022-01-26T18:29:01.053Z"
   },
   {
    "duration": 8,
    "start_time": "2022-01-26T18:29:01.924Z"
   },
   {
    "duration": 4,
    "start_time": "2022-01-26T18:29:18.437Z"
   },
   {
    "duration": 67,
    "start_time": "2022-01-26T18:29:18.448Z"
   },
   {
    "duration": 4,
    "start_time": "2022-01-26T18:29:18.518Z"
   },
   {
    "duration": 21,
    "start_time": "2022-01-26T18:29:18.525Z"
   },
   {
    "duration": 35,
    "start_time": "2022-01-26T18:29:18.550Z"
   },
   {
    "duration": 21,
    "start_time": "2022-01-26T18:29:18.588Z"
   },
   {
    "duration": 22,
    "start_time": "2022-01-26T18:29:18.611Z"
   },
   {
    "duration": 19,
    "start_time": "2022-01-26T18:29:18.635Z"
   },
   {
    "duration": 31,
    "start_time": "2022-01-26T18:29:18.658Z"
   },
   {
    "duration": 41,
    "start_time": "2022-01-26T18:29:18.692Z"
   },
   {
    "duration": 13,
    "start_time": "2022-01-26T18:29:18.736Z"
   },
   {
    "duration": 6,
    "start_time": "2022-01-26T18:29:20.360Z"
   },
   {
    "duration": 10,
    "start_time": "2022-01-26T18:29:20.984Z"
   },
   {
    "duration": 45,
    "start_time": "2022-01-26T18:29:21.670Z"
   },
   {
    "duration": 11,
    "start_time": "2022-01-26T18:29:25.193Z"
   },
   {
    "duration": 11,
    "start_time": "2022-01-26T18:29:27.511Z"
   },
   {
    "duration": 5,
    "start_time": "2022-01-26T18:29:28.188Z"
   },
   {
    "duration": 14,
    "start_time": "2022-01-26T18:29:28.891Z"
   },
   {
    "duration": 29,
    "start_time": "2022-01-26T18:29:34.536Z"
   },
   {
    "duration": 13,
    "start_time": "2022-01-26T18:30:19.317Z"
   },
   {
    "duration": 590,
    "start_time": "2022-01-26T18:30:29.825Z"
   },
   {
    "duration": 12,
    "start_time": "2022-01-26T18:30:42.822Z"
   },
   {
    "duration": 13,
    "start_time": "2022-01-26T18:30:54.482Z"
   },
   {
    "duration": 4,
    "start_time": "2022-01-26T18:32:09.578Z"
   },
   {
    "duration": 53,
    "start_time": "2022-01-26T18:32:09.587Z"
   },
   {
    "duration": 4,
    "start_time": "2022-01-26T18:32:09.642Z"
   },
   {
    "duration": 22,
    "start_time": "2022-01-26T18:32:09.650Z"
   },
   {
    "duration": 12,
    "start_time": "2022-01-26T18:32:09.675Z"
   },
   {
    "duration": 13,
    "start_time": "2022-01-26T18:32:09.690Z"
   },
   {
    "duration": 42,
    "start_time": "2022-01-26T18:32:09.706Z"
   },
   {
    "duration": 13,
    "start_time": "2022-01-26T18:32:09.751Z"
   },
   {
    "duration": 33,
    "start_time": "2022-01-26T18:32:09.767Z"
   },
   {
    "duration": 58,
    "start_time": "2022-01-26T18:32:09.804Z"
   },
   {
    "duration": 5,
    "start_time": "2022-01-26T18:32:09.865Z"
   },
   {
    "duration": 17,
    "start_time": "2022-01-26T18:32:09.873Z"
   },
   {
    "duration": 6,
    "start_time": "2022-01-26T18:32:11.021Z"
   },
   {
    "duration": 6,
    "start_time": "2022-01-26T18:32:11.608Z"
   },
   {
    "duration": 41,
    "start_time": "2022-01-26T18:32:21.574Z"
   },
   {
    "duration": 12,
    "start_time": "2022-01-26T18:32:22.936Z"
   },
   {
    "duration": 12,
    "start_time": "2022-01-26T18:32:23.938Z"
   },
   {
    "duration": 5,
    "start_time": "2022-01-26T18:32:24.268Z"
   },
   {
    "duration": 13,
    "start_time": "2022-01-26T18:32:24.721Z"
   },
   {
    "duration": 12,
    "start_time": "2022-01-26T18:32:26.852Z"
   },
   {
    "duration": 7,
    "start_time": "2022-01-26T19:12:08.315Z"
   },
   {
    "duration": 14,
    "start_time": "2022-01-26T19:12:09.261Z"
   },
   {
    "duration": 52,
    "start_time": "2022-01-26T19:12:25.828Z"
   },
   {
    "duration": 5,
    "start_time": "2022-01-26T19:14:07.747Z"
   },
   {
    "duration": 13,
    "start_time": "2022-01-26T19:14:09.018Z"
   },
   {
    "duration": 53,
    "start_time": "2022-01-26T19:14:10.069Z"
   },
   {
    "duration": 4,
    "start_time": "2022-01-26T19:35:20.098Z"
   },
   {
    "duration": 53,
    "start_time": "2022-01-26T19:35:20.107Z"
   },
   {
    "duration": 4,
    "start_time": "2022-01-26T19:35:20.162Z"
   },
   {
    "duration": 22,
    "start_time": "2022-01-26T19:35:20.169Z"
   },
   {
    "duration": 11,
    "start_time": "2022-01-26T19:35:20.194Z"
   },
   {
    "duration": 13,
    "start_time": "2022-01-26T19:35:20.208Z"
   },
   {
    "duration": 35,
    "start_time": "2022-01-26T19:35:20.224Z"
   },
   {
    "duration": 13,
    "start_time": "2022-01-26T19:35:20.261Z"
   },
   {
    "duration": 21,
    "start_time": "2022-01-26T19:35:20.276Z"
   },
   {
    "duration": 77,
    "start_time": "2022-01-26T19:35:20.301Z"
   },
   {
    "duration": 5,
    "start_time": "2022-01-26T19:35:20.381Z"
   },
   {
    "duration": 13,
    "start_time": "2022-01-26T19:35:20.389Z"
   },
   {
    "duration": 65,
    "start_time": "2022-01-26T19:35:20.404Z"
   },
   {
    "duration": 11,
    "start_time": "2022-01-26T19:35:20.472Z"
   },
   {
    "duration": 15,
    "start_time": "2022-01-26T19:35:20.485Z"
   },
   {
    "duration": 7,
    "start_time": "2022-01-26T19:35:20.502Z"
   },
   {
    "duration": 20,
    "start_time": "2022-01-26T19:35:20.511Z"
   },
   {
    "duration": 12,
    "start_time": "2022-01-26T19:35:20.548Z"
   },
   {
    "duration": 14,
    "start_time": "2022-01-26T19:35:22.974Z"
   },
   {
    "duration": 53,
    "start_time": "2022-01-26T19:35:23.832Z"
   },
   {
    "duration": 28,
    "start_time": "2022-01-26T19:36:22.866Z"
   },
   {
    "duration": 6,
    "start_time": "2022-01-26T19:37:03.669Z"
   },
   {
    "duration": 6,
    "start_time": "2022-01-26T19:37:27.825Z"
   },
   {
    "duration": 8,
    "start_time": "2022-01-26T19:38:02.651Z"
   },
   {
    "duration": 8,
    "start_time": "2022-01-26T19:38:11.176Z"
   },
   {
    "duration": 7,
    "start_time": "2022-01-26T19:38:18.747Z"
   },
   {
    "duration": 8,
    "start_time": "2022-01-26T19:38:25.051Z"
   },
   {
    "duration": 7,
    "start_time": "2022-01-26T19:38:46.701Z"
   },
   {
    "duration": 6,
    "start_time": "2022-01-26T19:39:06.037Z"
   },
   {
    "duration": 10,
    "start_time": "2022-01-26T19:39:06.918Z"
   },
   {
    "duration": 9,
    "start_time": "2022-01-26T19:40:23.090Z"
   },
   {
    "duration": 6,
    "start_time": "2022-01-26T19:40:36.617Z"
   },
   {
    "duration": 33,
    "start_time": "2022-01-26T19:41:08.649Z"
   },
   {
    "duration": 303,
    "start_time": "2022-01-26T19:45:41.685Z"
   },
   {
    "duration": 20,
    "start_time": "2022-01-26T19:45:53.591Z"
   },
   {
    "duration": 21,
    "start_time": "2022-01-26T19:46:11.184Z"
   },
   {
    "duration": 23,
    "start_time": "2022-01-26T20:03:17.774Z"
   },
   {
    "duration": 25,
    "start_time": "2022-01-26T20:03:42.483Z"
   },
   {
    "duration": 22,
    "start_time": "2022-01-26T20:04:29.088Z"
   },
   {
    "duration": 27,
    "start_time": "2022-01-26T20:04:38.068Z"
   },
   {
    "duration": 24,
    "start_time": "2022-01-26T20:05:20.836Z"
   },
   {
    "duration": 4,
    "start_time": "2022-01-26T20:08:16.334Z"
   },
   {
    "duration": 30,
    "start_time": "2022-01-26T20:08:33.362Z"
   },
   {
    "duration": 23,
    "start_time": "2022-01-26T20:10:07.401Z"
   },
   {
    "duration": 4,
    "start_time": "2022-01-26T20:11:19.559Z"
   },
   {
    "duration": 7,
    "start_time": "2022-01-26T20:11:27.005Z"
   },
   {
    "duration": 31,
    "start_time": "2022-01-26T20:15:37.710Z"
   },
   {
    "duration": 6,
    "start_time": "2022-01-26T20:17:09.028Z"
   },
   {
    "duration": 9,
    "start_time": "2022-01-26T20:17:15.347Z"
   },
   {
    "duration": 65,
    "start_time": "2022-01-26T20:18:07.200Z"
   },
   {
    "duration": 63,
    "start_time": "2022-01-26T20:19:21.615Z"
   },
   {
    "duration": 63,
    "start_time": "2022-01-26T20:20:21.087Z"
   },
   {
    "duration": 62,
    "start_time": "2022-01-26T20:20:31.690Z"
   },
   {
    "duration": 289,
    "start_time": "2022-01-26T20:20:46.336Z"
   },
   {
    "duration": 61,
    "start_time": "2022-01-26T20:21:35.768Z"
   },
   {
    "duration": 61,
    "start_time": "2022-01-26T20:21:50.362Z"
   },
   {
    "duration": 7,
    "start_time": "2022-01-26T20:22:36.231Z"
   },
   {
    "duration": 7225,
    "start_time": "2022-01-26T20:23:01.254Z"
   },
   {
    "duration": 60,
    "start_time": "2022-01-26T20:23:13.132Z"
   },
   {
    "duration": 61,
    "start_time": "2022-01-26T20:24:21.487Z"
   },
   {
    "duration": 25,
    "start_time": "2022-01-26T20:24:30.903Z"
   },
   {
    "duration": 294,
    "start_time": "2022-01-26T20:25:05.686Z"
   },
   {
    "duration": 32,
    "start_time": "2022-01-26T20:25:18.967Z"
   },
   {
    "duration": 65,
    "start_time": "2022-01-26T20:25:47.253Z"
   },
   {
    "duration": 76,
    "start_time": "2022-01-26T20:27:16.880Z"
   },
   {
    "duration": 27,
    "start_time": "2022-01-26T20:27:56.325Z"
   },
   {
    "duration": 28,
    "start_time": "2022-01-26T20:28:10.311Z"
   },
   {
    "duration": 56,
    "start_time": "2022-01-26T20:28:15.300Z"
   },
   {
    "duration": 56,
    "start_time": "2022-01-26T20:28:25.104Z"
   },
   {
    "duration": 62,
    "start_time": "2022-01-26T20:28:51.058Z"
   },
   {
    "duration": 31,
    "start_time": "2022-01-26T20:31:27.381Z"
   },
   {
    "duration": 92,
    "start_time": "2022-01-26T20:31:34.105Z"
   },
   {
    "duration": 469,
    "start_time": "2022-01-26T20:32:48.999Z"
   },
   {
    "duration": 760,
    "start_time": "2022-01-26T20:34:15.315Z"
   },
   {
    "duration": 38,
    "start_time": "2022-01-26T20:36:20.176Z"
   },
   {
    "duration": 8,
    "start_time": "2022-01-26T20:36:42.896Z"
   },
   {
    "duration": 6,
    "start_time": "2022-01-26T20:38:07.637Z"
   },
   {
    "duration": 798,
    "start_time": "2022-01-26T20:38:31.750Z"
   },
   {
    "duration": 6,
    "start_time": "2022-01-26T20:38:48.036Z"
   },
   {
    "duration": 6,
    "start_time": "2022-01-26T20:38:58.617Z"
   },
   {
    "duration": 843,
    "start_time": "2022-01-26T20:39:10.371Z"
   },
   {
    "duration": 7,
    "start_time": "2022-01-26T20:39:36.553Z"
   },
   {
    "duration": 6,
    "start_time": "2022-01-26T20:39:42.652Z"
   },
   {
    "duration": 971,
    "start_time": "2022-01-26T20:40:03.856Z"
   },
   {
    "duration": 727,
    "start_time": "2022-01-26T20:40:43.872Z"
   },
   {
    "duration": 500,
    "start_time": "2022-01-26T20:41:03.118Z"
   },
   {
    "duration": 499,
    "start_time": "2022-01-26T20:41:26.465Z"
   },
   {
    "duration": 56,
    "start_time": "2022-01-26T20:42:21.420Z"
   },
   {
    "duration": 33,
    "start_time": "2022-01-26T20:43:34.852Z"
   },
   {
    "duration": 4,
    "start_time": "2022-01-26T20:43:39.481Z"
   },
   {
    "duration": 3,
    "start_time": "2022-01-26T20:44:57.071Z"
   },
   {
    "duration": 59,
    "start_time": "2022-01-26T20:44:57.080Z"
   },
   {
    "duration": 4,
    "start_time": "2022-01-26T20:44:57.143Z"
   },
   {
    "duration": 23,
    "start_time": "2022-01-26T20:44:57.151Z"
   },
   {
    "duration": 15,
    "start_time": "2022-01-26T20:44:57.177Z"
   },
   {
    "duration": 13,
    "start_time": "2022-01-26T20:44:57.195Z"
   },
   {
    "duration": 44,
    "start_time": "2022-01-26T20:44:57.211Z"
   },
   {
    "duration": 12,
    "start_time": "2022-01-26T20:44:57.258Z"
   },
   {
    "duration": 23,
    "start_time": "2022-01-26T20:44:57.274Z"
   },
   {
    "duration": 75,
    "start_time": "2022-01-26T20:44:57.300Z"
   },
   {
    "duration": 5,
    "start_time": "2022-01-26T20:44:57.377Z"
   },
   {
    "duration": 12,
    "start_time": "2022-01-26T20:44:57.385Z"
   },
   {
    "duration": 62,
    "start_time": "2022-01-26T20:44:57.400Z"
   },
   {
    "duration": 13,
    "start_time": "2022-01-26T20:44:57.465Z"
   },
   {
    "duration": 12,
    "start_time": "2022-01-26T20:44:57.481Z"
   },
   {
    "duration": 6,
    "start_time": "2022-01-26T20:44:57.496Z"
   },
   {
    "duration": 47,
    "start_time": "2022-01-26T20:44:57.505Z"
   },
   {
    "duration": 20,
    "start_time": "2022-01-26T20:44:57.555Z"
   },
   {
    "duration": 49,
    "start_time": "2022-01-26T20:44:57.577Z"
   },
   {
    "duration": 22,
    "start_time": "2022-01-26T20:44:57.648Z"
   },
   {
    "duration": 38,
    "start_time": "2022-01-26T20:44:59.727Z"
   },
   {
    "duration": 4,
    "start_time": "2022-01-26T20:46:48.427Z"
   },
   {
    "duration": 3,
    "start_time": "2022-01-26T20:46:58.557Z"
   },
   {
    "duration": 3,
    "start_time": "2022-01-26T20:47:03.761Z"
   },
   {
    "duration": 46,
    "start_time": "2022-01-26T20:47:03.775Z"
   },
   {
    "duration": 3,
    "start_time": "2022-01-26T20:47:03.824Z"
   },
   {
    "duration": 19,
    "start_time": "2022-01-26T20:47:03.831Z"
   },
   {
    "duration": 13,
    "start_time": "2022-01-26T20:47:03.853Z"
   },
   {
    "duration": 14,
    "start_time": "2022-01-26T20:47:03.869Z"
   },
   {
    "duration": 14,
    "start_time": "2022-01-26T20:47:03.886Z"
   },
   {
    "duration": 50,
    "start_time": "2022-01-26T20:47:03.903Z"
   },
   {
    "duration": 25,
    "start_time": "2022-01-26T20:47:03.959Z"
   },
   {
    "duration": 73,
    "start_time": "2022-01-26T20:47:03.987Z"
   },
   {
    "duration": 6,
    "start_time": "2022-01-26T20:47:04.063Z"
   },
   {
    "duration": 12,
    "start_time": "2022-01-26T20:47:04.072Z"
   },
   {
    "duration": 75,
    "start_time": "2022-01-26T20:47:04.086Z"
   },
   {
    "duration": 12,
    "start_time": "2022-01-26T20:47:04.164Z"
   },
   {
    "duration": 12,
    "start_time": "2022-01-26T20:47:04.178Z"
   },
   {
    "duration": 5,
    "start_time": "2022-01-26T20:47:04.193Z"
   },
   {
    "duration": 8,
    "start_time": "2022-01-26T20:47:04.200Z"
   },
   {
    "duration": 38,
    "start_time": "2022-01-26T20:47:04.210Z"
   },
   {
    "duration": 38,
    "start_time": "2022-01-26T20:47:04.251Z"
   },
   {
    "duration": 50,
    "start_time": "2022-01-26T20:47:04.291Z"
   },
   {
    "duration": 23,
    "start_time": "2022-01-26T20:47:06.104Z"
   },
   {
    "duration": 25,
    "start_time": "2022-01-26T20:47:13.074Z"
   },
   {
    "duration": 5,
    "start_time": "2022-01-26T20:47:17.587Z"
   },
   {
    "duration": 97,
    "start_time": "2022-01-26T20:47:19.639Z"
   },
   {
    "duration": 497,
    "start_time": "2022-01-26T20:49:10.232Z"
   },
   {
    "duration": 508,
    "start_time": "2022-01-26T20:51:34.647Z"
   },
   {
    "duration": 6,
    "start_time": "2022-01-26T20:52:56.696Z"
   },
   {
    "duration": 6,
    "start_time": "2022-01-26T20:53:09.220Z"
   },
   {
    "duration": 6,
    "start_time": "2022-01-26T20:53:40.157Z"
   },
   {
    "duration": 491,
    "start_time": "2022-01-26T20:53:48.382Z"
   },
   {
    "duration": 526,
    "start_time": "2022-01-26T20:54:01.118Z"
   },
   {
    "duration": 637,
    "start_time": "2022-01-26T20:55:42.566Z"
   },
   {
    "duration": 652,
    "start_time": "2022-01-26T20:58:25.534Z"
   },
   {
    "duration": 548,
    "start_time": "2022-01-26T20:58:35.641Z"
   },
   {
    "duration": 552,
    "start_time": "2022-01-26T20:59:02.750Z"
   },
   {
    "duration": 95,
    "start_time": "2022-01-26T20:59:18.037Z"
   },
   {
    "duration": 597,
    "start_time": "2022-01-26T20:59:23.469Z"
   },
   {
    "duration": 580,
    "start_time": "2022-01-26T20:59:49.798Z"
   },
   {
    "duration": 707,
    "start_time": "2022-01-26T21:00:05.624Z"
   },
   {
    "duration": 582,
    "start_time": "2022-01-26T21:00:12.271Z"
   },
   {
    "duration": 17,
    "start_time": "2022-01-26T21:00:58.115Z"
   },
   {
    "duration": 19,
    "start_time": "2022-01-26T21:01:09.558Z"
   },
   {
    "duration": 561,
    "start_time": "2022-01-26T21:01:11.202Z"
   },
   {
    "duration": 5,
    "start_time": "2022-01-26T21:06:32.319Z"
   },
   {
    "duration": 96,
    "start_time": "2022-01-26T21:07:22.958Z"
   },
   {
    "duration": 664,
    "start_time": "2022-01-26T21:07:30.792Z"
   },
   {
    "duration": 860,
    "start_time": "2022-01-26T21:08:09.532Z"
   },
   {
    "duration": 192,
    "start_time": "2022-01-26T21:08:23.541Z"
   },
   {
    "duration": 651,
    "start_time": "2022-01-26T21:08:43.823Z"
   },
   {
    "duration": 565,
    "start_time": "2022-01-26T22:02:18.108Z"
   },
   {
    "duration": 7226,
    "start_time": "2022-01-26T22:11:47.407Z"
   },
   {
    "duration": 7,
    "start_time": "2022-01-26T22:12:05.764Z"
   },
   {
    "duration": 34,
    "start_time": "2022-01-26T22:12:12.194Z"
   },
   {
    "duration": 10,
    "start_time": "2022-01-26T22:12:27.033Z"
   },
   {
    "duration": 33,
    "start_time": "2022-01-26T22:12:32.247Z"
   },
   {
    "duration": 33,
    "start_time": "2022-01-26T22:12:45.817Z"
   },
   {
    "duration": 8,
    "start_time": "2022-01-26T22:13:59.665Z"
   },
   {
    "duration": 39,
    "start_time": "2022-01-26T22:14:02.546Z"
   },
   {
    "duration": 32,
    "start_time": "2022-01-26T22:14:11.225Z"
   },
   {
    "duration": 30,
    "start_time": "2022-01-26T22:52:41.538Z"
   },
   {
    "duration": 31,
    "start_time": "2022-01-26T22:52:54.062Z"
   },
   {
    "duration": 10,
    "start_time": "2022-01-26T22:53:44.849Z"
   },
   {
    "duration": 7459,
    "start_time": "2022-01-26T22:54:33.406Z"
   },
   {
    "duration": 11,
    "start_time": "2022-01-26T22:54:52.700Z"
   },
   {
    "duration": 301,
    "start_time": "2022-01-26T22:55:05.284Z"
   },
   {
    "duration": 286,
    "start_time": "2022-01-26T22:55:13.284Z"
   },
   {
    "duration": 309,
    "start_time": "2022-01-26T22:55:27.386Z"
   },
   {
    "duration": 674,
    "start_time": "2022-01-26T22:55:39.073Z"
   },
   {
    "duration": 313,
    "start_time": "2022-01-26T22:55:47.636Z"
   },
   {
    "duration": 356,
    "start_time": "2022-01-26T22:55:53.432Z"
   },
   {
    "duration": 359,
    "start_time": "2022-01-26T22:55:59.238Z"
   },
   {
    "duration": 511,
    "start_time": "2022-01-26T22:56:05.937Z"
   },
   {
    "duration": 991,
    "start_time": "2022-01-27T20:05:16.645Z"
   },
   {
    "duration": 54,
    "start_time": "2022-01-27T20:05:17.639Z"
   },
   {
    "duration": 6,
    "start_time": "2022-01-27T20:05:17.697Z"
   },
   {
    "duration": 30,
    "start_time": "2022-01-27T20:05:17.707Z"
   },
   {
    "duration": 27,
    "start_time": "2022-01-27T20:05:17.740Z"
   },
   {
    "duration": 19,
    "start_time": "2022-01-27T20:05:17.770Z"
   },
   {
    "duration": 53,
    "start_time": "2022-01-27T20:05:17.792Z"
   },
   {
    "duration": 21,
    "start_time": "2022-01-27T20:05:17.851Z"
   },
   {
    "duration": 46,
    "start_time": "2022-01-27T20:05:17.878Z"
   },
   {
    "duration": 52,
    "start_time": "2022-01-27T20:05:17.930Z"
   },
   {
    "duration": 7,
    "start_time": "2022-01-27T20:05:17.987Z"
   },
   {
    "duration": 29,
    "start_time": "2022-01-27T20:05:17.998Z"
   },
   {
    "duration": 66,
    "start_time": "2022-01-27T20:05:18.030Z"
   },
   {
    "duration": 36,
    "start_time": "2022-01-27T20:05:18.099Z"
   },
   {
    "duration": 22,
    "start_time": "2022-01-27T20:05:18.138Z"
   },
   {
    "duration": 19,
    "start_time": "2022-01-27T20:05:18.163Z"
   },
   {
    "duration": 46,
    "start_time": "2022-01-27T20:05:18.186Z"
   },
   {
    "duration": 40,
    "start_time": "2022-01-27T20:05:18.240Z"
   },
   {
    "duration": 45,
    "start_time": "2022-01-27T20:05:18.284Z"
   },
   {
    "duration": 91,
    "start_time": "2022-01-27T20:05:18.332Z"
   },
   {
    "duration": 49,
    "start_time": "2022-01-27T20:05:18.427Z"
   },
   {
    "duration": 26,
    "start_time": "2022-01-27T20:05:18.479Z"
   },
   {
    "duration": 754,
    "start_time": "2022-01-27T20:05:18.508Z"
   },
   {
    "duration": 8,
    "start_time": "2022-01-27T20:05:19.264Z"
   },
   {
    "duration": 57,
    "start_time": "2022-01-27T20:05:19.275Z"
   },
   {
    "duration": 32,
    "start_time": "2022-01-27T20:05:27.478Z"
   },
   {
    "duration": 29,
    "start_time": "2022-01-27T20:06:35.135Z"
   },
   {
    "duration": 452,
    "start_time": "2022-01-27T20:06:48.075Z"
   },
   {
    "duration": 29,
    "start_time": "2022-01-27T20:07:04.259Z"
   },
   {
    "duration": 32,
    "start_time": "2022-01-27T20:07:41.361Z"
   },
   {
    "duration": 22,
    "start_time": "2022-01-27T20:07:52.998Z"
   },
   {
    "duration": 649,
    "start_time": "2022-01-27T20:12:26.708Z"
   },
   {
    "duration": 671,
    "start_time": "2022-01-27T20:26:32.209Z"
   },
   {
    "duration": 675,
    "start_time": "2022-01-27T20:26:51.321Z"
   },
   {
    "duration": 25,
    "start_time": "2022-01-27T20:29:15.111Z"
   },
   {
    "duration": 30,
    "start_time": "2022-01-27T20:29:46.837Z"
   },
   {
    "duration": 103,
    "start_time": "2022-01-27T20:33:40.552Z"
   },
   {
    "duration": 27,
    "start_time": "2022-01-27T20:33:50.964Z"
   },
   {
    "duration": 24,
    "start_time": "2022-01-27T20:33:59.960Z"
   },
   {
    "duration": 26,
    "start_time": "2022-01-27T20:34:04.446Z"
   },
   {
    "duration": 27,
    "start_time": "2022-01-27T20:34:14.762Z"
   },
   {
    "duration": 398,
    "start_time": "2022-01-27T20:35:08.016Z"
   },
   {
    "duration": 318,
    "start_time": "2022-01-27T20:35:12.128Z"
   },
   {
    "duration": 18,
    "start_time": "2022-01-27T20:35:29.666Z"
   },
   {
    "duration": 20,
    "start_time": "2022-01-27T20:35:53.493Z"
   },
   {
    "duration": 465,
    "start_time": "2022-01-27T20:36:24.120Z"
   }
  ],
  "kernelspec": {
   "display_name": "Python 3 (ipykernel)",
   "language": "python",
   "name": "python3"
  },
  "language_info": {
   "codemirror_mode": {
    "name": "ipython",
    "version": 3
   },
   "file_extension": ".py",
   "mimetype": "text/x-python",
   "name": "python",
   "nbconvert_exporter": "python",
   "pygments_lexer": "ipython3",
   "version": "3.9.9"
  },
  "toc": {
   "base_numbering": 1,
   "nav_menu": {},
   "number_sections": true,
   "sideBar": true,
   "skip_h1_title": true,
   "title_cell": "Table of Contents",
   "title_sidebar": "Contents",
   "toc_cell": false,
   "toc_position": {
    "height": "calc(100% - 180px)",
    "left": "10px",
    "top": "150px",
    "width": "238px"
   },
   "toc_section_display": true,
   "toc_window_display": true
  }
 },
 "nbformat": 4,
 "nbformat_minor": 2
}
