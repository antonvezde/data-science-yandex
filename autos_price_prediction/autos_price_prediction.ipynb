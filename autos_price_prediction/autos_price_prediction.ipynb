{
 "cells": [
  {
   "cell_type": "markdown",
   "id": "3fc395b2",
   "metadata": {},
   "source": [
    "## Project description\n",
    "Сервис по продаже автомобилей с пробегом «Не бит, не крашен» разрабатывает приложение для привлечения новых клиентов. В нём можно быстро узнать рыночную стоимость своего автомобиля.  \n",
    "В вашем распоряжении исторические данные: технические характеристики, комплектации и цены автомобилей.  \n",
    "Вам нужно построить модель для определения стоимости.\n",
    "Заказчику важны:  \n",
    "(1) качество предсказания;  \n",
    "(2) скорость предсказания;  \n",
    "(3) время обучения."
   ]
  },
  {
   "cell_type": "markdown",
   "id": "27ed9b57",
   "metadata": {},
   "source": [
    "## Importing packages"
   ]
  },
  {
   "cell_type": "code",
   "execution_count": 28,
   "id": "2994d100",
   "metadata": {},
   "outputs": [],
   "source": [
    "import numpy as np\n",
    "import pandas as pd\n",
    "import matplotlib.pyplot as plt\n",
    "import seaborn as sns\n",
    "import time\n",
    "import os\n",
    "\n",
    "from sklearn.model_selection import train_test_split\n",
    "from sklearn.preprocessing import StandardScaler\n",
    "from sklearn.metrics import mean_squared_error\n",
    "from lightgbm import LGBMRegressor\n",
    "from catboost import CatBoostRegressor\n",
    "from sklearn.linear_model import LinearRegression"
   ]
  },
  {
   "cell_type": "markdown",
   "id": "cfc6d79a",
   "metadata": {},
   "source": [
    "## Data preparation"
   ]
  },
  {
   "cell_type": "markdown",
   "id": "35f460f9",
   "metadata": {},
   "source": [
    "### Reading"
   ]
  },
  {
   "cell_type": "code",
   "execution_count": 29,
   "id": "91fe965c",
   "metadata": {},
   "outputs": [],
   "source": [
    "pth1 = '/datasets/autos.csv'\n",
    "pth2 = 'autos.csv'\n",
    "\n",
    "if os.path.exists(pth1):\n",
    "    df = pd.read_csv(pth1)\n",
    "elif os.path.exists(pth2):\n",
    "    df = pd.read_csv(pth2)\n",
    "else:\n",
    "    print('Something is wrong. Please, check file path.')"
   ]
  },
  {
   "cell_type": "code",
   "execution_count": 30,
   "id": "32bb60d3",
   "metadata": {
    "scrolled": true
   },
   "outputs": [
    {
     "data": {
      "text/html": [
       "<div>\n",
       "<style scoped>\n",
       "    .dataframe tbody tr th:only-of-type {\n",
       "        vertical-align: middle;\n",
       "    }\n",
       "\n",
       "    .dataframe tbody tr th {\n",
       "        vertical-align: top;\n",
       "    }\n",
       "\n",
       "    .dataframe thead th {\n",
       "        text-align: right;\n",
       "    }\n",
       "</style>\n",
       "<table border=\"1\" class=\"dataframe\">\n",
       "  <thead>\n",
       "    <tr style=\"text-align: right;\">\n",
       "      <th></th>\n",
       "      <th>price</th>\n",
       "      <th>registrationyear</th>\n",
       "      <th>power</th>\n",
       "      <th>kilometer</th>\n",
       "      <th>registrationmonth</th>\n",
       "      <th>numberofpictures</th>\n",
       "      <th>postalcode</th>\n",
       "    </tr>\n",
       "  </thead>\n",
       "  <tbody>\n",
       "    <tr>\n",
       "      <th>count</th>\n",
       "      <td>354369.000000</td>\n",
       "      <td>354369.000000</td>\n",
       "      <td>354369.000000</td>\n",
       "      <td>354369.000000</td>\n",
       "      <td>354369.000000</td>\n",
       "      <td>354369.0</td>\n",
       "      <td>354369.000000</td>\n",
       "    </tr>\n",
       "    <tr>\n",
       "      <th>mean</th>\n",
       "      <td>4416.656776</td>\n",
       "      <td>2004.234448</td>\n",
       "      <td>110.094337</td>\n",
       "      <td>128211.172535</td>\n",
       "      <td>5.714645</td>\n",
       "      <td>0.0</td>\n",
       "      <td>50508.689087</td>\n",
       "    </tr>\n",
       "    <tr>\n",
       "      <th>std</th>\n",
       "      <td>4514.158514</td>\n",
       "      <td>90.227958</td>\n",
       "      <td>189.850405</td>\n",
       "      <td>37905.341530</td>\n",
       "      <td>3.726421</td>\n",
       "      <td>0.0</td>\n",
       "      <td>25783.096248</td>\n",
       "    </tr>\n",
       "    <tr>\n",
       "      <th>min</th>\n",
       "      <td>0.000000</td>\n",
       "      <td>1000.000000</td>\n",
       "      <td>0.000000</td>\n",
       "      <td>5000.000000</td>\n",
       "      <td>0.000000</td>\n",
       "      <td>0.0</td>\n",
       "      <td>1067.000000</td>\n",
       "    </tr>\n",
       "    <tr>\n",
       "      <th>25%</th>\n",
       "      <td>1050.000000</td>\n",
       "      <td>1999.000000</td>\n",
       "      <td>69.000000</td>\n",
       "      <td>125000.000000</td>\n",
       "      <td>3.000000</td>\n",
       "      <td>0.0</td>\n",
       "      <td>30165.000000</td>\n",
       "    </tr>\n",
       "    <tr>\n",
       "      <th>50%</th>\n",
       "      <td>2700.000000</td>\n",
       "      <td>2003.000000</td>\n",
       "      <td>105.000000</td>\n",
       "      <td>150000.000000</td>\n",
       "      <td>6.000000</td>\n",
       "      <td>0.0</td>\n",
       "      <td>49413.000000</td>\n",
       "    </tr>\n",
       "    <tr>\n",
       "      <th>75%</th>\n",
       "      <td>6400.000000</td>\n",
       "      <td>2008.000000</td>\n",
       "      <td>143.000000</td>\n",
       "      <td>150000.000000</td>\n",
       "      <td>9.000000</td>\n",
       "      <td>0.0</td>\n",
       "      <td>71083.000000</td>\n",
       "    </tr>\n",
       "    <tr>\n",
       "      <th>max</th>\n",
       "      <td>20000.000000</td>\n",
       "      <td>9999.000000</td>\n",
       "      <td>20000.000000</td>\n",
       "      <td>150000.000000</td>\n",
       "      <td>12.000000</td>\n",
       "      <td>0.0</td>\n",
       "      <td>99998.000000</td>\n",
       "    </tr>\n",
       "  </tbody>\n",
       "</table>\n",
       "</div>"
      ],
      "text/plain": [
       "               price  registrationyear          power      kilometer  \\\n",
       "count  354369.000000     354369.000000  354369.000000  354369.000000   \n",
       "mean     4416.656776       2004.234448     110.094337  128211.172535   \n",
       "std      4514.158514         90.227958     189.850405   37905.341530   \n",
       "min         0.000000       1000.000000       0.000000    5000.000000   \n",
       "25%      1050.000000       1999.000000      69.000000  125000.000000   \n",
       "50%      2700.000000       2003.000000     105.000000  150000.000000   \n",
       "75%      6400.000000       2008.000000     143.000000  150000.000000   \n",
       "max     20000.000000       9999.000000   20000.000000  150000.000000   \n",
       "\n",
       "       registrationmonth  numberofpictures     postalcode  \n",
       "count      354369.000000          354369.0  354369.000000  \n",
       "mean            5.714645               0.0   50508.689087  \n",
       "std             3.726421               0.0   25783.096248  \n",
       "min             0.000000               0.0    1067.000000  \n",
       "25%             3.000000               0.0   30165.000000  \n",
       "50%             6.000000               0.0   49413.000000  \n",
       "75%             9.000000               0.0   71083.000000  \n",
       "max            12.000000               0.0   99998.000000  "
      ]
     },
     "execution_count": 30,
     "metadata": {},
     "output_type": "execute_result"
    }
   ],
   "source": [
    "df.columns = df.columns.map(str.lower)\n",
    "df.describe()"
   ]
  },
  {
   "cell_type": "markdown",
   "id": "0fe5a264",
   "metadata": {},
   "source": [
    "### Cleaning"
   ]
  },
  {
   "cell_type": "code",
   "execution_count": 31,
   "id": "e4b48e8d",
   "metadata": {},
   "outputs": [
    {
     "data": {
      "text/plain": [
       "0"
      ]
     },
     "execution_count": 31,
     "metadata": {},
     "output_type": "execute_result"
    }
   ],
   "source": [
    "# Удаление дубликатов\n",
    "df.drop_duplicates(inplace=True)\n",
    "df.duplicated().sum()"
   ]
  },
  {
   "cell_type": "code",
   "execution_count": 32,
   "id": "1223f180",
   "metadata": {},
   "outputs": [],
   "source": [
    "# Удаляю признаки, которые не повлияют на обучение моделей\n",
    "df = df.drop(['datecrawled', 'datecreated', 'numberofpictures', 'postalcode', 'registrationmonth', 'lastseen'], axis=1)"
   ]
  },
  {
   "cell_type": "code",
   "execution_count": 33,
   "id": "e7dac672",
   "metadata": {},
   "outputs": [],
   "source": [
    "# Оставлю в datafame только те строки, где мощность двигателя 'power' < 1000 л.с. Это логично, потому-что мощность > 1000 л.с.\n",
    "# крайне редко встречается и скорее всего это ошибка в данных. Нулю мощность тоже равна быть не может. Обычно в машине более 50 л.с. \n",
    "df = df[(df['power'] < 1000) & (df['power'] > 49)]\n",
    "# Также 'registrationyear' должен быть в пределах разумных годов. Ранее было показано, что есть выбросы как в плюс так и в минус.\n",
    "df = df.query('1980 < registrationyear < 2018')\n",
    "# 'price' равным нулю тоже быть не может. Все, что ниже 100 Евро в 'price' - уберу. Если цена близка к 100 Евро, то, скорей всего\n",
    "# машина битая или распродается по частям. Также уберу 2% выбросов от 20000, т.е. оставлю все, что < 19600\n",
    "df = df[(df['price'] < 19000) & (df['price'] > 100)] "
   ]
  },
  {
   "cell_type": "code",
   "execution_count": 34,
   "id": "cd15d240",
   "metadata": {},
   "outputs": [
    {
     "data": {
      "text/plain": [
       "price                   0\n",
       "vehicletype         17424\n",
       "registrationyear        0\n",
       "gearbox              5239\n",
       "power                   0\n",
       "model               10863\n",
       "kilometer               0\n",
       "fueltype            17321\n",
       "brand                   0\n",
       "notrepaired         43490\n",
       "dtype: int64"
      ]
     },
     "metadata": {},
     "output_type": "display_data"
    }
   ],
   "source": [
    "# Проверим сколько NaN\n",
    "display(df.isna().sum())\n",
    "# Заменяю 'yes' и 'no' на 1 и 0\n",
    "df['notrepaired'] = df['notrepaired'].map({'yes':1, 'no':0})\n",
    "# Заменю NaN на 0, т.к скорее всего NaN означает, что машина не ремонтировалась, иначе была бы указана 1\n",
    "df['notrepaired'] = df['notrepaired'].fillna(0)\n",
    "df['notrepaired'] = df['notrepaired'].astype('int64')\n",
    "# Удалю остальные NaN, т.к. это будет около 5% данных\n",
    "df.dropna(axis=0, inplace=True)\n",
    "df.reset_index(drop=True, inplace=True)"
   ]
  },
  {
   "cell_type": "markdown",
   "id": "0bf10909",
   "metadata": {},
   "source": [
    "### Categorical columns"
   ]
  },
  {
   "cell_type": "code",
   "execution_count": 35,
   "id": "4f2740c2",
   "metadata": {},
   "outputs": [],
   "source": [
    "# Определяем столбцы, которые будут категориальными\n",
    "cat_cols = list(df.select_dtypes(include='object').columns)\n",
    "# Конвертируем\n",
    "df[cat_cols] = df[cat_cols].astype('category')"
   ]
  },
  {
   "cell_type": "code",
   "execution_count": 36,
   "id": "8c9219d2",
   "metadata": {},
   "outputs": [
    {
     "data": {
      "text/html": [
       "<div>\n",
       "<style scoped>\n",
       "    .dataframe tbody tr th:only-of-type {\n",
       "        vertical-align: middle;\n",
       "    }\n",
       "\n",
       "    .dataframe tbody tr th {\n",
       "        vertical-align: top;\n",
       "    }\n",
       "\n",
       "    .dataframe thead th {\n",
       "        text-align: right;\n",
       "    }\n",
       "</style>\n",
       "<table border=\"1\" class=\"dataframe\">\n",
       "  <thead>\n",
       "    <tr style=\"text-align: right;\">\n",
       "      <th></th>\n",
       "      <th>price</th>\n",
       "      <th>registrationyear</th>\n",
       "      <th>power</th>\n",
       "      <th>kilometer</th>\n",
       "      <th>notrepaired</th>\n",
       "    </tr>\n",
       "  </thead>\n",
       "  <tbody>\n",
       "    <tr>\n",
       "      <th>count</th>\n",
       "      <td>254907.000000</td>\n",
       "      <td>254907.000000</td>\n",
       "      <td>254907.000000</td>\n",
       "      <td>254907.000000</td>\n",
       "      <td>254907.000000</td>\n",
       "    </tr>\n",
       "    <tr>\n",
       "      <th>mean</th>\n",
       "      <td>4987.847662</td>\n",
       "      <td>2003.056542</td>\n",
       "      <td>122.689397</td>\n",
       "      <td>128526.658742</td>\n",
       "      <td>0.091594</td>\n",
       "    </tr>\n",
       "    <tr>\n",
       "      <th>std</th>\n",
       "      <td>4465.980475</td>\n",
       "      <td>5.497544</td>\n",
       "      <td>52.853121</td>\n",
       "      <td>36150.799972</td>\n",
       "      <td>0.288453</td>\n",
       "    </tr>\n",
       "    <tr>\n",
       "      <th>min</th>\n",
       "      <td>101.000000</td>\n",
       "      <td>1981.000000</td>\n",
       "      <td>50.000000</td>\n",
       "      <td>5000.000000</td>\n",
       "      <td>0.000000</td>\n",
       "    </tr>\n",
       "    <tr>\n",
       "      <th>25%</th>\n",
       "      <td>1500.000000</td>\n",
       "      <td>1999.000000</td>\n",
       "      <td>82.000000</td>\n",
       "      <td>125000.000000</td>\n",
       "      <td>0.000000</td>\n",
       "    </tr>\n",
       "    <tr>\n",
       "      <th>50%</th>\n",
       "      <td>3499.000000</td>\n",
       "      <td>2003.000000</td>\n",
       "      <td>115.000000</td>\n",
       "      <td>150000.000000</td>\n",
       "      <td>0.000000</td>\n",
       "    </tr>\n",
       "    <tr>\n",
       "      <th>75%</th>\n",
       "      <td>7250.000000</td>\n",
       "      <td>2007.000000</td>\n",
       "      <td>150.000000</td>\n",
       "      <td>150000.000000</td>\n",
       "      <td>0.000000</td>\n",
       "    </tr>\n",
       "    <tr>\n",
       "      <th>max</th>\n",
       "      <td>18999.000000</td>\n",
       "      <td>2017.000000</td>\n",
       "      <td>999.000000</td>\n",
       "      <td>150000.000000</td>\n",
       "      <td>1.000000</td>\n",
       "    </tr>\n",
       "  </tbody>\n",
       "</table>\n",
       "</div>"
      ],
      "text/plain": [
       "               price  registrationyear          power      kilometer  \\\n",
       "count  254907.000000     254907.000000  254907.000000  254907.000000   \n",
       "mean     4987.847662       2003.056542     122.689397  128526.658742   \n",
       "std      4465.980475          5.497544      52.853121   36150.799972   \n",
       "min       101.000000       1981.000000      50.000000    5000.000000   \n",
       "25%      1500.000000       1999.000000      82.000000  125000.000000   \n",
       "50%      3499.000000       2003.000000     115.000000  150000.000000   \n",
       "75%      7250.000000       2007.000000     150.000000  150000.000000   \n",
       "max     18999.000000       2017.000000     999.000000  150000.000000   \n",
       "\n",
       "         notrepaired  \n",
       "count  254907.000000  \n",
       "mean        0.091594  \n",
       "std         0.288453  \n",
       "min         0.000000  \n",
       "25%         0.000000  \n",
       "50%         0.000000  \n",
       "75%         0.000000  \n",
       "max         1.000000  "
      ]
     },
     "metadata": {},
     "output_type": "display_data"
    },
    {
     "name": "stdout",
     "output_type": "stream",
     "text": [
      "<class 'pandas.core.frame.DataFrame'>\n",
      "RangeIndex: 254907 entries, 0 to 254906\n",
      "Data columns (total 10 columns):\n",
      " #   Column            Non-Null Count   Dtype   \n",
      "---  ------            --------------   -----   \n",
      " 0   price             254907 non-null  int64   \n",
      " 1   vehicletype       254907 non-null  category\n",
      " 2   registrationyear  254907 non-null  int64   \n",
      " 3   gearbox           254907 non-null  category\n",
      " 4   power             254907 non-null  int64   \n",
      " 5   model             254907 non-null  category\n",
      " 6   kilometer         254907 non-null  int64   \n",
      " 7   fueltype          254907 non-null  category\n",
      " 8   brand             254907 non-null  category\n",
      " 9   notrepaired       254907 non-null  int64   \n",
      "dtypes: category(5), int64(5)\n",
      "memory usage: 11.2 MB\n"
     ]
    },
    {
     "data": {
      "text/plain": [
       "None"
      ]
     },
     "metadata": {},
     "output_type": "display_data"
    }
   ],
   "source": [
    "# Таблица после редактирования\n",
    "display(df.describe())\n",
    "display(df.info())"
   ]
  },
  {
   "cell_type": "code",
   "execution_count": 37,
   "id": "36eb363c",
   "metadata": {},
   "outputs": [
    {
     "data": {
      "image/png": "[encoded data removed]",
      "text/plain": [
       "<Figure size 360x360 with 1 Axes>"
      ]
     },
     "metadata": {
      "needs_background": "light"
     },
     "output_type": "display_data"
    }
   ],
   "source": [
    "# Посмотрю на распределение price\n",
    "sns.displot(data=df, x='price', kind='kde')\n",
    "plt.show()"
   ]
  },
  {
   "cell_type": "markdown",
   "id": "2cca191a",
   "metadata": {},
   "source": [
    "Вывод.  \n",
    "Данные были подготовлены для построения моделей. Ненужные признаки были удалены. Строки, содержащие NaN были удалены. Столбцы типа 'object' были переведены в 'category'."
   ]
  },
  {
   "cell_type": "markdown",
   "id": "df8ea216",
   "metadata": {},
   "source": [
    "## Data splitting"
   ]
  },
  {
   "cell_type": "code",
   "execution_count": 38,
   "id": "9137aec3",
   "metadata": {},
   "outputs": [],
   "source": [
    "X = df.drop('price', axis=1)\n",
    "y = df['price']\n",
    "\n",
    "X_train, X_test, y_train, y_test = train_test_split(X, y, test_size=0.2, random_state=0)"
   ]
  },
  {
   "cell_type": "markdown",
   "id": "3d11176c",
   "metadata": {},
   "source": [
    "## Data scaling"
   ]
  },
  {
   "cell_type": "code",
   "execution_count": 39,
   "id": "ddc2cdff",
   "metadata": {},
   "outputs": [],
   "source": [
    "scaler = StandardScaler()\n",
    "numeric = ['registrationyear','power','kilometer']\n",
    "scaler.fit(X_train[numeric])\n",
    "X_train[numeric] = scaler.transform(X_train[numeric])\n",
    "X_test[numeric] = scaler.transform(X_test[numeric])"
   ]
  },
  {
   "cell_type": "code",
   "execution_count": 40,
   "id": "041b801d",
   "metadata": {},
   "outputs": [
    {
     "name": "stdout",
     "output_type": "stream",
     "text": [
      "(203925, 9) (203925,)\n",
      "(50982, 9) (50982,)\n"
     ]
    }
   ],
   "source": [
    "print(X_train.shape, y_train.shape)\n",
    "print(X_test.shape, y_test.shape)"
   ]
  },
  {
   "cell_type": "markdown",
   "id": "a5ba0f7b",
   "metadata": {},
   "source": [
    "## Custom Class to adjust models"
   ]
  },
  {
   "cell_type": "code",
   "execution_count": 41,
   "id": "6fc766a9",
   "metadata": {},
   "outputs": [],
   "source": [
    "class PredictionModel:\n",
    "   \n",
    "    def __init__(self, model, cat_features=None):\n",
    "        self.cat_features = cat_features\n",
    "        self.model = model\n",
    "        self.data_list = []\n",
    "               \n",
    "    def train(self, X_train, y_train):\n",
    "        self.X_train = X_train\n",
    "        self.y_train = y_train\n",
    "        self.start = time.time()\n",
    "        self.model.fit(X_train, y_train, self.cat_features)\n",
    "        self.end = time.time()\n",
    "        self.time_train = abs(self.start - self.end)\n",
    "        self.data_list.append(round(self.time_train, 3))\n",
    "    \n",
    "    def predict(self, y_test):\n",
    "        self.y_test = y_test\n",
    "        self.start = time.time()\n",
    "        self.predicted_test = self.model.predict(X_test)\n",
    "        self.end = time.time()\n",
    "        self.time_predict = abs(self.start - self.end)\n",
    "        self.data_list.append(round(self.time_predict, 3))\n",
    "    \n",
    "    def rmse(self):\n",
    "        self.mse = mean_squared_error(self.y_test, self.predicted_test)\n",
    "        self.rmse = self.mse**0.5\n",
    "        self.data_list.append(round(self.rmse, 3))\n",
    "        \n",
    "    def get_data(self):\n",
    "        print(f'Train time(s): {self.data_list[0]}, Prediction time (s): {self.data_list[1]}, RMSE: {self.data_list[2]}')\n",
    "        return self.data_list\n",
    "    \n",
    "    def get_importances(self):              \n",
    "        self.feat_importance = self.model.feature_importances_\n",
    "        self.cols = self.X_train.columns        \n",
    "        return self.feat_importance\n",
    "    \n",
    "    def get_cols(self):\n",
    "        return self.X_train.columns\n",
    "    \n",
    "    def get_graph(self):\n",
    "        self.df_importances = pd.DataFrame(sorted(zip(self.get_importances(), self.get_cols())), columns=['Value','Feature'])\n",
    "        sns.barplot(x='Value', y='Feature', data=self.df_importances.sort_values(by='Value', ascending=False))\n",
    "        plt.title('Feature importance')\n",
    "        plt.tight_layout()\n",
    "        plt.show()"
   ]
  },
  {
   "cell_type": "markdown",
   "id": "9c112b73",
   "metadata": {},
   "source": [
    "## LightGBM (Model 0)"
   ]
  },
  {
   "cell_type": "code",
   "execution_count": 42,
   "id": "9226ea74",
   "metadata": {},
   "outputs": [
    {
     "name": "stdout",
     "output_type": "stream",
     "text": [
      "Train time(s): 0.374, Prediction time (s): 0.056, RMSE: 1483.12\n"
     ]
    },
    {
     "data": {
      "text/plain": [
       "[0.374, 0.056, 1483.12]"
      ]
     },
     "execution_count": 42,
     "metadata": {},
     "output_type": "execute_result"
    }
   ],
   "source": [
    "model_0 = PredictionModel(LGBMRegressor(random_state=0))\n",
    "model_0.train(X_train, y_train)\n",
    "model_0.predict(y_test)\n",
    "model_0.rmse()\n",
    "model_0.get_data()"
   ]
  },
  {
   "cell_type": "code",
   "execution_count": 43,
   "id": "56fcfb7b",
   "metadata": {},
   "outputs": [
    {
     "data": {
      "image/png": "[encoded data removed]",
      "text/plain": [
       "<Figure size 432x288 with 1 Axes>"
      ]
     },
     "metadata": {
      "needs_background": "light"
     },
     "output_type": "display_data"
    }
   ],
   "source": [
    "model_0.get_graph()"
   ]
  },
  {
   "cell_type": "markdown",
   "id": "7d78b00a",
   "metadata": {},
   "source": [
    "## LightGBM (Model 1)"
   ]
  },
  {
   "cell_type": "code",
   "execution_count": 44,
   "id": "d5976843",
   "metadata": {},
   "outputs": [
    {
     "name": "stdout",
     "output_type": "stream",
     "text": [
      "Train time(s): 1.714, Prediction time (s): 0.173, RMSE: 1396.369\n"
     ]
    },
    {
     "data": {
      "text/plain": [
       "[1.714, 0.173, 1396.369]"
      ]
     },
     "execution_count": 44,
     "metadata": {},
     "output_type": "execute_result"
    }
   ],
   "source": [
    "model_1 = PredictionModel(LGBMRegressor(num_leaves=300, \n",
    "                                 max_depth=- 1, \n",
    "                                 learning_rate=0.1, \n",
    "                                 n_estimators=150, \n",
    "                                 random_state=0))\n",
    "model_1.train(X_train, y_train)\n",
    "model_1.predict(y_test)\n",
    "model_1.rmse()\n",
    "model_1.get_data()"
   ]
  },
  {
   "cell_type": "code",
   "execution_count": 45,
   "id": "4a4ba6a5",
   "metadata": {},
   "outputs": [
    {
     "data": {
      "image/png": "[encoded data removed]",
      "text/plain": [
       "<Figure size 432x288 with 1 Axes>"
      ]
     },
     "metadata": {
      "needs_background": "light"
     },
     "output_type": "display_data"
    }
   ],
   "source": [
    "model_1.get_graph()"
   ]
  },
  {
   "cell_type": "markdown",
   "id": "2340905b",
   "metadata": {},
   "source": [
    "## LightGBM (Model 2)\n"
   ]
  },
  {
   "cell_type": "code",
   "execution_count": 46,
   "id": "ecb93452",
   "metadata": {},
   "outputs": [
    {
     "name": "stdout",
     "output_type": "stream",
     "text": [
      "Train time(s): 2.096, Prediction time (s): 0.208, RMSE: 1394.644\n"
     ]
    },
    {
     "data": {
      "text/plain": [
       "[2.096, 0.208, 1394.644]"
      ]
     },
     "execution_count": 46,
     "metadata": {},
     "output_type": "execute_result"
    }
   ],
   "source": [
    "model_2 = PredictionModel(LGBMRegressor(num_leaves=300, \n",
    "                                 max_depth=- 1, \n",
    "                                 learning_rate=0.1, \n",
    "                                 n_estimators=200, \n",
    "                                 random_state=0))\n",
    "model_2.train(X_train, y_train)\n",
    "model_2.predict(y_test)\n",
    "model_2.rmse()\n",
    "model_2.get_data()"
   ]
  },
  {
   "cell_type": "code",
   "execution_count": 47,
   "id": "46ebd471",
   "metadata": {},
   "outputs": [
    {
     "data": {
      "image/png": "[encoded data removed]",
      "text/plain": [
       "<Figure size 432x288 with 1 Axes>"
      ]
     },
     "metadata": {
      "needs_background": "light"
     },
     "output_type": "display_data"
    }
   ],
   "source": [
    "model_2.get_graph()"
   ]
  },
  {
   "cell_type": "markdown",
   "id": "7b91b6ec",
   "metadata": {},
   "source": [
    "## LightGBM (Model 3)\n"
   ]
  },
  {
   "cell_type": "code",
   "execution_count": 48,
   "id": "37ac1407",
   "metadata": {},
   "outputs": [
    {
     "name": "stdout",
     "output_type": "stream",
     "text": [
      "Train time(s): 2.836, Prediction time (s): 0.29, RMSE: 1391.751\n"
     ]
    },
    {
     "data": {
      "text/plain": [
       "[2.836, 0.29, 1391.751]"
      ]
     },
     "execution_count": 48,
     "metadata": {},
     "output_type": "execute_result"
    }
   ],
   "source": [
    "model_3 = PredictionModel(LGBMRegressor(num_leaves=300, \n",
    "                                 max_depth=- 1, \n",
    "                                 learning_rate=0.1, \n",
    "                                 n_estimators=300, \n",
    "                                 random_state=0))\n",
    "model_3.train(X_train, y_train)\n",
    "model_3.predict(y_test)\n",
    "model_3.rmse()\n",
    "model_3.get_data()"
   ]
  },
  {
   "cell_type": "code",
   "execution_count": 49,
   "id": "44755e14",
   "metadata": {},
   "outputs": [
    {
     "data": {
      "image/png": "[encoded data removed]",
      "text/plain": [
       "<Figure size 432x288 with 1 Axes>"
      ]
     },
     "metadata": {
      "needs_background": "light"
     },
     "output_type": "display_data"
    }
   ],
   "source": [
    "model_3.get_graph()"
   ]
  },
  {
   "cell_type": "markdown",
   "id": "8e76234a",
   "metadata": {},
   "source": [
    "## CatBoost (Model 4)"
   ]
  },
  {
   "cell_type": "code",
   "execution_count": 50,
   "id": "a4125558",
   "metadata": {
    "scrolled": true
   },
   "outputs": [
    {
     "name": "stdout",
     "output_type": "stream",
     "text": [
      "Learning rate set to 0.094858\n",
      "0:\tlearn: 4173.6288948\ttotal: 48.6ms\tremaining: 48.5s\n",
      "1:\tlearn: 3913.2764406\ttotal: 92.1ms\tremaining: 46s\n",
      "2:\tlearn: 3685.9910893\ttotal: 123ms\tremaining: 40.8s\n",
      "3:\tlearn: 3476.8891001\ttotal: 153ms\tremaining: 38.2s\n",
      "4:\tlearn: 3294.8764226\ttotal: 184ms\tremaining: 36.7s\n",
      "5:\tlearn: 3125.0361913\ttotal: 215ms\tremaining: 35.6s\n",
      "6:\tlearn: 2974.6993929\ttotal: 241ms\tremaining: 34.2s\n",
      "7:\tlearn: 2847.3098970\ttotal: 266ms\tremaining: 33s\n",
      "8:\tlearn: 2731.0428066\ttotal: 297ms\tremaining: 32.7s\n",
      "9:\tlearn: 2628.4436092\ttotal: 327ms\tremaining: 32.3s\n",
      "10:\tlearn: 2541.7129474\ttotal: 351ms\tremaining: 31.6s\n",
      "11:\tlearn: 2462.9440982\ttotal: 372ms\tremaining: 30.6s\n",
      "12:\tlearn: 2392.7280344\ttotal: 397ms\tremaining: 30.2s\n",
      "13:\tlearn: 2320.3686008\ttotal: 423ms\tremaining: 29.8s\n",
      "14:\tlearn: 2265.7468362\ttotal: 453ms\tremaining: 29.8s\n",
      "15:\tlearn: 2208.9419184\ttotal: 473ms\tremaining: 29.1s\n",
      "16:\tlearn: 2161.5274386\ttotal: 490ms\tremaining: 28.3s\n",
      "17:\tlearn: 2121.7769267\ttotal: 517ms\tremaining: 28.2s\n",
      "18:\tlearn: 2087.0452982\ttotal: 548ms\tremaining: 28.3s\n",
      "19:\tlearn: 2051.8936561\ttotal: 575ms\tremaining: 28.2s\n",
      "20:\tlearn: 2022.7682931\ttotal: 604ms\tremaining: 28.2s\n",
      "21:\tlearn: 1997.9686705\ttotal: 635ms\tremaining: 28.2s\n",
      "22:\tlearn: 1972.6899249\ttotal: 661ms\tremaining: 28.1s\n",
      "23:\tlearn: 1953.2996039\ttotal: 691ms\tremaining: 28.1s\n",
      "24:\tlearn: 1932.5464943\ttotal: 716ms\tremaining: 27.9s\n",
      "25:\tlearn: 1916.0214466\ttotal: 748ms\tremaining: 28s\n",
      "26:\tlearn: 1897.0226132\ttotal: 764ms\tremaining: 27.5s\n",
      "27:\tlearn: 1881.0084612\ttotal: 790ms\tremaining: 27.4s\n",
      "28:\tlearn: 1867.8816259\ttotal: 815ms\tremaining: 27.3s\n",
      "29:\tlearn: 1856.4331311\ttotal: 836ms\tremaining: 27s\n",
      "30:\tlearn: 1844.3161277\ttotal: 863ms\tremaining: 27s\n",
      "31:\tlearn: 1832.3582130\ttotal: 888ms\tremaining: 26.9s\n",
      "32:\tlearn: 1821.7405722\ttotal: 908ms\tremaining: 26.6s\n",
      "33:\tlearn: 1812.0281535\ttotal: 928ms\tremaining: 26.4s\n",
      "34:\tlearn: 1803.9692972\ttotal: 950ms\tremaining: 26.2s\n",
      "35:\tlearn: 1796.6951954\ttotal: 974ms\tremaining: 26.1s\n",
      "36:\tlearn: 1787.6949713\ttotal: 998ms\tremaining: 26s\n",
      "37:\tlearn: 1781.7961538\ttotal: 1.03s\tremaining: 26s\n",
      "38:\tlearn: 1774.6605493\ttotal: 1.05s\tremaining: 25.9s\n",
      "39:\tlearn: 1768.0876372\ttotal: 1.07s\tremaining: 25.7s\n",
      "40:\tlearn: 1762.9285745\ttotal: 1.09s\tremaining: 25.6s\n",
      "41:\tlearn: 1757.4986905\ttotal: 1.12s\tremaining: 25.6s\n",
      "42:\tlearn: 1752.9220111\ttotal: 1.15s\tremaining: 25.5s\n",
      "43:\tlearn: 1749.4245088\ttotal: 1.18s\tremaining: 25.6s\n",
      "44:\tlearn: 1745.1245408\ttotal: 1.21s\tremaining: 25.7s\n",
      "45:\tlearn: 1741.6343033\ttotal: 1.24s\tremaining: 25.6s\n",
      "46:\tlearn: 1738.5449272\ttotal: 1.26s\tremaining: 25.7s\n",
      "47:\tlearn: 1734.6213055\ttotal: 1.29s\tremaining: 25.5s\n",
      "48:\tlearn: 1731.6334969\ttotal: 1.31s\tremaining: 25.5s\n",
      "49:\tlearn: 1728.0092240\ttotal: 1.34s\tremaining: 25.5s\n",
      "50:\tlearn: 1724.7637120\ttotal: 1.36s\tremaining: 25.4s\n",
      "51:\tlearn: 1722.5053000\ttotal: 1.38s\tremaining: 25.2s\n",
      "52:\tlearn: 1719.1376041\ttotal: 1.41s\tremaining: 25.2s\n",
      "53:\tlearn: 1716.8197812\ttotal: 1.43s\tremaining: 25.1s\n",
      "54:\tlearn: 1714.3132091\ttotal: 1.45s\tremaining: 25s\n",
      "55:\tlearn: 1710.0085246\ttotal: 1.48s\tremaining: 24.9s\n",
      "56:\tlearn: 1707.7643383\ttotal: 1.5s\tremaining: 24.8s\n",
      "57:\tlearn: 1705.5757230\ttotal: 1.52s\tremaining: 24.7s\n",
      "58:\tlearn: 1702.5007702\ttotal: 1.54s\tremaining: 24.6s\n",
      "59:\tlearn: 1700.9529094\ttotal: 1.57s\tremaining: 24.7s\n",
      "60:\tlearn: 1698.7369388\ttotal: 1.61s\tremaining: 24.7s\n",
      "61:\tlearn: 1697.2740540\ttotal: 1.63s\tremaining: 24.7s\n",
      "62:\tlearn: 1694.7567630\ttotal: 1.66s\tremaining: 24.7s\n",
      "63:\tlearn: 1693.5333745\ttotal: 1.7s\tremaining: 24.8s\n",
      "64:\tlearn: 1690.8507391\ttotal: 1.71s\tremaining: 24.7s\n",
      "65:\tlearn: 1688.0216255\ttotal: 1.74s\tremaining: 24.7s\n",
      "66:\tlearn: 1687.0274202\ttotal: 1.77s\tremaining: 24.6s\n",
      "67:\tlearn: 1685.3840846\ttotal: 1.79s\tremaining: 24.5s\n",
      "68:\tlearn: 1683.7814188\ttotal: 1.82s\tremaining: 24.5s\n",
      "69:\tlearn: 1682.0084555\ttotal: 1.85s\tremaining: 24.6s\n",
      "70:\tlearn: 1680.1248008\ttotal: 1.87s\tremaining: 24.5s\n",
      "71:\tlearn: 1678.0165716\ttotal: 1.89s\tremaining: 24.4s\n",
      "72:\tlearn: 1676.0251252\ttotal: 1.92s\tremaining: 24.4s\n",
      "73:\tlearn: 1674.7858642\ttotal: 1.95s\tremaining: 24.3s\n",
      "74:\tlearn: 1673.2150336\ttotal: 1.97s\tremaining: 24.3s\n",
      "75:\tlearn: 1671.2781068\ttotal: 2s\tremaining: 24.3s\n",
      "76:\tlearn: 1668.9112367\ttotal: 2.02s\tremaining: 24.2s\n",
      "77:\tlearn: 1667.0498537\ttotal: 2.04s\tremaining: 24.2s\n",
      "78:\tlearn: 1665.2498902\ttotal: 2.06s\tremaining: 24.1s\n",
      "79:\tlearn: 1663.5359239\ttotal: 2.09s\tremaining: 24.1s\n",
      "80:\tlearn: 1661.5340443\ttotal: 2.11s\tremaining: 24s\n",
      "81:\tlearn: 1660.5173959\ttotal: 2.14s\tremaining: 23.9s\n",
      "82:\tlearn: 1659.7121705\ttotal: 2.16s\tremaining: 23.9s\n",
      "83:\tlearn: 1657.8116763\ttotal: 2.19s\tremaining: 23.8s\n",
      "84:\tlearn: 1656.1681965\ttotal: 2.22s\tremaining: 23.9s\n",
      "85:\tlearn: 1654.5521394\ttotal: 2.25s\tremaining: 23.9s\n",
      "86:\tlearn: 1652.9715754\ttotal: 2.28s\tremaining: 23.9s\n",
      "87:\tlearn: 1651.8621278\ttotal: 2.31s\tremaining: 23.9s\n",
      "88:\tlearn: 1650.8205956\ttotal: 2.33s\tremaining: 23.9s\n",
      "89:\tlearn: 1649.7146716\ttotal: 2.36s\tremaining: 23.9s\n",
      "90:\tlearn: 1648.4255568\ttotal: 2.38s\tremaining: 23.8s\n",
      "91:\tlearn: 1646.9225099\ttotal: 2.41s\tremaining: 23.8s\n",
      "92:\tlearn: 1646.0710589\ttotal: 2.44s\tremaining: 23.8s\n",
      "93:\tlearn: 1643.8903672\ttotal: 2.47s\tremaining: 23.8s\n",
      "94:\tlearn: 1641.9607708\ttotal: 2.49s\tremaining: 23.7s\n",
      "95:\tlearn: 1640.9914836\ttotal: 2.52s\tremaining: 23.8s\n",
      "96:\tlearn: 1639.5076399\ttotal: 2.54s\tremaining: 23.7s\n",
      "97:\tlearn: 1638.3242608\ttotal: 2.56s\tremaining: 23.6s\n",
      "98:\tlearn: 1637.3395666\ttotal: 2.58s\tremaining: 23.5s\n",
      "99:\tlearn: 1635.8941529\ttotal: 2.61s\tremaining: 23.5s\n",
      "100:\tlearn: 1633.9037004\ttotal: 2.63s\tremaining: 23.4s\n",
      "101:\tlearn: 1632.8216612\ttotal: 2.65s\tremaining: 23.4s\n",
      "102:\tlearn: 1631.8140988\ttotal: 2.68s\tremaining: 23.3s\n",
      "103:\tlearn: 1630.5033897\ttotal: 2.71s\tremaining: 23.3s\n",
      "104:\tlearn: 1628.6802710\ttotal: 2.73s\tremaining: 23.3s\n",
      "105:\tlearn: 1627.9450038\ttotal: 2.76s\tremaining: 23.3s\n",
      "106:\tlearn: 1627.1562535\ttotal: 2.79s\tremaining: 23.3s\n",
      "107:\tlearn: 1626.4053803\ttotal: 2.82s\tremaining: 23.3s\n",
      "108:\tlearn: 1624.7126097\ttotal: 2.84s\tremaining: 23.2s\n",
      "109:\tlearn: 1623.7944410\ttotal: 2.87s\tremaining: 23.2s\n",
      "110:\tlearn: 1622.5397188\ttotal: 2.89s\tremaining: 23.1s\n",
      "111:\tlearn: 1621.1670507\ttotal: 2.91s\tremaining: 23.1s\n",
      "112:\tlearn: 1620.1184900\ttotal: 2.94s\tremaining: 23s\n",
      "113:\tlearn: 1619.2492748\ttotal: 2.96s\tremaining: 23s\n",
      "114:\tlearn: 1618.2558577\ttotal: 2.98s\tremaining: 23s\n",
      "115:\tlearn: 1617.1122314\ttotal: 3.01s\tremaining: 22.9s\n",
      "116:\tlearn: 1616.1593650\ttotal: 3.04s\tremaining: 22.9s\n",
      "117:\tlearn: 1615.4413138\ttotal: 3.06s\tremaining: 22.9s\n",
      "118:\tlearn: 1614.0732262\ttotal: 3.09s\tremaining: 22.9s\n",
      "119:\tlearn: 1612.9597213\ttotal: 3.12s\tremaining: 22.9s\n",
      "120:\tlearn: 1612.4867725\ttotal: 3.14s\tremaining: 22.8s\n",
      "121:\tlearn: 1611.5059483\ttotal: 3.17s\tremaining: 22.8s\n",
      "122:\tlearn: 1610.3078181\ttotal: 3.2s\tremaining: 22.8s\n",
      "123:\tlearn: 1609.5884349\ttotal: 3.22s\tremaining: 22.7s\n",
      "124:\tlearn: 1608.6513888\ttotal: 3.24s\tremaining: 22.7s\n",
      "125:\tlearn: 1607.5918563\ttotal: 3.26s\tremaining: 22.6s\n",
      "126:\tlearn: 1606.4970853\ttotal: 3.29s\tremaining: 22.6s\n",
      "127:\tlearn: 1605.6430838\ttotal: 3.31s\tremaining: 22.6s\n",
      "128:\tlearn: 1605.0545661\ttotal: 3.33s\tremaining: 22.5s\n",
      "129:\tlearn: 1604.1269530\ttotal: 3.36s\tremaining: 22.5s\n",
      "130:\tlearn: 1603.5741831\ttotal: 3.38s\tremaining: 22.4s\n",
      "131:\tlearn: 1602.8847485\ttotal: 3.41s\tremaining: 22.4s\n",
      "132:\tlearn: 1602.2510723\ttotal: 3.44s\tremaining: 22.4s\n",
      "133:\tlearn: 1601.1760668\ttotal: 3.47s\tremaining: 22.4s\n",
      "134:\tlearn: 1600.5361942\ttotal: 3.49s\tremaining: 22.4s\n",
      "135:\tlearn: 1599.8379248\ttotal: 3.52s\tremaining: 22.3s\n",
      "136:\tlearn: 1599.0218470\ttotal: 3.54s\tremaining: 22.3s\n",
      "137:\tlearn: 1598.3310069\ttotal: 3.57s\tremaining: 22.3s\n",
      "138:\tlearn: 1597.5585415\ttotal: 3.6s\tremaining: 22.3s\n",
      "139:\tlearn: 1596.6314335\ttotal: 3.62s\tremaining: 22.2s\n",
      "140:\tlearn: 1595.9157725\ttotal: 3.65s\tremaining: 22.2s\n",
      "141:\tlearn: 1595.1138509\ttotal: 3.67s\tremaining: 22.2s\n",
      "142:\tlearn: 1594.3371876\ttotal: 3.7s\tremaining: 22.2s\n",
      "143:\tlearn: 1593.5817491\ttotal: 3.73s\tremaining: 22.2s\n",
      "144:\tlearn: 1593.0268657\ttotal: 3.75s\tremaining: 22.1s\n",
      "145:\tlearn: 1591.8252961\ttotal: 3.78s\tremaining: 22.1s\n",
      "146:\tlearn: 1591.0179241\ttotal: 3.81s\tremaining: 22.1s\n",
      "147:\tlearn: 1590.5398352\ttotal: 3.83s\tremaining: 22.1s\n",
      "148:\tlearn: 1589.9332358\ttotal: 3.86s\tremaining: 22.1s\n",
      "149:\tlearn: 1588.9841684\ttotal: 3.88s\tremaining: 22s\n",
      "150:\tlearn: 1588.4440444\ttotal: 3.91s\tremaining: 22s\n",
      "151:\tlearn: 1587.1545245\ttotal: 3.94s\tremaining: 22s\n",
      "152:\tlearn: 1586.1214845\ttotal: 3.96s\tremaining: 21.9s\n"
     ]
    },
    {
     "name": "stdout",
     "output_type": "stream",
     "text": [
      "153:\tlearn: 1585.1965020\ttotal: 3.98s\tremaining: 21.9s\n",
      "154:\tlearn: 1584.5532049\ttotal: 4s\tremaining: 21.8s\n",
      "155:\tlearn: 1584.0138618\ttotal: 4.03s\tremaining: 21.8s\n",
      "156:\tlearn: 1583.2316933\ttotal: 4.05s\tremaining: 21.7s\n",
      "157:\tlearn: 1582.3114135\ttotal: 4.07s\tremaining: 21.7s\n",
      "158:\tlearn: 1581.7037555\ttotal: 4.09s\tremaining: 21.6s\n",
      "159:\tlearn: 1580.7848828\ttotal: 4.11s\tremaining: 21.6s\n",
      "160:\tlearn: 1580.0946642\ttotal: 4.14s\tremaining: 21.6s\n",
      "161:\tlearn: 1579.7776479\ttotal: 4.17s\tremaining: 21.6s\n",
      "162:\tlearn: 1578.5714816\ttotal: 4.2s\tremaining: 21.5s\n",
      "163:\tlearn: 1578.0018117\ttotal: 4.22s\tremaining: 21.5s\n",
      "164:\tlearn: 1577.7401264\ttotal: 4.25s\tremaining: 21.5s\n",
      "165:\tlearn: 1576.9637098\ttotal: 4.27s\tremaining: 21.5s\n",
      "166:\tlearn: 1576.2019183\ttotal: 4.3s\tremaining: 21.4s\n",
      "167:\tlearn: 1575.7486106\ttotal: 4.32s\tremaining: 21.4s\n",
      "168:\tlearn: 1575.0059614\ttotal: 4.34s\tremaining: 21.4s\n",
      "169:\tlearn: 1574.3166558\ttotal: 4.37s\tremaining: 21.4s\n",
      "170:\tlearn: 1573.2849851\ttotal: 4.4s\tremaining: 21.3s\n",
      "171:\tlearn: 1572.6918198\ttotal: 4.43s\tremaining: 21.3s\n",
      "172:\tlearn: 1572.0149986\ttotal: 4.45s\tremaining: 21.3s\n",
      "173:\tlearn: 1571.2970638\ttotal: 4.47s\tremaining: 21.2s\n",
      "174:\tlearn: 1570.7254356\ttotal: 4.5s\tremaining: 21.2s\n",
      "175:\tlearn: 1569.8368672\ttotal: 4.52s\tremaining: 21.2s\n",
      "176:\tlearn: 1569.3229886\ttotal: 4.55s\tremaining: 21.1s\n",
      "177:\tlearn: 1568.8095271\ttotal: 4.57s\tremaining: 21.1s\n",
      "178:\tlearn: 1568.1497895\ttotal: 4.6s\tremaining: 21.1s\n",
      "179:\tlearn: 1567.6199669\ttotal: 4.63s\tremaining: 21.1s\n",
      "180:\tlearn: 1566.9848183\ttotal: 4.66s\tremaining: 21.1s\n",
      "181:\tlearn: 1566.5429524\ttotal: 4.68s\tremaining: 21s\n",
      "182:\tlearn: 1566.1642580\ttotal: 4.71s\tremaining: 21s\n",
      "183:\tlearn: 1565.4612848\ttotal: 4.73s\tremaining: 21s\n",
      "184:\tlearn: 1564.6835433\ttotal: 4.76s\tremaining: 21s\n",
      "185:\tlearn: 1564.1528851\ttotal: 4.78s\tremaining: 20.9s\n",
      "186:\tlearn: 1563.5690280\ttotal: 4.81s\tremaining: 20.9s\n",
      "187:\tlearn: 1562.8611353\ttotal: 4.83s\tremaining: 20.9s\n",
      "188:\tlearn: 1562.0305602\ttotal: 4.86s\tremaining: 20.8s\n",
      "189:\tlearn: 1561.3710594\ttotal: 4.87s\tremaining: 20.8s\n",
      "190:\tlearn: 1560.7591089\ttotal: 4.9s\tremaining: 20.8s\n",
      "191:\tlearn: 1560.2359610\ttotal: 4.92s\tremaining: 20.7s\n",
      "192:\tlearn: 1559.6580659\ttotal: 4.95s\tremaining: 20.7s\n",
      "193:\tlearn: 1559.1632630\ttotal: 4.97s\tremaining: 20.6s\n",
      "194:\tlearn: 1558.6967043\ttotal: 5s\tremaining: 20.7s\n",
      "195:\tlearn: 1558.1337102\ttotal: 5.03s\tremaining: 20.6s\n",
      "196:\tlearn: 1557.7142990\ttotal: 5.06s\tremaining: 20.6s\n",
      "197:\tlearn: 1557.4812975\ttotal: 5.09s\tremaining: 20.6s\n",
      "198:\tlearn: 1557.3204757\ttotal: 5.12s\tremaining: 20.6s\n",
      "199:\tlearn: 1556.9395775\ttotal: 5.15s\tremaining: 20.6s\n",
      "200:\tlearn: 1556.3810382\ttotal: 5.17s\tremaining: 20.6s\n",
      "201:\tlearn: 1555.9490209\ttotal: 5.19s\tremaining: 20.5s\n",
      "202:\tlearn: 1555.4816674\ttotal: 5.21s\tremaining: 20.5s\n",
      "203:\tlearn: 1554.8631197\ttotal: 5.24s\tremaining: 20.4s\n",
      "204:\tlearn: 1554.1649260\ttotal: 5.26s\tremaining: 20.4s\n",
      "205:\tlearn: 1553.5253910\ttotal: 5.28s\tremaining: 20.4s\n",
      "206:\tlearn: 1552.7045482\ttotal: 5.31s\tremaining: 20.3s\n",
      "207:\tlearn: 1552.2676027\ttotal: 5.33s\tremaining: 20.3s\n",
      "208:\tlearn: 1551.6447096\ttotal: 5.35s\tremaining: 20.3s\n",
      "209:\tlearn: 1551.2481877\ttotal: 5.37s\tremaining: 20.2s\n",
      "210:\tlearn: 1550.8621083\ttotal: 5.4s\tremaining: 20.2s\n",
      "211:\tlearn: 1550.1826147\ttotal: 5.42s\tremaining: 20.2s\n",
      "212:\tlearn: 1549.7477663\ttotal: 5.46s\tremaining: 20.2s\n",
      "213:\tlearn: 1549.4713401\ttotal: 5.48s\tremaining: 20.1s\n",
      "214:\tlearn: 1549.1470400\ttotal: 5.5s\tremaining: 20.1s\n",
      "215:\tlearn: 1548.7022227\ttotal: 5.53s\tremaining: 20.1s\n",
      "216:\tlearn: 1547.9891214\ttotal: 5.55s\tremaining: 20s\n",
      "217:\tlearn: 1547.6572970\ttotal: 5.57s\tremaining: 20s\n",
      "218:\tlearn: 1547.1194042\ttotal: 5.59s\tremaining: 19.9s\n",
      "219:\tlearn: 1546.7757655\ttotal: 5.62s\tremaining: 19.9s\n",
      "220:\tlearn: 1546.4316509\ttotal: 5.65s\tremaining: 19.9s\n",
      "221:\tlearn: 1546.0556042\ttotal: 5.67s\tremaining: 19.9s\n",
      "222:\tlearn: 1545.8060820\ttotal: 5.7s\tremaining: 19.9s\n",
      "223:\tlearn: 1545.5960887\ttotal: 5.73s\tremaining: 19.8s\n",
      "224:\tlearn: 1544.9645103\ttotal: 5.75s\tremaining: 19.8s\n",
      "225:\tlearn: 1544.6848575\ttotal: 5.78s\tremaining: 19.8s\n",
      "226:\tlearn: 1544.2793186\ttotal: 5.8s\tremaining: 19.8s\n",
      "227:\tlearn: 1543.8830713\ttotal: 5.83s\tremaining: 19.7s\n",
      "228:\tlearn: 1543.6082023\ttotal: 5.86s\tremaining: 19.7s\n",
      "229:\tlearn: 1543.4563348\ttotal: 5.88s\tremaining: 19.7s\n",
      "230:\tlearn: 1543.1081409\ttotal: 5.9s\tremaining: 19.7s\n",
      "231:\tlearn: 1542.7461005\ttotal: 5.93s\tremaining: 19.6s\n",
      "232:\tlearn: 1542.3395448\ttotal: 5.96s\tremaining: 19.6s\n",
      "233:\tlearn: 1541.9436705\ttotal: 5.98s\tremaining: 19.6s\n",
      "234:\tlearn: 1541.4855891\ttotal: 6.01s\tremaining: 19.6s\n",
      "235:\tlearn: 1541.0841815\ttotal: 6.03s\tremaining: 19.5s\n",
      "236:\tlearn: 1540.6253296\ttotal: 6.06s\tremaining: 19.5s\n",
      "237:\tlearn: 1540.3497282\ttotal: 6.08s\tremaining: 19.5s\n",
      "238:\tlearn: 1539.7061283\ttotal: 6.11s\tremaining: 19.4s\n",
      "239:\tlearn: 1539.1909279\ttotal: 6.13s\tremaining: 19.4s\n",
      "240:\tlearn: 1538.7127265\ttotal: 6.15s\tremaining: 19.4s\n",
      "241:\tlearn: 1538.3208853\ttotal: 6.17s\tremaining: 19.3s\n",
      "242:\tlearn: 1537.8063423\ttotal: 6.2s\tremaining: 19.3s\n",
      "243:\tlearn: 1537.5243791\ttotal: 6.22s\tremaining: 19.3s\n",
      "244:\tlearn: 1537.2794643\ttotal: 6.25s\tremaining: 19.3s\n",
      "245:\tlearn: 1536.8893484\ttotal: 6.27s\tremaining: 19.2s\n",
      "246:\tlearn: 1536.4492157\ttotal: 6.29s\tremaining: 19.2s\n",
      "247:\tlearn: 1536.2008486\ttotal: 6.32s\tremaining: 19.2s\n",
      "248:\tlearn: 1535.8438785\ttotal: 6.34s\tremaining: 19.1s\n",
      "249:\tlearn: 1535.5962761\ttotal: 6.36s\tremaining: 19.1s\n",
      "250:\tlearn: 1535.3884167\ttotal: 6.39s\tremaining: 19.1s\n",
      "251:\tlearn: 1535.2628858\ttotal: 6.41s\tremaining: 19s\n",
      "252:\tlearn: 1535.0280945\ttotal: 6.43s\tremaining: 19s\n",
      "253:\tlearn: 1534.7935302\ttotal: 6.46s\tremaining: 19s\n",
      "254:\tlearn: 1534.1364922\ttotal: 6.48s\tremaining: 18.9s\n",
      "255:\tlearn: 1533.8077880\ttotal: 6.5s\tremaining: 18.9s\n",
      "256:\tlearn: 1533.6568666\ttotal: 6.52s\tremaining: 18.9s\n",
      "257:\tlearn: 1533.3464077\ttotal: 6.55s\tremaining: 18.8s\n",
      "258:\tlearn: 1533.2047512\ttotal: 6.58s\tremaining: 18.8s\n",
      "259:\tlearn: 1532.9104896\ttotal: 6.6s\tremaining: 18.8s\n",
      "260:\tlearn: 1532.6779382\ttotal: 6.63s\tremaining: 18.8s\n",
      "261:\tlearn: 1532.2542239\ttotal: 6.65s\tremaining: 18.7s\n",
      "262:\tlearn: 1532.0280521\ttotal: 6.67s\tremaining: 18.7s\n",
      "263:\tlearn: 1531.6492569\ttotal: 6.69s\tremaining: 18.7s\n",
      "264:\tlearn: 1531.1020285\ttotal: 6.71s\tremaining: 18.6s\n",
      "265:\tlearn: 1530.8784984\ttotal: 6.74s\tremaining: 18.6s\n",
      "266:\tlearn: 1530.4349914\ttotal: 6.76s\tremaining: 18.6s\n",
      "267:\tlearn: 1530.1144983\ttotal: 6.79s\tremaining: 18.5s\n",
      "268:\tlearn: 1529.7437592\ttotal: 6.81s\tremaining: 18.5s\n",
      "269:\tlearn: 1529.3870937\ttotal: 6.84s\tremaining: 18.5s\n",
      "270:\tlearn: 1529.0768310\ttotal: 6.86s\tremaining: 18.5s\n",
      "271:\tlearn: 1528.9273715\ttotal: 6.89s\tremaining: 18.4s\n",
      "272:\tlearn: 1528.5651340\ttotal: 6.92s\tremaining: 18.4s\n",
      "273:\tlearn: 1528.4331538\ttotal: 6.94s\tremaining: 18.4s\n",
      "274:\tlearn: 1527.8892409\ttotal: 6.96s\tremaining: 18.3s\n",
      "275:\tlearn: 1527.4200855\ttotal: 6.99s\tremaining: 18.3s\n",
      "276:\tlearn: 1527.1201080\ttotal: 7.01s\tremaining: 18.3s\n",
      "277:\tlearn: 1526.9962274\ttotal: 7.03s\tremaining: 18.3s\n",
      "278:\tlearn: 1526.9041853\ttotal: 7.05s\tremaining: 18.2s\n",
      "279:\tlearn: 1526.6104017\ttotal: 7.08s\tremaining: 18.2s\n",
      "280:\tlearn: 1526.4376110\ttotal: 7.11s\tremaining: 18.2s\n",
      "281:\tlearn: 1526.2313048\ttotal: 7.12s\tremaining: 18.1s\n",
      "282:\tlearn: 1526.0990766\ttotal: 7.15s\tremaining: 18.1s\n",
      "283:\tlearn: 1525.7642246\ttotal: 7.17s\tremaining: 18.1s\n",
      "284:\tlearn: 1525.3641441\ttotal: 7.19s\tremaining: 18s\n",
      "285:\tlearn: 1525.1925175\ttotal: 7.22s\tremaining: 18s\n",
      "286:\tlearn: 1524.8823213\ttotal: 7.25s\tremaining: 18s\n",
      "287:\tlearn: 1524.6513179\ttotal: 7.27s\tremaining: 18s\n",
      "288:\tlearn: 1524.3123621\ttotal: 7.29s\tremaining: 17.9s\n",
      "289:\tlearn: 1524.1109939\ttotal: 7.31s\tremaining: 17.9s\n",
      "290:\tlearn: 1524.0882412\ttotal: 7.34s\tremaining: 17.9s\n",
      "291:\tlearn: 1523.7302499\ttotal: 7.36s\tremaining: 17.9s\n",
      "292:\tlearn: 1523.5851580\ttotal: 7.39s\tremaining: 17.8s\n",
      "293:\tlearn: 1523.4523889\ttotal: 7.41s\tremaining: 17.8s\n",
      "294:\tlearn: 1523.3905782\ttotal: 7.44s\tremaining: 17.8s\n",
      "295:\tlearn: 1522.9601378\ttotal: 7.46s\tremaining: 17.8s\n",
      "296:\tlearn: 1522.6470759\ttotal: 7.49s\tremaining: 17.7s\n",
      "297:\tlearn: 1522.0036884\ttotal: 7.51s\tremaining: 17.7s\n",
      "298:\tlearn: 1521.7764885\ttotal: 7.54s\tremaining: 17.7s\n",
      "299:\tlearn: 1521.5292854\ttotal: 7.57s\tremaining: 17.7s\n",
      "300:\tlearn: 1521.1231319\ttotal: 7.59s\tremaining: 17.6s\n",
      "301:\tlearn: 1520.9737013\ttotal: 7.62s\tremaining: 17.6s\n",
      "302:\tlearn: 1520.8470021\ttotal: 7.64s\tremaining: 17.6s\n",
      "303:\tlearn: 1520.7662601\ttotal: 7.66s\tremaining: 17.5s\n",
      "304:\tlearn: 1520.5065917\ttotal: 7.69s\tremaining: 17.5s\n",
      "305:\tlearn: 1520.3549282\ttotal: 7.71s\tremaining: 17.5s\n",
      "306:\tlearn: 1519.7063590\ttotal: 7.74s\tremaining: 17.5s\n"
     ]
    },
    {
     "name": "stdout",
     "output_type": "stream",
     "text": [
      "307:\tlearn: 1519.5019212\ttotal: 7.77s\tremaining: 17.5s\n",
      "308:\tlearn: 1519.2157004\ttotal: 7.79s\tremaining: 17.4s\n",
      "309:\tlearn: 1518.8169200\ttotal: 7.82s\tremaining: 17.4s\n",
      "310:\tlearn: 1518.3368434\ttotal: 7.84s\tremaining: 17.4s\n",
      "311:\tlearn: 1518.0053840\ttotal: 7.86s\tremaining: 17.3s\n",
      "312:\tlearn: 1517.7718382\ttotal: 7.89s\tremaining: 17.3s\n",
      "313:\tlearn: 1517.3458622\ttotal: 7.91s\tremaining: 17.3s\n",
      "314:\tlearn: 1517.0405382\ttotal: 7.95s\tremaining: 17.3s\n",
      "315:\tlearn: 1516.4534787\ttotal: 7.97s\tremaining: 17.3s\n",
      "316:\tlearn: 1516.2557333\ttotal: 7.99s\tremaining: 17.2s\n",
      "317:\tlearn: 1516.1409896\ttotal: 8.02s\tremaining: 17.2s\n",
      "318:\tlearn: 1515.8398369\ttotal: 8.04s\tremaining: 17.2s\n",
      "319:\tlearn: 1515.6287711\ttotal: 8.06s\tremaining: 17.1s\n",
      "320:\tlearn: 1515.2033099\ttotal: 8.08s\tremaining: 17.1s\n",
      "321:\tlearn: 1515.0994482\ttotal: 8.11s\tremaining: 17.1s\n",
      "322:\tlearn: 1514.7583230\ttotal: 8.14s\tremaining: 17.1s\n",
      "323:\tlearn: 1514.3301719\ttotal: 8.16s\tremaining: 17s\n",
      "324:\tlearn: 1513.9803024\ttotal: 8.18s\tremaining: 17s\n",
      "325:\tlearn: 1513.6422594\ttotal: 8.2s\tremaining: 16.9s\n",
      "326:\tlearn: 1513.5409511\ttotal: 8.22s\tremaining: 16.9s\n",
      "327:\tlearn: 1513.4335732\ttotal: 8.25s\tremaining: 16.9s\n",
      "328:\tlearn: 1513.1314572\ttotal: 8.28s\tremaining: 16.9s\n",
      "329:\tlearn: 1512.7772728\ttotal: 8.3s\tremaining: 16.9s\n",
      "330:\tlearn: 1512.6110466\ttotal: 8.33s\tremaining: 16.8s\n",
      "331:\tlearn: 1512.3527548\ttotal: 8.35s\tremaining: 16.8s\n",
      "332:\tlearn: 1512.0599437\ttotal: 8.38s\tremaining: 16.8s\n",
      "333:\tlearn: 1511.7549783\ttotal: 8.4s\tremaining: 16.8s\n",
      "334:\tlearn: 1511.5615170\ttotal: 8.43s\tremaining: 16.7s\n",
      "335:\tlearn: 1511.1175378\ttotal: 8.45s\tremaining: 16.7s\n",
      "336:\tlearn: 1511.0588954\ttotal: 8.48s\tremaining: 16.7s\n",
      "337:\tlearn: 1510.9796422\ttotal: 8.51s\tremaining: 16.7s\n",
      "338:\tlearn: 1510.6671431\ttotal: 8.54s\tremaining: 16.6s\n",
      "339:\tlearn: 1510.3857641\ttotal: 8.57s\tremaining: 16.6s\n",
      "340:\tlearn: 1510.2472220\ttotal: 8.6s\tremaining: 16.6s\n",
      "341:\tlearn: 1509.9668307\ttotal: 8.62s\tremaining: 16.6s\n",
      "342:\tlearn: 1509.8841832\ttotal: 8.64s\tremaining: 16.6s\n",
      "343:\tlearn: 1509.4971191\ttotal: 8.67s\tremaining: 16.5s\n",
      "344:\tlearn: 1509.2329332\ttotal: 8.69s\tremaining: 16.5s\n",
      "345:\tlearn: 1508.8838744\ttotal: 8.71s\tremaining: 16.5s\n",
      "346:\tlearn: 1508.5776478\ttotal: 8.73s\tremaining: 16.4s\n",
      "347:\tlearn: 1508.4750592\ttotal: 8.76s\tremaining: 16.4s\n",
      "348:\tlearn: 1507.8006321\ttotal: 8.78s\tremaining: 16.4s\n",
      "349:\tlearn: 1507.5559488\ttotal: 8.8s\tremaining: 16.3s\n",
      "350:\tlearn: 1507.3971386\ttotal: 8.82s\tremaining: 16.3s\n",
      "351:\tlearn: 1507.2761435\ttotal: 8.84s\tremaining: 16.3s\n",
      "352:\tlearn: 1507.0776924\ttotal: 8.86s\tremaining: 16.2s\n",
      "353:\tlearn: 1506.8673921\ttotal: 8.88s\tremaining: 16.2s\n",
      "354:\tlearn: 1506.6689337\ttotal: 8.91s\tremaining: 16.2s\n",
      "355:\tlearn: 1506.5438844\ttotal: 8.94s\tremaining: 16.2s\n",
      "356:\tlearn: 1506.2839379\ttotal: 8.97s\tremaining: 16.1s\n",
      "357:\tlearn: 1505.9168586\ttotal: 9s\tremaining: 16.1s\n",
      "358:\tlearn: 1505.5148157\ttotal: 9.02s\tremaining: 16.1s\n",
      "359:\tlearn: 1505.1294211\ttotal: 9.05s\tremaining: 16.1s\n",
      "360:\tlearn: 1504.9671682\ttotal: 9.08s\tremaining: 16.1s\n",
      "361:\tlearn: 1504.8614584\ttotal: 9.1s\tremaining: 16s\n",
      "362:\tlearn: 1504.5434167\ttotal: 9.12s\tremaining: 16s\n",
      "363:\tlearn: 1504.3405518\ttotal: 9.14s\tremaining: 16s\n",
      "364:\tlearn: 1504.1870266\ttotal: 9.16s\tremaining: 15.9s\n",
      "365:\tlearn: 1504.0077799\ttotal: 9.18s\tremaining: 15.9s\n",
      "366:\tlearn: 1503.5833307\ttotal: 9.21s\tremaining: 15.9s\n",
      "367:\tlearn: 1503.5047367\ttotal: 9.24s\tremaining: 15.9s\n",
      "368:\tlearn: 1503.3301451\ttotal: 9.26s\tremaining: 15.8s\n",
      "369:\tlearn: 1502.7961980\ttotal: 9.28s\tremaining: 15.8s\n",
      "370:\tlearn: 1502.7694714\ttotal: 9.3s\tremaining: 15.8s\n",
      "371:\tlearn: 1502.6950711\ttotal: 9.32s\tremaining: 15.7s\n",
      "372:\tlearn: 1502.3519824\ttotal: 9.34s\tremaining: 15.7s\n",
      "373:\tlearn: 1502.2216006\ttotal: 9.37s\tremaining: 15.7s\n",
      "374:\tlearn: 1501.9603634\ttotal: 9.39s\tremaining: 15.7s\n",
      "375:\tlearn: 1501.7288816\ttotal: 9.42s\tremaining: 15.6s\n",
      "376:\tlearn: 1501.5856297\ttotal: 9.45s\tremaining: 15.6s\n",
      "377:\tlearn: 1501.5738477\ttotal: 9.46s\tremaining: 15.6s\n",
      "378:\tlearn: 1501.5613660\ttotal: 9.48s\tremaining: 15.5s\n",
      "379:\tlearn: 1501.0564193\ttotal: 9.5s\tremaining: 15.5s\n",
      "380:\tlearn: 1500.9468622\ttotal: 9.52s\tremaining: 15.5s\n",
      "381:\tlearn: 1500.7673302\ttotal: 9.54s\tremaining: 15.4s\n",
      "382:\tlearn: 1500.6394828\ttotal: 9.56s\tremaining: 15.4s\n",
      "383:\tlearn: 1500.3731631\ttotal: 9.59s\tremaining: 15.4s\n",
      "384:\tlearn: 1500.1148100\ttotal: 9.61s\tremaining: 15.3s\n",
      "385:\tlearn: 1499.8238829\ttotal: 9.63s\tremaining: 15.3s\n",
      "386:\tlearn: 1499.6419140\ttotal: 9.66s\tremaining: 15.3s\n",
      "387:\tlearn: 1499.5295345\ttotal: 9.68s\tremaining: 15.3s\n",
      "388:\tlearn: 1499.2290961\ttotal: 9.71s\tremaining: 15.2s\n",
      "389:\tlearn: 1498.9888839\ttotal: 9.73s\tremaining: 15.2s\n",
      "390:\tlearn: 1498.6822368\ttotal: 9.75s\tremaining: 15.2s\n",
      "391:\tlearn: 1498.5586755\ttotal: 9.78s\tremaining: 15.2s\n",
      "392:\tlearn: 1498.5387001\ttotal: 9.79s\tremaining: 15.1s\n",
      "393:\tlearn: 1498.4350817\ttotal: 9.82s\tremaining: 15.1s\n",
      "394:\tlearn: 1498.2493110\ttotal: 9.85s\tremaining: 15.1s\n",
      "395:\tlearn: 1498.1089299\ttotal: 9.87s\tremaining: 15.1s\n",
      "396:\tlearn: 1497.8235453\ttotal: 9.9s\tremaining: 15s\n",
      "397:\tlearn: 1497.7346729\ttotal: 9.93s\tremaining: 15s\n",
      "398:\tlearn: 1497.6842301\ttotal: 9.96s\tremaining: 15s\n",
      "399:\tlearn: 1497.4080278\ttotal: 9.98s\tremaining: 15s\n",
      "400:\tlearn: 1497.0195216\ttotal: 10s\tremaining: 14.9s\n",
      "401:\tlearn: 1496.8132767\ttotal: 10s\tremaining: 14.9s\n",
      "402:\tlearn: 1496.6426627\ttotal: 10.1s\tremaining: 14.9s\n",
      "403:\tlearn: 1496.5027569\ttotal: 10.1s\tremaining: 14.9s\n",
      "404:\tlearn: 1496.3863205\ttotal: 10.1s\tremaining: 14.8s\n",
      "405:\tlearn: 1496.0600750\ttotal: 10.1s\tremaining: 14.8s\n",
      "406:\tlearn: 1495.8327598\ttotal: 10.1s\tremaining: 14.8s\n",
      "407:\tlearn: 1495.6560716\ttotal: 10.2s\tremaining: 14.8s\n",
      "408:\tlearn: 1495.3345084\ttotal: 10.2s\tremaining: 14.7s\n",
      "409:\tlearn: 1495.1282736\ttotal: 10.2s\tremaining: 14.7s\n",
      "410:\tlearn: 1494.8920585\ttotal: 10.2s\tremaining: 14.7s\n",
      "411:\tlearn: 1494.7341024\ttotal: 10.3s\tremaining: 14.7s\n",
      "412:\tlearn: 1494.6039487\ttotal: 10.3s\tremaining: 14.6s\n",
      "413:\tlearn: 1494.4253066\ttotal: 10.3s\tremaining: 14.6s\n",
      "414:\tlearn: 1494.3230187\ttotal: 10.4s\tremaining: 14.6s\n",
      "415:\tlearn: 1494.1001947\ttotal: 10.4s\tremaining: 14.6s\n",
      "416:\tlearn: 1493.9746356\ttotal: 10.4s\tremaining: 14.5s\n",
      "417:\tlearn: 1493.6800183\ttotal: 10.4s\tremaining: 14.5s\n",
      "418:\tlearn: 1493.5477083\ttotal: 10.5s\tremaining: 14.5s\n",
      "419:\tlearn: 1493.3984269\ttotal: 10.5s\tremaining: 14.5s\n",
      "420:\tlearn: 1493.3107108\ttotal: 10.5s\tremaining: 14.4s\n",
      "421:\tlearn: 1493.0088307\ttotal: 10.5s\tremaining: 14.4s\n",
      "422:\tlearn: 1492.6800452\ttotal: 10.6s\tremaining: 14.4s\n",
      "423:\tlearn: 1492.5295098\ttotal: 10.6s\tremaining: 14.4s\n",
      "424:\tlearn: 1492.2696807\ttotal: 10.6s\tremaining: 14.4s\n",
      "425:\tlearn: 1491.9630371\ttotal: 10.6s\tremaining: 14.3s\n",
      "426:\tlearn: 1491.8590404\ttotal: 10.7s\tremaining: 14.3s\n",
      "427:\tlearn: 1491.6565716\ttotal: 10.7s\tremaining: 14.3s\n",
      "428:\tlearn: 1491.4116368\ttotal: 10.7s\tremaining: 14.3s\n",
      "429:\tlearn: 1491.2092595\ttotal: 10.7s\tremaining: 14.2s\n",
      "430:\tlearn: 1491.1012850\ttotal: 10.8s\tremaining: 14.2s\n",
      "431:\tlearn: 1490.9881232\ttotal: 10.8s\tremaining: 14.2s\n",
      "432:\tlearn: 1490.7286679\ttotal: 10.8s\tremaining: 14.2s\n",
      "433:\tlearn: 1490.6311915\ttotal: 10.9s\tremaining: 14.2s\n",
      "434:\tlearn: 1490.3775123\ttotal: 10.9s\tremaining: 14.1s\n",
      "435:\tlearn: 1490.3279824\ttotal: 10.9s\tremaining: 14.1s\n",
      "436:\tlearn: 1490.2651545\ttotal: 10.9s\tremaining: 14.1s\n",
      "437:\tlearn: 1489.8290553\ttotal: 11s\tremaining: 14.1s\n",
      "438:\tlearn: 1489.6417218\ttotal: 11s\tremaining: 14s\n",
      "439:\tlearn: 1489.4040625\ttotal: 11s\tremaining: 14s\n",
      "440:\tlearn: 1489.0675283\ttotal: 11s\tremaining: 14s\n",
      "441:\tlearn: 1489.0213294\ttotal: 11.1s\tremaining: 13.9s\n",
      "442:\tlearn: 1488.8716888\ttotal: 11.1s\tremaining: 13.9s\n",
      "443:\tlearn: 1488.8137407\ttotal: 11.1s\tremaining: 13.9s\n",
      "444:\tlearn: 1488.6833637\ttotal: 11.1s\tremaining: 13.9s\n",
      "445:\tlearn: 1488.4814937\ttotal: 11.2s\tremaining: 13.9s\n",
      "446:\tlearn: 1488.1904116\ttotal: 11.2s\tremaining: 13.8s\n",
      "447:\tlearn: 1488.1391955\ttotal: 11.2s\tremaining: 13.8s\n",
      "448:\tlearn: 1487.9449052\ttotal: 11.2s\tremaining: 13.8s\n",
      "449:\tlearn: 1487.5625743\ttotal: 11.3s\tremaining: 13.8s\n",
      "450:\tlearn: 1487.3163729\ttotal: 11.3s\tremaining: 13.7s\n",
      "451:\tlearn: 1487.1084688\ttotal: 11.3s\tremaining: 13.7s\n",
      "452:\tlearn: 1486.9674383\ttotal: 11.3s\tremaining: 13.7s\n",
      "453:\tlearn: 1486.7327805\ttotal: 11.4s\tremaining: 13.7s\n",
      "454:\tlearn: 1486.6856946\ttotal: 11.4s\tremaining: 13.6s\n",
      "455:\tlearn: 1486.4840206\ttotal: 11.4s\tremaining: 13.6s\n",
      "456:\tlearn: 1486.3247637\ttotal: 11.4s\tremaining: 13.6s\n",
      "457:\tlearn: 1486.0843379\ttotal: 11.5s\tremaining: 13.6s\n",
      "458:\tlearn: 1485.7452157\ttotal: 11.5s\tremaining: 13.5s\n",
      "459:\tlearn: 1485.6691036\ttotal: 11.5s\tremaining: 13.5s\n",
      "460:\tlearn: 1485.5951113\ttotal: 11.5s\tremaining: 13.5s\n"
     ]
    },
    {
     "name": "stdout",
     "output_type": "stream",
     "text": [
      "461:\tlearn: 1485.3819973\ttotal: 11.6s\tremaining: 13.5s\n",
      "462:\tlearn: 1485.1984468\ttotal: 11.6s\tremaining: 13.4s\n",
      "463:\tlearn: 1485.0907915\ttotal: 11.6s\tremaining: 13.4s\n",
      "464:\tlearn: 1484.9001474\ttotal: 11.6s\tremaining: 13.4s\n",
      "465:\tlearn: 1484.8230962\ttotal: 11.7s\tremaining: 13.4s\n",
      "466:\tlearn: 1484.6021937\ttotal: 11.7s\tremaining: 13.3s\n",
      "467:\tlearn: 1484.2685704\ttotal: 11.7s\tremaining: 13.3s\n",
      "468:\tlearn: 1484.1325536\ttotal: 11.7s\tremaining: 13.3s\n",
      "469:\tlearn: 1483.8181170\ttotal: 11.8s\tremaining: 13.3s\n",
      "470:\tlearn: 1483.6197245\ttotal: 11.8s\tremaining: 13.3s\n",
      "471:\tlearn: 1483.4694171\ttotal: 11.8s\tremaining: 13.2s\n",
      "472:\tlearn: 1483.2556295\ttotal: 11.8s\tremaining: 13.2s\n",
      "473:\tlearn: 1483.0379188\ttotal: 11.9s\tremaining: 13.2s\n",
      "474:\tlearn: 1482.8835650\ttotal: 11.9s\tremaining: 13.2s\n",
      "475:\tlearn: 1482.6871091\ttotal: 11.9s\tremaining: 13.1s\n",
      "476:\tlearn: 1482.5731977\ttotal: 12s\tremaining: 13.1s\n",
      "477:\tlearn: 1482.2510035\ttotal: 12s\tremaining: 13.1s\n",
      "478:\tlearn: 1482.0435507\ttotal: 12s\tremaining: 13.1s\n",
      "479:\tlearn: 1481.9072860\ttotal: 12s\tremaining: 13s\n",
      "480:\tlearn: 1481.6918860\ttotal: 12.1s\tremaining: 13s\n",
      "481:\tlearn: 1481.5766894\ttotal: 12.1s\tremaining: 13s\n",
      "482:\tlearn: 1481.4712309\ttotal: 12.1s\tremaining: 13s\n",
      "483:\tlearn: 1481.1440586\ttotal: 12.1s\tremaining: 12.9s\n",
      "484:\tlearn: 1480.8960390\ttotal: 12.2s\tremaining: 12.9s\n",
      "485:\tlearn: 1480.7028271\ttotal: 12.2s\tremaining: 12.9s\n",
      "486:\tlearn: 1480.5957331\ttotal: 12.2s\tremaining: 12.9s\n",
      "487:\tlearn: 1480.3703960\ttotal: 12.2s\tremaining: 12.8s\n",
      "488:\tlearn: 1480.2349138\ttotal: 12.3s\tremaining: 12.8s\n",
      "489:\tlearn: 1479.9822451\ttotal: 12.3s\tremaining: 12.8s\n",
      "490:\tlearn: 1479.8929400\ttotal: 12.3s\tremaining: 12.8s\n",
      "491:\tlearn: 1479.7846967\ttotal: 12.3s\tremaining: 12.7s\n",
      "492:\tlearn: 1479.7315966\ttotal: 12.4s\tremaining: 12.7s\n",
      "493:\tlearn: 1479.6363659\ttotal: 12.4s\tremaining: 12.7s\n",
      "494:\tlearn: 1479.4364220\ttotal: 12.4s\tremaining: 12.7s\n",
      "495:\tlearn: 1479.3271603\ttotal: 12.4s\tremaining: 12.6s\n",
      "496:\tlearn: 1479.3157607\ttotal: 12.5s\tremaining: 12.6s\n",
      "497:\tlearn: 1479.2608985\ttotal: 12.5s\tremaining: 12.6s\n",
      "498:\tlearn: 1479.1704962\ttotal: 12.5s\tremaining: 12.6s\n",
      "499:\tlearn: 1479.0539930\ttotal: 12.6s\tremaining: 12.6s\n",
      "500:\tlearn: 1478.7858865\ttotal: 12.6s\tremaining: 12.5s\n",
      "501:\tlearn: 1478.4501545\ttotal: 12.6s\tremaining: 12.5s\n",
      "502:\tlearn: 1478.2069523\ttotal: 12.6s\tremaining: 12.5s\n",
      "503:\tlearn: 1478.1326361\ttotal: 12.6s\tremaining: 12.4s\n",
      "504:\tlearn: 1477.9371040\ttotal: 12.7s\tremaining: 12.4s\n",
      "505:\tlearn: 1477.8829443\ttotal: 12.7s\tremaining: 12.4s\n",
      "506:\tlearn: 1477.7772059\ttotal: 12.7s\tremaining: 12.4s\n",
      "507:\tlearn: 1477.6319068\ttotal: 12.7s\tremaining: 12.3s\n",
      "508:\tlearn: 1477.3916173\ttotal: 12.8s\tremaining: 12.3s\n",
      "509:\tlearn: 1477.1873839\ttotal: 12.8s\tremaining: 12.3s\n",
      "510:\tlearn: 1477.1312949\ttotal: 12.8s\tremaining: 12.3s\n",
      "511:\tlearn: 1477.0227084\ttotal: 12.8s\tremaining: 12.2s\n",
      "512:\tlearn: 1476.8804981\ttotal: 12.9s\tremaining: 12.2s\n",
      "513:\tlearn: 1476.6703432\ttotal: 12.9s\tremaining: 12.2s\n",
      "514:\tlearn: 1476.5986366\ttotal: 12.9s\tremaining: 12.2s\n",
      "515:\tlearn: 1476.4007094\ttotal: 12.9s\tremaining: 12.1s\n",
      "516:\tlearn: 1476.0067625\ttotal: 13s\tremaining: 12.1s\n",
      "517:\tlearn: 1475.9285342\ttotal: 13s\tremaining: 12.1s\n",
      "518:\tlearn: 1475.8201830\ttotal: 13s\tremaining: 12.1s\n",
      "519:\tlearn: 1475.6811644\ttotal: 13.1s\tremaining: 12.1s\n",
      "520:\tlearn: 1475.5788572\ttotal: 13.1s\tremaining: 12s\n",
      "521:\tlearn: 1475.4451790\ttotal: 13.1s\tremaining: 12s\n",
      "522:\tlearn: 1475.2489897\ttotal: 13.1s\tremaining: 12s\n",
      "523:\tlearn: 1475.0134138\ttotal: 13.2s\tremaining: 11.9s\n",
      "524:\tlearn: 1474.8037826\ttotal: 13.2s\tremaining: 11.9s\n",
      "525:\tlearn: 1474.6341260\ttotal: 13.2s\tremaining: 11.9s\n",
      "526:\tlearn: 1474.3465512\ttotal: 13.2s\tremaining: 11.9s\n",
      "527:\tlearn: 1474.2448685\ttotal: 13.2s\tremaining: 11.8s\n",
      "528:\tlearn: 1474.1058934\ttotal: 13.3s\tremaining: 11.8s\n",
      "529:\tlearn: 1473.9993268\ttotal: 13.3s\tremaining: 11.8s\n",
      "530:\tlearn: 1473.7939368\ttotal: 13.3s\tremaining: 11.8s\n",
      "531:\tlearn: 1473.5921648\ttotal: 13.3s\tremaining: 11.7s\n",
      "532:\tlearn: 1473.4360530\ttotal: 13.4s\tremaining: 11.7s\n",
      "533:\tlearn: 1473.3436757\ttotal: 13.4s\tremaining: 11.7s\n",
      "534:\tlearn: 1473.2911415\ttotal: 13.4s\tremaining: 11.7s\n",
      "535:\tlearn: 1473.1519287\ttotal: 13.4s\tremaining: 11.6s\n",
      "536:\tlearn: 1473.0365992\ttotal: 13.5s\tremaining: 11.6s\n",
      "537:\tlearn: 1472.8211175\ttotal: 13.5s\tremaining: 11.6s\n",
      "538:\tlearn: 1472.6336254\ttotal: 13.5s\tremaining: 11.6s\n",
      "539:\tlearn: 1472.3758701\ttotal: 13.5s\tremaining: 11.5s\n",
      "540:\tlearn: 1472.1153512\ttotal: 13.6s\tremaining: 11.5s\n",
      "541:\tlearn: 1471.9487823\ttotal: 13.6s\tremaining: 11.5s\n",
      "542:\tlearn: 1471.7623643\ttotal: 13.6s\tremaining: 11.5s\n",
      "543:\tlearn: 1471.7595992\ttotal: 13.6s\tremaining: 11.4s\n",
      "544:\tlearn: 1471.6787092\ttotal: 13.7s\tremaining: 11.4s\n",
      "545:\tlearn: 1471.5390735\ttotal: 13.7s\tremaining: 11.4s\n",
      "546:\tlearn: 1471.5275787\ttotal: 13.7s\tremaining: 11.4s\n",
      "547:\tlearn: 1471.3752828\ttotal: 13.7s\tremaining: 11.3s\n",
      "548:\tlearn: 1471.1645004\ttotal: 13.8s\tremaining: 11.3s\n",
      "549:\tlearn: 1471.0525406\ttotal: 13.8s\tremaining: 11.3s\n",
      "550:\tlearn: 1470.9232336\ttotal: 13.8s\tremaining: 11.2s\n",
      "551:\tlearn: 1470.8283834\ttotal: 13.8s\tremaining: 11.2s\n",
      "552:\tlearn: 1470.6623789\ttotal: 13.8s\tremaining: 11.2s\n",
      "553:\tlearn: 1470.5016170\ttotal: 13.9s\tremaining: 11.2s\n",
      "554:\tlearn: 1470.4167920\ttotal: 13.9s\tremaining: 11.1s\n",
      "555:\tlearn: 1470.3742090\ttotal: 13.9s\tremaining: 11.1s\n",
      "556:\tlearn: 1470.1866059\ttotal: 13.9s\tremaining: 11.1s\n",
      "557:\tlearn: 1470.0478440\ttotal: 14s\tremaining: 11.1s\n",
      "558:\tlearn: 1469.9066643\ttotal: 14s\tremaining: 11s\n",
      "559:\tlearn: 1469.6942380\ttotal: 14s\tremaining: 11s\n",
      "560:\tlearn: 1469.6546694\ttotal: 14s\tremaining: 11s\n",
      "561:\tlearn: 1469.4032530\ttotal: 14.1s\tremaining: 11s\n",
      "562:\tlearn: 1469.3062994\ttotal: 14.1s\tremaining: 10.9s\n",
      "563:\tlearn: 1469.1552454\ttotal: 14.1s\tremaining: 10.9s\n",
      "564:\tlearn: 1469.0006804\ttotal: 14.1s\tremaining: 10.9s\n",
      "565:\tlearn: 1468.8493420\ttotal: 14.2s\tremaining: 10.9s\n",
      "566:\tlearn: 1468.7425822\ttotal: 14.2s\tremaining: 10.8s\n",
      "567:\tlearn: 1468.6670968\ttotal: 14.2s\tremaining: 10.8s\n",
      "568:\tlearn: 1468.5415648\ttotal: 14.3s\tremaining: 10.8s\n",
      "569:\tlearn: 1468.4337486\ttotal: 14.3s\tremaining: 10.8s\n",
      "570:\tlearn: 1468.3622435\ttotal: 14.3s\tremaining: 10.7s\n",
      "571:\tlearn: 1468.2562432\ttotal: 14.3s\tremaining: 10.7s\n",
      "572:\tlearn: 1467.9994162\ttotal: 14.3s\tremaining: 10.7s\n",
      "573:\tlearn: 1467.8239204\ttotal: 14.4s\tremaining: 10.7s\n",
      "574:\tlearn: 1467.6153664\ttotal: 14.4s\tremaining: 10.6s\n",
      "575:\tlearn: 1467.5344996\ttotal: 14.4s\tremaining: 10.6s\n",
      "576:\tlearn: 1467.4594782\ttotal: 14.5s\tremaining: 10.6s\n",
      "577:\tlearn: 1467.3631065\ttotal: 14.5s\tremaining: 10.6s\n",
      "578:\tlearn: 1467.1885375\ttotal: 14.5s\tremaining: 10.6s\n",
      "579:\tlearn: 1466.9875184\ttotal: 14.5s\tremaining: 10.5s\n",
      "580:\tlearn: 1466.9336355\ttotal: 14.6s\tremaining: 10.5s\n",
      "581:\tlearn: 1466.7166828\ttotal: 14.6s\tremaining: 10.5s\n",
      "582:\tlearn: 1466.5914885\ttotal: 14.6s\tremaining: 10.5s\n",
      "583:\tlearn: 1466.5300234\ttotal: 14.6s\tremaining: 10.4s\n",
      "584:\tlearn: 1466.3881927\ttotal: 14.7s\tremaining: 10.4s\n",
      "585:\tlearn: 1466.2597995\ttotal: 14.7s\tremaining: 10.4s\n",
      "586:\tlearn: 1466.0999748\ttotal: 14.7s\tremaining: 10.4s\n",
      "587:\tlearn: 1465.9737217\ttotal: 14.8s\tremaining: 10.3s\n",
      "588:\tlearn: 1465.8432241\ttotal: 14.8s\tremaining: 10.3s\n",
      "589:\tlearn: 1465.6441927\ttotal: 14.8s\tremaining: 10.3s\n",
      "590:\tlearn: 1465.6135765\ttotal: 14.8s\tremaining: 10.3s\n",
      "591:\tlearn: 1465.4829115\ttotal: 14.9s\tremaining: 10.2s\n",
      "592:\tlearn: 1465.3317199\ttotal: 14.9s\tremaining: 10.2s\n",
      "593:\tlearn: 1465.2667533\ttotal: 14.9s\tremaining: 10.2s\n",
      "594:\tlearn: 1464.8822404\ttotal: 14.9s\tremaining: 10.2s\n",
      "595:\tlearn: 1464.7585328\ttotal: 15s\tremaining: 10.1s\n",
      "596:\tlearn: 1464.6155562\ttotal: 15s\tremaining: 10.1s\n",
      "597:\tlearn: 1464.5067405\ttotal: 15s\tremaining: 10.1s\n",
      "598:\tlearn: 1464.3528816\ttotal: 15s\tremaining: 10.1s\n",
      "599:\tlearn: 1464.1832956\ttotal: 15.1s\tremaining: 10s\n",
      "600:\tlearn: 1464.0771497\ttotal: 15.1s\tremaining: 10s\n",
      "601:\tlearn: 1463.9381362\ttotal: 15.1s\tremaining: 10s\n",
      "602:\tlearn: 1463.6709423\ttotal: 15.2s\tremaining: 9.98s\n",
      "603:\tlearn: 1463.4908051\ttotal: 15.2s\tremaining: 9.95s\n",
      "604:\tlearn: 1463.3175555\ttotal: 15.2s\tremaining: 9.93s\n",
      "605:\tlearn: 1463.1154819\ttotal: 15.2s\tremaining: 9.91s\n",
      "606:\tlearn: 1462.9300951\ttotal: 15.3s\tremaining: 9.89s\n",
      "607:\tlearn: 1462.7578621\ttotal: 15.3s\tremaining: 9.86s\n",
      "608:\tlearn: 1462.6526329\ttotal: 15.3s\tremaining: 9.84s\n",
      "609:\tlearn: 1462.5517264\ttotal: 15.3s\tremaining: 9.81s\n",
      "610:\tlearn: 1462.4841594\ttotal: 15.4s\tremaining: 9.79s\n",
      "611:\tlearn: 1462.3008070\ttotal: 15.4s\tremaining: 9.76s\n"
     ]
    },
    {
     "name": "stdout",
     "output_type": "stream",
     "text": [
      "612:\tlearn: 1462.2409445\ttotal: 15.4s\tremaining: 9.74s\n",
      "613:\tlearn: 1462.0114220\ttotal: 15.4s\tremaining: 9.71s\n",
      "614:\tlearn: 1461.8391121\ttotal: 15.5s\tremaining: 9.69s\n",
      "615:\tlearn: 1461.6159894\ttotal: 15.5s\tremaining: 9.67s\n",
      "616:\tlearn: 1461.5308926\ttotal: 15.5s\tremaining: 9.65s\n",
      "617:\tlearn: 1461.3411273\ttotal: 15.6s\tremaining: 9.62s\n",
      "618:\tlearn: 1461.3190965\ttotal: 15.6s\tremaining: 9.6s\n",
      "619:\tlearn: 1461.1965511\ttotal: 15.6s\tremaining: 9.57s\n",
      "620:\tlearn: 1461.1746343\ttotal: 15.6s\tremaining: 9.54s\n",
      "621:\tlearn: 1461.1014330\ttotal: 15.7s\tremaining: 9.52s\n",
      "622:\tlearn: 1460.9935615\ttotal: 15.7s\tremaining: 9.49s\n",
      "623:\tlearn: 1460.9175477\ttotal: 15.7s\tremaining: 9.46s\n",
      "624:\tlearn: 1460.7702783\ttotal: 15.7s\tremaining: 9.44s\n",
      "625:\tlearn: 1460.4185181\ttotal: 15.8s\tremaining: 9.41s\n",
      "626:\tlearn: 1460.3854553\ttotal: 15.8s\tremaining: 9.39s\n",
      "627:\tlearn: 1460.2457859\ttotal: 15.8s\tremaining: 9.36s\n",
      "628:\tlearn: 1460.0811668\ttotal: 15.8s\tremaining: 9.34s\n",
      "629:\tlearn: 1460.0272168\ttotal: 15.9s\tremaining: 9.31s\n",
      "630:\tlearn: 1459.8947375\ttotal: 15.9s\tremaining: 9.29s\n",
      "631:\tlearn: 1459.8078998\ttotal: 15.9s\tremaining: 9.27s\n",
      "632:\tlearn: 1459.7302221\ttotal: 15.9s\tremaining: 9.24s\n",
      "633:\tlearn: 1459.5661083\ttotal: 16s\tremaining: 9.22s\n",
      "634:\tlearn: 1459.4581494\ttotal: 16s\tremaining: 9.2s\n",
      "635:\tlearn: 1459.3949167\ttotal: 16s\tremaining: 9.17s\n",
      "636:\tlearn: 1459.2293467\ttotal: 16.1s\tremaining: 9.15s\n",
      "637:\tlearn: 1459.1113873\ttotal: 16.1s\tremaining: 9.12s\n",
      "638:\tlearn: 1458.9524237\ttotal: 16.1s\tremaining: 9.1s\n",
      "639:\tlearn: 1458.8300486\ttotal: 16.1s\tremaining: 9.07s\n",
      "640:\tlearn: 1458.6901476\ttotal: 16.1s\tremaining: 9.04s\n",
      "641:\tlearn: 1458.6154123\ttotal: 16.2s\tremaining: 9.02s\n",
      "642:\tlearn: 1458.5596257\ttotal: 16.2s\tremaining: 8.99s\n",
      "643:\tlearn: 1458.5352381\ttotal: 16.2s\tremaining: 8.97s\n",
      "644:\tlearn: 1458.3866645\ttotal: 16.3s\tremaining: 8.95s\n",
      "645:\tlearn: 1458.0482200\ttotal: 16.3s\tremaining: 8.92s\n",
      "646:\tlearn: 1458.0119159\ttotal: 16.3s\tremaining: 8.9s\n",
      "647:\tlearn: 1457.8386438\ttotal: 16.3s\tremaining: 8.87s\n",
      "648:\tlearn: 1457.7875530\ttotal: 16.4s\tremaining: 8.85s\n",
      "649:\tlearn: 1457.6341447\ttotal: 16.4s\tremaining: 8.83s\n",
      "650:\tlearn: 1457.4246891\ttotal: 16.4s\tremaining: 8.8s\n",
      "651:\tlearn: 1457.3527502\ttotal: 16.4s\tremaining: 8.77s\n",
      "652:\tlearn: 1457.2513169\ttotal: 16.5s\tremaining: 8.75s\n",
      "653:\tlearn: 1457.2113742\ttotal: 16.5s\tremaining: 8.72s\n",
      "654:\tlearn: 1457.0930202\ttotal: 16.5s\tremaining: 8.7s\n",
      "655:\tlearn: 1456.9782778\ttotal: 16.5s\tremaining: 8.67s\n",
      "656:\tlearn: 1456.6664637\ttotal: 16.6s\tremaining: 8.65s\n",
      "657:\tlearn: 1456.5091209\ttotal: 16.6s\tremaining: 8.62s\n",
      "658:\tlearn: 1456.3651094\ttotal: 16.6s\tremaining: 8.6s\n",
      "659:\tlearn: 1456.1094172\ttotal: 16.6s\tremaining: 8.57s\n",
      "660:\tlearn: 1455.9505030\ttotal: 16.7s\tremaining: 8.54s\n",
      "661:\tlearn: 1455.8282479\ttotal: 16.7s\tremaining: 8.52s\n",
      "662:\tlearn: 1455.7468596\ttotal: 16.7s\tremaining: 8.49s\n",
      "663:\tlearn: 1455.6835395\ttotal: 16.7s\tremaining: 8.46s\n",
      "664:\tlearn: 1455.5478072\ttotal: 16.8s\tremaining: 8.44s\n",
      "665:\tlearn: 1455.4412262\ttotal: 16.8s\tremaining: 8.42s\n",
      "666:\tlearn: 1455.3989886\ttotal: 16.8s\tremaining: 8.39s\n",
      "667:\tlearn: 1455.2997279\ttotal: 16.8s\tremaining: 8.37s\n",
      "668:\tlearn: 1455.2254895\ttotal: 16.9s\tremaining: 8.34s\n",
      "669:\tlearn: 1455.0778528\ttotal: 16.9s\tremaining: 8.31s\n",
      "670:\tlearn: 1454.7326536\ttotal: 16.9s\tremaining: 8.29s\n",
      "671:\tlearn: 1454.6700386\ttotal: 16.9s\tremaining: 8.26s\n",
      "672:\tlearn: 1454.5920491\ttotal: 17s\tremaining: 8.24s\n",
      "673:\tlearn: 1454.3266552\ttotal: 17s\tremaining: 8.21s\n",
      "674:\tlearn: 1454.2093850\ttotal: 17s\tremaining: 8.19s\n",
      "675:\tlearn: 1454.1699029\ttotal: 17s\tremaining: 8.17s\n",
      "676:\tlearn: 1454.1380451\ttotal: 17.1s\tremaining: 8.14s\n",
      "677:\tlearn: 1453.8363014\ttotal: 17.1s\tremaining: 8.12s\n",
      "678:\tlearn: 1453.8262611\ttotal: 17.1s\tremaining: 8.09s\n",
      "679:\tlearn: 1453.7909659\ttotal: 17.1s\tremaining: 8.07s\n",
      "680:\tlearn: 1453.7148123\ttotal: 17.2s\tremaining: 8.05s\n",
      "681:\tlearn: 1453.5656998\ttotal: 17.2s\tremaining: 8.02s\n",
      "682:\tlearn: 1453.5594218\ttotal: 17.2s\tremaining: 8s\n",
      "683:\tlearn: 1453.5231082\ttotal: 17.3s\tremaining: 7.97s\n",
      "684:\tlearn: 1453.4738371\ttotal: 17.3s\tremaining: 7.95s\n",
      "685:\tlearn: 1453.4336215\ttotal: 17.3s\tremaining: 7.92s\n",
      "686:\tlearn: 1453.3062385\ttotal: 17.3s\tremaining: 7.89s\n",
      "687:\tlearn: 1453.0482197\ttotal: 17.3s\tremaining: 7.87s\n",
      "688:\tlearn: 1453.0080901\ttotal: 17.4s\tremaining: 7.84s\n",
      "689:\tlearn: 1452.9402066\ttotal: 17.4s\tremaining: 7.82s\n",
      "690:\tlearn: 1452.8098355\ttotal: 17.4s\tremaining: 7.79s\n",
      "691:\tlearn: 1452.5784100\ttotal: 17.4s\tremaining: 7.76s\n",
      "692:\tlearn: 1452.4982678\ttotal: 17.5s\tremaining: 7.74s\n",
      "693:\tlearn: 1452.4672977\ttotal: 17.5s\tremaining: 7.71s\n",
      "694:\tlearn: 1452.3153770\ttotal: 17.5s\tremaining: 7.69s\n",
      "695:\tlearn: 1452.1813296\ttotal: 17.6s\tremaining: 7.67s\n",
      "696:\tlearn: 1452.1616064\ttotal: 17.6s\tremaining: 7.65s\n",
      "697:\tlearn: 1451.9653522\ttotal: 17.6s\tremaining: 7.62s\n",
      "698:\tlearn: 1451.8898885\ttotal: 17.6s\tremaining: 7.6s\n",
      "699:\tlearn: 1451.7459189\ttotal: 17.7s\tremaining: 7.57s\n",
      "700:\tlearn: 1451.6675277\ttotal: 17.7s\tremaining: 7.54s\n",
      "701:\tlearn: 1451.5440839\ttotal: 17.7s\tremaining: 7.52s\n",
      "702:\tlearn: 1451.4864731\ttotal: 17.8s\tremaining: 7.5s\n",
      "703:\tlearn: 1451.4678731\ttotal: 17.8s\tremaining: 7.47s\n",
      "704:\tlearn: 1451.4153625\ttotal: 17.8s\tremaining: 7.45s\n",
      "705:\tlearn: 1451.3967792\ttotal: 17.8s\tremaining: 7.42s\n",
      "706:\tlearn: 1451.1809337\ttotal: 17.9s\tremaining: 7.4s\n",
      "707:\tlearn: 1451.1083706\ttotal: 17.9s\tremaining: 7.37s\n",
      "708:\tlearn: 1451.0998123\ttotal: 17.9s\tremaining: 7.35s\n",
      "709:\tlearn: 1451.0135140\ttotal: 17.9s\tremaining: 7.32s\n",
      "710:\tlearn: 1450.8825745\ttotal: 17.9s\tremaining: 7.29s\n",
      "711:\tlearn: 1450.7992054\ttotal: 18s\tremaining: 7.26s\n",
      "712:\tlearn: 1450.7225985\ttotal: 18s\tremaining: 7.24s\n",
      "713:\tlearn: 1450.5994871\ttotal: 18s\tremaining: 7.21s\n",
      "714:\tlearn: 1450.5920966\ttotal: 18s\tremaining: 7.19s\n",
      "715:\tlearn: 1450.4923187\ttotal: 18.1s\tremaining: 7.17s\n",
      "716:\tlearn: 1450.4177103\ttotal: 18.1s\tremaining: 7.14s\n",
      "717:\tlearn: 1450.3597331\ttotal: 18.1s\tremaining: 7.12s\n",
      "718:\tlearn: 1450.1721850\ttotal: 18.1s\tremaining: 7.09s\n",
      "719:\tlearn: 1450.0329025\ttotal: 18.2s\tremaining: 7.07s\n",
      "720:\tlearn: 1449.9829323\ttotal: 18.2s\tremaining: 7.04s\n",
      "721:\tlearn: 1449.6646056\ttotal: 18.2s\tremaining: 7.02s\n",
      "722:\tlearn: 1449.4998988\ttotal: 18.3s\tremaining: 6.99s\n",
      "723:\tlearn: 1449.4714286\ttotal: 18.3s\tremaining: 6.97s\n",
      "724:\tlearn: 1449.3148019\ttotal: 18.3s\tremaining: 6.94s\n",
      "725:\tlearn: 1449.2857351\ttotal: 18.3s\tremaining: 6.92s\n",
      "726:\tlearn: 1449.1797214\ttotal: 18.4s\tremaining: 6.89s\n",
      "727:\tlearn: 1449.0232659\ttotal: 18.4s\tremaining: 6.87s\n",
      "728:\tlearn: 1449.0040829\ttotal: 18.4s\tremaining: 6.85s\n",
      "729:\tlearn: 1448.9109091\ttotal: 18.4s\tremaining: 6.82s\n",
      "730:\tlearn: 1448.8260469\ttotal: 18.5s\tremaining: 6.8s\n",
      "731:\tlearn: 1448.7232365\ttotal: 18.5s\tremaining: 6.78s\n",
      "732:\tlearn: 1448.5213932\ttotal: 18.5s\tremaining: 6.75s\n",
      "733:\tlearn: 1448.4187372\ttotal: 18.6s\tremaining: 6.72s\n",
      "734:\tlearn: 1448.3271050\ttotal: 18.6s\tremaining: 6.7s\n",
      "735:\tlearn: 1448.1380644\ttotal: 18.6s\tremaining: 6.67s\n",
      "736:\tlearn: 1448.0121741\ttotal: 18.6s\tremaining: 6.65s\n",
      "737:\tlearn: 1447.8569723\ttotal: 18.6s\tremaining: 6.62s\n",
      "738:\tlearn: 1447.8143557\ttotal: 18.7s\tremaining: 6.59s\n",
      "739:\tlearn: 1447.7367886\ttotal: 18.7s\tremaining: 6.57s\n",
      "740:\tlearn: 1447.6453558\ttotal: 18.7s\tremaining: 6.54s\n",
      "741:\tlearn: 1447.5531798\ttotal: 18.7s\tremaining: 6.52s\n",
      "742:\tlearn: 1447.4727822\ttotal: 18.8s\tremaining: 6.49s\n",
      "743:\tlearn: 1447.3471939\ttotal: 18.8s\tremaining: 6.47s\n",
      "744:\tlearn: 1447.2281747\ttotal: 18.8s\tremaining: 6.44s\n",
      "745:\tlearn: 1447.1692813\ttotal: 18.9s\tremaining: 6.42s\n",
      "746:\tlearn: 1446.9851534\ttotal: 18.9s\tremaining: 6.39s\n",
      "747:\tlearn: 1446.9076153\ttotal: 18.9s\tremaining: 6.37s\n",
      "748:\tlearn: 1446.7863901\ttotal: 18.9s\tremaining: 6.34s\n",
      "749:\tlearn: 1446.7126347\ttotal: 19s\tremaining: 6.32s\n",
      "750:\tlearn: 1446.5505446\ttotal: 19s\tremaining: 6.3s\n",
      "751:\tlearn: 1446.4510217\ttotal: 19s\tremaining: 6.27s\n",
      "752:\tlearn: 1446.4156986\ttotal: 19s\tremaining: 6.25s\n",
      "753:\tlearn: 1446.2632004\ttotal: 19.1s\tremaining: 6.22s\n",
      "754:\tlearn: 1446.1871664\ttotal: 19.1s\tremaining: 6.2s\n",
      "755:\tlearn: 1446.0823541\ttotal: 19.1s\tremaining: 6.17s\n",
      "756:\tlearn: 1446.0414291\ttotal: 19.1s\tremaining: 6.15s\n",
      "757:\tlearn: 1445.7985090\ttotal: 19.2s\tremaining: 6.12s\n",
      "758:\tlearn: 1445.7084995\ttotal: 19.2s\tremaining: 6.09s\n",
      "759:\tlearn: 1445.6428234\ttotal: 19.2s\tremaining: 6.07s\n",
      "760:\tlearn: 1445.5207165\ttotal: 19.2s\tremaining: 6.04s\n",
      "761:\tlearn: 1445.4918665\ttotal: 19.3s\tremaining: 6.02s\n",
      "762:\tlearn: 1445.3080222\ttotal: 19.3s\tremaining: 5.99s\n",
      "763:\tlearn: 1445.2999935\ttotal: 19.3s\tremaining: 5.97s\n",
      "764:\tlearn: 1445.2626429\ttotal: 19.3s\tremaining: 5.94s\n",
      "765:\tlearn: 1445.0878162\ttotal: 19.4s\tremaining: 5.92s\n",
      "766:\tlearn: 1445.0015658\ttotal: 19.4s\tremaining: 5.89s\n",
      "767:\tlearn: 1444.9027126\ttotal: 19.4s\tremaining: 5.87s\n"
     ]
    },
    {
     "name": "stdout",
     "output_type": "stream",
     "text": [
      "768:\tlearn: 1444.7210249\ttotal: 19.5s\tremaining: 5.84s\n",
      "769:\tlearn: 1444.5882334\ttotal: 19.5s\tremaining: 5.82s\n",
      "770:\tlearn: 1444.4940249\ttotal: 19.5s\tremaining: 5.79s\n",
      "771:\tlearn: 1444.3480007\ttotal: 19.5s\tremaining: 5.77s\n",
      "772:\tlearn: 1444.2803581\ttotal: 19.6s\tremaining: 5.75s\n",
      "773:\tlearn: 1444.1389239\ttotal: 19.6s\tremaining: 5.72s\n",
      "774:\tlearn: 1444.0963487\ttotal: 19.6s\tremaining: 5.69s\n",
      "775:\tlearn: 1443.8875129\ttotal: 19.6s\tremaining: 5.67s\n",
      "776:\tlearn: 1443.8233628\ttotal: 19.7s\tremaining: 5.64s\n",
      "777:\tlearn: 1443.6234079\ttotal: 19.7s\tremaining: 5.62s\n",
      "778:\tlearn: 1443.5975748\ttotal: 19.7s\tremaining: 5.59s\n",
      "779:\tlearn: 1443.4765286\ttotal: 19.7s\tremaining: 5.56s\n",
      "780:\tlearn: 1443.4352892\ttotal: 19.8s\tremaining: 5.54s\n",
      "781:\tlearn: 1443.3906599\ttotal: 19.8s\tremaining: 5.51s\n",
      "782:\tlearn: 1443.2914291\ttotal: 19.8s\tremaining: 5.49s\n",
      "783:\tlearn: 1443.2883850\ttotal: 19.8s\tremaining: 5.46s\n",
      "784:\tlearn: 1443.2315514\ttotal: 19.8s\tremaining: 5.43s\n",
      "785:\tlearn: 1443.1821555\ttotal: 19.9s\tremaining: 5.41s\n",
      "786:\tlearn: 1443.0404021\ttotal: 19.9s\tremaining: 5.38s\n",
      "787:\tlearn: 1443.0344338\ttotal: 19.9s\tremaining: 5.36s\n",
      "788:\tlearn: 1442.9658001\ttotal: 19.9s\tremaining: 5.33s\n",
      "789:\tlearn: 1442.9530781\ttotal: 20s\tremaining: 5.31s\n",
      "790:\tlearn: 1442.8076907\ttotal: 20s\tremaining: 5.28s\n",
      "791:\tlearn: 1442.6053772\ttotal: 20s\tremaining: 5.26s\n",
      "792:\tlearn: 1442.4149746\ttotal: 20s\tremaining: 5.23s\n",
      "793:\tlearn: 1442.3475008\ttotal: 20.1s\tremaining: 5.21s\n",
      "794:\tlearn: 1442.3394389\ttotal: 20.1s\tremaining: 5.18s\n",
      "795:\tlearn: 1442.2611658\ttotal: 20.1s\tremaining: 5.16s\n",
      "796:\tlearn: 1442.1201679\ttotal: 20.2s\tremaining: 5.13s\n",
      "797:\tlearn: 1441.9880374\ttotal: 20.2s\tremaining: 5.11s\n",
      "798:\tlearn: 1441.9334706\ttotal: 20.2s\tremaining: 5.09s\n",
      "799:\tlearn: 1441.8823821\ttotal: 20.2s\tremaining: 5.06s\n",
      "800:\tlearn: 1441.8397933\ttotal: 20.3s\tremaining: 5.03s\n",
      "801:\tlearn: 1441.7845390\ttotal: 20.3s\tremaining: 5.01s\n",
      "802:\tlearn: 1441.7575646\ttotal: 20.3s\tremaining: 4.98s\n",
      "803:\tlearn: 1441.5988004\ttotal: 20.3s\tremaining: 4.96s\n",
      "804:\tlearn: 1441.5080849\ttotal: 20.4s\tremaining: 4.93s\n",
      "805:\tlearn: 1441.4603419\ttotal: 20.4s\tremaining: 4.91s\n",
      "806:\tlearn: 1441.3616316\ttotal: 20.4s\tremaining: 4.88s\n",
      "807:\tlearn: 1441.2957439\ttotal: 20.4s\tremaining: 4.86s\n",
      "808:\tlearn: 1441.0852297\ttotal: 20.5s\tremaining: 4.83s\n",
      "809:\tlearn: 1441.0719361\ttotal: 20.5s\tremaining: 4.81s\n",
      "810:\tlearn: 1440.9643550\ttotal: 20.5s\tremaining: 4.78s\n",
      "811:\tlearn: 1440.9105474\ttotal: 20.6s\tremaining: 4.76s\n",
      "812:\tlearn: 1440.7664728\ttotal: 20.6s\tremaining: 4.74s\n",
      "813:\tlearn: 1440.5817509\ttotal: 20.6s\tremaining: 4.71s\n",
      "814:\tlearn: 1440.5631854\ttotal: 20.6s\tremaining: 4.68s\n",
      "815:\tlearn: 1440.4129441\ttotal: 20.7s\tremaining: 4.66s\n",
      "816:\tlearn: 1440.2823376\ttotal: 20.7s\tremaining: 4.63s\n",
      "817:\tlearn: 1440.2537411\ttotal: 20.7s\tremaining: 4.61s\n",
      "818:\tlearn: 1440.1920435\ttotal: 20.7s\tremaining: 4.58s\n",
      "819:\tlearn: 1440.1362736\ttotal: 20.8s\tremaining: 4.56s\n",
      "820:\tlearn: 1440.0803400\ttotal: 20.8s\tremaining: 4.53s\n",
      "821:\tlearn: 1440.0358884\ttotal: 20.8s\tremaining: 4.51s\n",
      "822:\tlearn: 1439.9592724\ttotal: 20.8s\tremaining: 4.48s\n",
      "823:\tlearn: 1439.9248423\ttotal: 20.9s\tremaining: 4.46s\n",
      "824:\tlearn: 1439.8774322\ttotal: 20.9s\tremaining: 4.43s\n",
      "825:\tlearn: 1439.8390197\ttotal: 20.9s\tremaining: 4.41s\n",
      "826:\tlearn: 1439.7214415\ttotal: 20.9s\tremaining: 4.38s\n",
      "827:\tlearn: 1439.6642276\ttotal: 21s\tremaining: 4.36s\n",
      "828:\tlearn: 1439.5836767\ttotal: 21s\tremaining: 4.33s\n",
      "829:\tlearn: 1439.5510348\ttotal: 21s\tremaining: 4.3s\n",
      "830:\tlearn: 1439.4131352\ttotal: 21.1s\tremaining: 4.28s\n",
      "831:\tlearn: 1439.3515243\ttotal: 21.1s\tremaining: 4.25s\n",
      "832:\tlearn: 1439.1722281\ttotal: 21.1s\tremaining: 4.23s\n",
      "833:\tlearn: 1439.0902373\ttotal: 21.1s\tremaining: 4.21s\n",
      "834:\tlearn: 1439.0340384\ttotal: 21.1s\tremaining: 4.18s\n",
      "835:\tlearn: 1438.8504947\ttotal: 21.2s\tremaining: 4.15s\n",
      "836:\tlearn: 1438.8205774\ttotal: 21.2s\tremaining: 4.13s\n",
      "837:\tlearn: 1438.6881891\ttotal: 21.2s\tremaining: 4.1s\n",
      "838:\tlearn: 1438.6110017\ttotal: 21.2s\tremaining: 4.08s\n",
      "839:\tlearn: 1438.5735422\ttotal: 21.3s\tremaining: 4.05s\n",
      "840:\tlearn: 1438.5533713\ttotal: 21.3s\tremaining: 4.03s\n",
      "841:\tlearn: 1438.4750835\ttotal: 21.3s\tremaining: 4s\n",
      "842:\tlearn: 1438.3450077\ttotal: 21.3s\tremaining: 3.97s\n",
      "843:\tlearn: 1438.2895722\ttotal: 21.4s\tremaining: 3.95s\n",
      "844:\tlearn: 1438.1616621\ttotal: 21.4s\tremaining: 3.92s\n",
      "845:\tlearn: 1438.0235426\ttotal: 21.4s\tremaining: 3.9s\n",
      "846:\tlearn: 1437.8875727\ttotal: 21.4s\tremaining: 3.87s\n",
      "847:\tlearn: 1437.8422286\ttotal: 21.5s\tremaining: 3.85s\n",
      "848:\tlearn: 1437.7604995\ttotal: 21.5s\tremaining: 3.82s\n",
      "849:\tlearn: 1437.7036587\ttotal: 21.5s\tremaining: 3.79s\n",
      "850:\tlearn: 1437.5465315\ttotal: 21.5s\tremaining: 3.77s\n",
      "851:\tlearn: 1437.5390823\ttotal: 21.6s\tremaining: 3.75s\n",
      "852:\tlearn: 1437.4441629\ttotal: 21.6s\tremaining: 3.72s\n",
      "853:\tlearn: 1437.3264267\ttotal: 21.6s\tremaining: 3.69s\n",
      "854:\tlearn: 1437.2088368\ttotal: 21.6s\tremaining: 3.67s\n",
      "855:\tlearn: 1437.0454462\ttotal: 21.7s\tremaining: 3.64s\n",
      "856:\tlearn: 1436.9023340\ttotal: 21.7s\tremaining: 3.62s\n",
      "857:\tlearn: 1436.8789599\ttotal: 21.7s\tremaining: 3.59s\n",
      "858:\tlearn: 1436.8645205\ttotal: 21.7s\tremaining: 3.57s\n",
      "859:\tlearn: 1436.7536592\ttotal: 21.8s\tremaining: 3.54s\n",
      "860:\tlearn: 1436.6474968\ttotal: 21.8s\tremaining: 3.52s\n",
      "861:\tlearn: 1436.5658569\ttotal: 21.8s\tremaining: 3.49s\n",
      "862:\tlearn: 1436.4686204\ttotal: 21.8s\tremaining: 3.47s\n",
      "863:\tlearn: 1436.3761975\ttotal: 21.9s\tremaining: 3.44s\n",
      "864:\tlearn: 1436.3167344\ttotal: 21.9s\tremaining: 3.42s\n",
      "865:\tlearn: 1436.2964162\ttotal: 21.9s\tremaining: 3.39s\n",
      "866:\tlearn: 1436.2808267\ttotal: 21.9s\tremaining: 3.37s\n",
      "867:\tlearn: 1436.2496538\ttotal: 22s\tremaining: 3.34s\n",
      "868:\tlearn: 1436.1801424\ttotal: 22s\tremaining: 3.31s\n",
      "869:\tlearn: 1436.1381226\ttotal: 22s\tremaining: 3.29s\n",
      "870:\tlearn: 1436.1067382\ttotal: 22s\tremaining: 3.26s\n",
      "871:\tlearn: 1436.0038417\ttotal: 22.1s\tremaining: 3.24s\n",
      "872:\tlearn: 1435.9947594\ttotal: 22.1s\tremaining: 3.21s\n",
      "873:\tlearn: 1435.8236202\ttotal: 22.1s\tremaining: 3.19s\n",
      "874:\tlearn: 1435.6406915\ttotal: 22.1s\tremaining: 3.16s\n",
      "875:\tlearn: 1435.3997413\ttotal: 22.2s\tremaining: 3.14s\n",
      "876:\tlearn: 1435.3616801\ttotal: 22.2s\tremaining: 3.11s\n",
      "877:\tlearn: 1435.1133730\ttotal: 22.2s\tremaining: 3.09s\n",
      "878:\tlearn: 1434.9851026\ttotal: 22.2s\tremaining: 3.06s\n",
      "879:\tlearn: 1434.9438306\ttotal: 22.3s\tremaining: 3.04s\n",
      "880:\tlearn: 1434.8957908\ttotal: 22.3s\tremaining: 3.01s\n",
      "881:\tlearn: 1434.7833442\ttotal: 22.3s\tremaining: 2.98s\n",
      "882:\tlearn: 1434.7459169\ttotal: 22.3s\tremaining: 2.96s\n",
      "883:\tlearn: 1434.6546486\ttotal: 22.4s\tremaining: 2.93s\n",
      "884:\tlearn: 1434.5842220\ttotal: 22.4s\tremaining: 2.91s\n",
      "885:\tlearn: 1434.5244120\ttotal: 22.4s\tremaining: 2.88s\n",
      "886:\tlearn: 1434.4940005\ttotal: 22.4s\tremaining: 2.86s\n",
      "887:\tlearn: 1434.4662234\ttotal: 22.5s\tremaining: 2.83s\n",
      "888:\tlearn: 1434.3409553\ttotal: 22.5s\tremaining: 2.81s\n",
      "889:\tlearn: 1434.3349039\ttotal: 22.5s\tremaining: 2.78s\n",
      "890:\tlearn: 1434.2399156\ttotal: 22.5s\tremaining: 2.76s\n",
      "891:\tlearn: 1434.1326300\ttotal: 22.6s\tremaining: 2.73s\n",
      "892:\tlearn: 1434.0753189\ttotal: 22.6s\tremaining: 2.71s\n",
      "893:\tlearn: 1433.9200125\ttotal: 22.6s\tremaining: 2.68s\n",
      "894:\tlearn: 1433.8074021\ttotal: 22.6s\tremaining: 2.65s\n",
      "895:\tlearn: 1433.7344325\ttotal: 22.7s\tremaining: 2.63s\n",
      "896:\tlearn: 1433.6768263\ttotal: 22.7s\tremaining: 2.6s\n",
      "897:\tlearn: 1433.5317266\ttotal: 22.7s\tremaining: 2.58s\n",
      "898:\tlearn: 1433.4334076\ttotal: 22.7s\tremaining: 2.55s\n",
      "899:\tlearn: 1433.3488071\ttotal: 22.8s\tremaining: 2.53s\n",
      "900:\tlearn: 1433.3087358\ttotal: 22.8s\tremaining: 2.5s\n",
      "901:\tlearn: 1433.0597165\ttotal: 22.8s\tremaining: 2.48s\n",
      "902:\tlearn: 1432.9627442\ttotal: 22.9s\tremaining: 2.45s\n",
      "903:\tlearn: 1432.8694054\ttotal: 22.9s\tremaining: 2.43s\n",
      "904:\tlearn: 1432.7880833\ttotal: 22.9s\tremaining: 2.4s\n",
      "905:\tlearn: 1432.6799919\ttotal: 22.9s\tremaining: 2.38s\n",
      "906:\tlearn: 1432.5044985\ttotal: 22.9s\tremaining: 2.35s\n",
      "907:\tlearn: 1432.3293174\ttotal: 23s\tremaining: 2.33s\n",
      "908:\tlearn: 1432.2466621\ttotal: 23s\tremaining: 2.3s\n",
      "909:\tlearn: 1432.1833541\ttotal: 23s\tremaining: 2.28s\n",
      "910:\tlearn: 1432.1307920\ttotal: 23.1s\tremaining: 2.25s\n",
      "911:\tlearn: 1432.0997673\ttotal: 23.1s\tremaining: 2.23s\n",
      "912:\tlearn: 1432.0470666\ttotal: 23.1s\tremaining: 2.2s\n",
      "913:\tlearn: 1431.9351274\ttotal: 23.1s\tremaining: 2.18s\n",
      "914:\tlearn: 1431.8451152\ttotal: 23.2s\tremaining: 2.15s\n",
      "915:\tlearn: 1431.7132232\ttotal: 23.2s\tremaining: 2.13s\n",
      "916:\tlearn: 1431.5978153\ttotal: 23.2s\tremaining: 2.1s\n",
      "917:\tlearn: 1431.4130458\ttotal: 23.2s\tremaining: 2.08s\n",
      "918:\tlearn: 1431.3687670\ttotal: 23.3s\tremaining: 2.05s\n",
      "919:\tlearn: 1431.2139050\ttotal: 23.3s\tremaining: 2.02s\n",
      "920:\tlearn: 1431.1566924\ttotal: 23.3s\tremaining: 2s\n"
     ]
    },
    {
     "name": "stdout",
     "output_type": "stream",
     "text": [
      "921:\tlearn: 1431.1112962\ttotal: 23.4s\tremaining: 1.98s\n",
      "922:\tlearn: 1431.0597648\ttotal: 23.4s\tremaining: 1.95s\n",
      "923:\tlearn: 1431.0354230\ttotal: 23.4s\tremaining: 1.93s\n",
      "924:\tlearn: 1430.9771916\ttotal: 23.4s\tremaining: 1.9s\n",
      "925:\tlearn: 1430.8634195\ttotal: 23.4s\tremaining: 1.87s\n",
      "926:\tlearn: 1430.7365907\ttotal: 23.5s\tremaining: 1.85s\n",
      "927:\tlearn: 1430.5864620\ttotal: 23.5s\tremaining: 1.82s\n",
      "928:\tlearn: 1430.5149968\ttotal: 23.5s\tremaining: 1.8s\n",
      "929:\tlearn: 1430.3972268\ttotal: 23.6s\tremaining: 1.77s\n",
      "930:\tlearn: 1430.1591250\ttotal: 23.6s\tremaining: 1.75s\n",
      "931:\tlearn: 1429.9863940\ttotal: 23.6s\tremaining: 1.72s\n",
      "932:\tlearn: 1429.9470537\ttotal: 23.6s\tremaining: 1.7s\n",
      "933:\tlearn: 1429.8507397\ttotal: 23.7s\tremaining: 1.67s\n",
      "934:\tlearn: 1429.7823057\ttotal: 23.7s\tremaining: 1.65s\n",
      "935:\tlearn: 1429.7287566\ttotal: 23.7s\tremaining: 1.62s\n",
      "936:\tlearn: 1429.6601240\ttotal: 23.7s\tremaining: 1.59s\n",
      "937:\tlearn: 1429.6141921\ttotal: 23.8s\tremaining: 1.57s\n",
      "938:\tlearn: 1429.4633768\ttotal: 23.8s\tremaining: 1.54s\n",
      "939:\tlearn: 1429.4468509\ttotal: 23.8s\tremaining: 1.52s\n",
      "940:\tlearn: 1429.3403165\ttotal: 23.8s\tremaining: 1.49s\n",
      "941:\tlearn: 1429.3367850\ttotal: 23.8s\tremaining: 1.47s\n",
      "942:\tlearn: 1429.3042942\ttotal: 23.9s\tremaining: 1.44s\n",
      "943:\tlearn: 1429.2363209\ttotal: 23.9s\tremaining: 1.42s\n",
      "944:\tlearn: 1429.2292115\ttotal: 23.9s\tremaining: 1.39s\n",
      "945:\tlearn: 1429.1529215\ttotal: 23.9s\tremaining: 1.37s\n",
      "946:\tlearn: 1429.0944858\ttotal: 24s\tremaining: 1.34s\n",
      "947:\tlearn: 1429.0388806\ttotal: 24s\tremaining: 1.32s\n",
      "948:\tlearn: 1428.9852398\ttotal: 24s\tremaining: 1.29s\n",
      "949:\tlearn: 1428.9602130\ttotal: 24s\tremaining: 1.26s\n",
      "950:\tlearn: 1428.8602768\ttotal: 24.1s\tremaining: 1.24s\n",
      "951:\tlearn: 1428.7738573\ttotal: 24.1s\tremaining: 1.21s\n",
      "952:\tlearn: 1428.6908269\ttotal: 24.1s\tremaining: 1.19s\n",
      "953:\tlearn: 1428.6222991\ttotal: 24.1s\tremaining: 1.16s\n",
      "954:\tlearn: 1428.6011815\ttotal: 24.2s\tremaining: 1.14s\n",
      "955:\tlearn: 1428.4809848\ttotal: 24.2s\tremaining: 1.11s\n",
      "956:\tlearn: 1428.4000937\ttotal: 24.2s\tremaining: 1.09s\n",
      "957:\tlearn: 1428.2655163\ttotal: 24.2s\tremaining: 1.06s\n",
      "958:\tlearn: 1428.2455787\ttotal: 24.3s\tremaining: 1.04s\n",
      "959:\tlearn: 1428.2405072\ttotal: 24.3s\tremaining: 1.01s\n",
      "960:\tlearn: 1428.1415863\ttotal: 24.3s\tremaining: 986ms\n",
      "961:\tlearn: 1428.0383708\ttotal: 24.3s\tremaining: 961ms\n",
      "962:\tlearn: 1427.9731149\ttotal: 24.4s\tremaining: 936ms\n",
      "963:\tlearn: 1427.9328179\ttotal: 24.4s\tremaining: 910ms\n",
      "964:\tlearn: 1427.8167282\ttotal: 24.4s\tremaining: 885ms\n",
      "965:\tlearn: 1427.6167385\ttotal: 24.4s\tremaining: 860ms\n",
      "966:\tlearn: 1427.5376714\ttotal: 24.4s\tremaining: 834ms\n",
      "967:\tlearn: 1427.4723078\ttotal: 24.5s\tremaining: 809ms\n",
      "968:\tlearn: 1427.3779727\ttotal: 24.5s\tremaining: 784ms\n",
      "969:\tlearn: 1427.2534906\ttotal: 24.5s\tremaining: 758ms\n",
      "970:\tlearn: 1427.1677351\ttotal: 24.5s\tremaining: 733ms\n",
      "971:\tlearn: 1427.0602376\ttotal: 24.6s\tremaining: 708ms\n",
      "972:\tlearn: 1426.9632085\ttotal: 24.6s\tremaining: 682ms\n",
      "973:\tlearn: 1426.9222165\ttotal: 24.6s\tremaining: 657ms\n",
      "974:\tlearn: 1426.7394858\ttotal: 24.6s\tremaining: 632ms\n",
      "975:\tlearn: 1426.6440271\ttotal: 24.7s\tremaining: 607ms\n",
      "976:\tlearn: 1426.5832818\ttotal: 24.7s\tremaining: 581ms\n",
      "977:\tlearn: 1426.5703450\ttotal: 24.7s\tremaining: 556ms\n",
      "978:\tlearn: 1426.5233178\ttotal: 24.7s\tremaining: 531ms\n",
      "979:\tlearn: 1426.4250598\ttotal: 24.8s\tremaining: 506ms\n",
      "980:\tlearn: 1426.4220758\ttotal: 24.8s\tremaining: 480ms\n",
      "981:\tlearn: 1426.3813862\ttotal: 24.8s\tremaining: 455ms\n",
      "982:\tlearn: 1426.2909193\ttotal: 24.8s\tremaining: 430ms\n",
      "983:\tlearn: 1426.2326389\ttotal: 24.9s\tremaining: 404ms\n",
      "984:\tlearn: 1426.1770038\ttotal: 24.9s\tremaining: 379ms\n",
      "985:\tlearn: 1426.0352035\ttotal: 24.9s\tremaining: 354ms\n",
      "986:\tlearn: 1426.0137055\ttotal: 24.9s\tremaining: 328ms\n",
      "987:\tlearn: 1425.9498072\ttotal: 25s\tremaining: 303ms\n",
      "988:\tlearn: 1425.8675473\ttotal: 25s\tremaining: 278ms\n",
      "989:\tlearn: 1425.7012667\ttotal: 25s\tremaining: 253ms\n",
      "990:\tlearn: 1425.6710929\ttotal: 25s\tremaining: 227ms\n",
      "991:\tlearn: 1425.5924695\ttotal: 25s\tremaining: 202ms\n",
      "992:\tlearn: 1425.5733261\ttotal: 25.1s\tremaining: 177ms\n",
      "993:\tlearn: 1425.5312848\ttotal: 25.1s\tremaining: 151ms\n",
      "994:\tlearn: 1425.3845851\ttotal: 25.1s\tremaining: 126ms\n",
      "995:\tlearn: 1425.3375996\ttotal: 25.1s\tremaining: 101ms\n",
      "996:\tlearn: 1425.2724667\ttotal: 25.2s\tremaining: 75.7ms\n",
      "997:\tlearn: 1425.1370608\ttotal: 25.2s\tremaining: 50.5ms\n",
      "998:\tlearn: 1425.0359900\ttotal: 25.2s\tremaining: 25.2ms\n",
      "999:\tlearn: 1424.9247690\ttotal: 25.2s\tremaining: 0us\n",
      "Train time(s): 25.639, Prediction time (s): 0.053, RMSE: 1473.558\n"
     ]
    },
    {
     "data": {
      "text/plain": [
       "[25.639, 0.053, 1473.558]"
      ]
     },
     "execution_count": 50,
     "metadata": {},
     "output_type": "execute_result"
    }
   ],
   "source": [
    "model_4 = PredictionModel(CatBoostRegressor(), cat_features=cat_cols)\n",
    "model_4.train(X_train, y_train)\n",
    "model_4.predict(y_test)\n",
    "model_4.rmse()\n",
    "model_4.get_data()"
   ]
  },
  {
   "cell_type": "code",
   "execution_count": 51,
   "id": "618f93bb",
   "metadata": {},
   "outputs": [
    {
     "data": {
      "image/png": "[encoded data removed]",
      "text/plain": [
       "<Figure size 432x288 with 1 Axes>"
      ]
     },
     "metadata": {
      "needs_background": "light"
     },
     "output_type": "display_data"
    }
   ],
   "source": [
    "model_4.get_graph()"
   ]
  },
  {
   "cell_type": "markdown",
   "id": "a037da7b",
   "metadata": {},
   "source": [
    "## LinearRegression (Model 5)"
   ]
  },
  {
   "cell_type": "code",
   "execution_count": 52,
   "id": "bc3cb690",
   "metadata": {},
   "outputs": [
    {
     "name": "stdout",
     "output_type": "stream",
     "text": [
      "Train time(s): 2.593, Prediction time (s): 0.041, RMSE: 2239.599\n"
     ]
    },
    {
     "data": {
      "text/plain": [
       "[2.593, 0.041, 2239.599]"
      ]
     },
     "execution_count": 52,
     "metadata": {},
     "output_type": "execute_result"
    }
   ],
   "source": [
    "df_lm = df.copy()\n",
    "\n",
    "df_lm = pd.get_dummies(df_lm, drop_first=True)\n",
    "\n",
    "X = df_lm.drop('price', axis=1)\n",
    "y = df_lm['price']\n",
    "\n",
    "X_train, X_test, y_train, y_test = train_test_split(X, y, test_size=0.2, random_state=0)\n",
    "\n",
    "model_5 = PredictionModel(LinearRegression())\n",
    "model_5.train(X_train, y_train)\n",
    "model_5.predict(y_test)\n",
    "model_5.rmse()\n",
    "model_5.get_data()"
   ]
  },
  {
   "cell_type": "markdown",
   "id": "679be8aa",
   "metadata": {},
   "source": [
    "## Final table"
   ]
  },
  {
   "cell_type": "code",
   "execution_count": 53,
   "id": "b6e9afa1",
   "metadata": {},
   "outputs": [
    {
     "name": "stdout",
     "output_type": "stream",
     "text": [
      "Train time(s): 0.374, Prediction time (s): 0.056, RMSE: 1483.12\n",
      "Train time(s): 1.714, Prediction time (s): 0.173, RMSE: 1396.369\n",
      "Train time(s): 2.096, Prediction time (s): 0.208, RMSE: 1394.644\n",
      "Train time(s): 2.836, Prediction time (s): 0.29, RMSE: 1391.751\n",
      "Train time(s): 25.639, Prediction time (s): 0.053, RMSE: 1473.558\n",
      "Train time(s): 2.593, Prediction time (s): 0.041, RMSE: 2239.599\n"
     ]
    }
   ],
   "source": [
    "df_models = pd.DataFrame(data=[model_0.get_data(), \n",
    "                               model_1.get_data(), \n",
    "                               model_2.get_data(), \n",
    "                               model_3.get_data(), \n",
    "                               model_4.get_data(), \n",
    "                               model_5.get_data()], \n",
    "                         columns=['Time train (s)', 'Time predict (s)', 'RMSE'], \n",
    "                         index=['Model 0', 'Model 1', 'Model 2', 'Model 3', 'Model 4', 'Model 5'])"
   ]
  },
  {
   "cell_type": "code",
   "execution_count": 54,
   "id": "a53c0351",
   "metadata": {},
   "outputs": [
    {
     "data": {
      "text/html": [
       "<div>\n",
       "<style scoped>\n",
       "    .dataframe tbody tr th:only-of-type {\n",
       "        vertical-align: middle;\n",
       "    }\n",
       "\n",
       "    .dataframe tbody tr th {\n",
       "        vertical-align: top;\n",
       "    }\n",
       "\n",
       "    .dataframe thead th {\n",
       "        text-align: right;\n",
       "    }\n",
       "</style>\n",
       "<table border=\"1\" class=\"dataframe\">\n",
       "  <thead>\n",
       "    <tr style=\"text-align: right;\">\n",
       "      <th></th>\n",
       "      <th>Time train (s)</th>\n",
       "      <th>Time predict (s)</th>\n",
       "      <th>RMSE</th>\n",
       "    </tr>\n",
       "  </thead>\n",
       "  <tbody>\n",
       "    <tr>\n",
       "      <th>Model 0</th>\n",
       "      <td>0.374</td>\n",
       "      <td>0.056</td>\n",
       "      <td>1483.120</td>\n",
       "    </tr>\n",
       "    <tr>\n",
       "      <th>Model 1</th>\n",
       "      <td>1.714</td>\n",
       "      <td>0.173</td>\n",
       "      <td>1396.369</td>\n",
       "    </tr>\n",
       "    <tr>\n",
       "      <th>Model 2</th>\n",
       "      <td>2.096</td>\n",
       "      <td>0.208</td>\n",
       "      <td>1394.644</td>\n",
       "    </tr>\n",
       "    <tr>\n",
       "      <th>Model 3</th>\n",
       "      <td>2.836</td>\n",
       "      <td>0.290</td>\n",
       "      <td>1391.751</td>\n",
       "    </tr>\n",
       "    <tr>\n",
       "      <th>Model 4</th>\n",
       "      <td>25.639</td>\n",
       "      <td>0.053</td>\n",
       "      <td>1473.558</td>\n",
       "    </tr>\n",
       "    <tr>\n",
       "      <th>Model 5</th>\n",
       "      <td>2.593</td>\n",
       "      <td>0.041</td>\n",
       "      <td>2239.599</td>\n",
       "    </tr>\n",
       "  </tbody>\n",
       "</table>\n",
       "</div>"
      ],
      "text/plain": [
       "         Time train (s)  Time predict (s)      RMSE\n",
       "Model 0           0.374             0.056  1483.120\n",
       "Model 1           1.714             0.173  1396.369\n",
       "Model 2           2.096             0.208  1394.644\n",
       "Model 3           2.836             0.290  1391.751\n",
       "Model 4          25.639             0.053  1473.558\n",
       "Model 5           2.593             0.041  2239.599"
      ]
     },
     "metadata": {},
     "output_type": "display_data"
    }
   ],
   "source": [
    "display(df_models)"
   ]
  },
  {
   "cell_type": "markdown",
   "id": "1ddc1a17",
   "metadata": {},
   "source": [
    "## Conclusion"
   ]
  },
  {
   "cell_type": "markdown",
   "id": "5f4d3cff",
   "metadata": {},
   "source": [
    "Вывод.  \n",
    "Данные были изучены и почищены. Были обучены разные модели и получена таблица для сравнения параметров и оптимального выбора среди данных моделей."
   ]
  }
 ],
 "metadata": {
  "ExecuteTimeLog": [
   {
    "duration": 2545,
    "start_time": "2022-04-25T20:36:52.102Z"
   },
   {
    "duration": 774,
    "start_time": "2022-04-25T20:36:54.649Z"
   },
   {
    "duration": 94,
    "start_time": "2022-04-25T20:36:55.424Z"
   },
   {
    "duration": 927,
    "start_time": "2022-04-25T20:36:55.520Z"
   },
   {
    "duration": 37,
    "start_time": "2022-04-25T20:36:56.449Z"
   },
   {
    "duration": 85,
    "start_time": "2022-04-25T20:36:56.487Z"
   },
   {
    "duration": 176,
    "start_time": "2022-04-25T20:36:56.574Z"
   },
   {
    "duration": 2,
    "start_time": "2022-04-25T20:36:56.752Z"
   },
   {
    "duration": 110,
    "start_time": "2022-04-25T20:36:56.755Z"
   },
   {
    "duration": 62,
    "start_time": "2022-04-25T20:36:56.867Z"
   },
   {
    "duration": 1187,
    "start_time": "2022-04-25T20:36:56.931Z"
   },
   {
    "duration": 45,
    "start_time": "2022-04-25T20:36:58.120Z"
   },
   {
    "duration": 122,
    "start_time": "2022-04-25T20:36:58.166Z"
   },
   {
    "duration": 3,
    "start_time": "2022-04-25T20:36:58.290Z"
   },
   {
    "duration": 5,
    "start_time": "2022-04-25T20:36:58.295Z"
   },
   {
    "duration": 334950,
    "start_time": "2022-04-25T20:36:58.302Z"
   },
   {
    "duration": 764620,
    "start_time": "2022-04-25T20:42:33.254Z"
   },
   {
    "duration": 0,
    "start_time": "2022-04-25T20:55:17.875Z"
   },
   {
    "duration": 0,
    "start_time": "2022-04-25T20:55:17.876Z"
   },
   {
    "duration": 0,
    "start_time": "2022-04-25T20:55:17.877Z"
   },
   {
    "duration": 0,
    "start_time": "2022-04-25T20:55:17.878Z"
   },
   {
    "duration": 0,
    "start_time": "2022-04-25T20:55:17.879Z"
   },
   {
    "duration": 0,
    "start_time": "2022-04-25T20:55:17.881Z"
   },
   {
    "duration": 0,
    "start_time": "2022-04-25T20:55:17.882Z"
   },
   {
    "duration": 4,
    "start_time": "2022-04-25T21:01:23.201Z"
   },
   {
    "duration": 19,
    "start_time": "2022-04-25T21:01:36.012Z"
   },
   {
    "duration": 12,
    "start_time": "2022-04-25T21:02:01.475Z"
   },
   {
    "duration": 270,
    "start_time": "2022-04-25T21:02:19.904Z"
   },
   {
    "duration": 4,
    "start_time": "2022-04-25T21:02:38.589Z"
   }
  ],
  "kernelspec": {
   "display_name": "Python 3 (ipykernel)",
   "language": "python",
   "name": "python3"
  },
  "language_info": {
   "codemirror_mode": {
    "name": "ipython",
    "version": 3
   },
   "file_extension": ".py",
   "mimetype": "text/x-python",
   "name": "python",
   "nbconvert_exporter": "python",
   "pygments_lexer": "ipython3",
   "version": "3.9.9"
  },
  "toc": {
   "base_numbering": 1,
   "nav_menu": {},
   "number_sections": true,
   "sideBar": true,
   "skip_h1_title": false,
   "title_cell": "Table of Contents",
   "title_sidebar": "Contents",
   "toc_cell": false,
   "toc_position": {},
   "toc_section_display": true,
   "toc_window_display": true
  }
 },
 "nbformat": 4,
 "nbformat_minor": 5
}
